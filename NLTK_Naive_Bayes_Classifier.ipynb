{
  "cells": [
    {
      "cell_type": "code",
      "execution_count": 1,
      "metadata": {
        "id": "OSUb-q1WNDQx"
      },
      "outputs": [],
      "source": [
        "# Notebook: NLTK Naive Bayes Classifier\n",
        "# Author: Thomas Purk\n",
        "# Date: 2025-03-31\n",
        "# Reference: https://www.nltk.org/howto/classify.html\n",
        "# Reference: https://en.wikipedia.org/wiki/Naive_Bayes_classifier\n",
        "# Reference: https://www.udemy.com/certificate/UC-a9c3a1ee-f780-447f-8bdf-5a9c2afb8dd0/"
      ]
    },
    {
      "cell_type": "code",
      "execution_count": 2,
      "metadata": {
        "colab": {
          "base_uri": "https://localhost:8080/"
        },
        "id": "JkRawiQmOTBt",
        "outputId": "8a63a997-d24e-486a-9d94-9261ebd3d3de"
      },
      "outputs": [
        {
          "output_type": "stream",
          "name": "stdout",
          "text": [
            "nltk                               3.9.1\n"
          ]
        }
      ],
      "source": [
        "!pip list | grep nltk"
      ]
    },
    {
      "cell_type": "markdown",
      "metadata": {
        "id": "6zLzJMeBOjnQ"
      },
      "source": [
        "# NLTK Naive Bayes Classifier\n",
        "\n",
        "> Naive Bayes is a simple technique for constructing classifiers: models that assign class labels to problem instances, represented as vectors of feature values, where the class labels are drawn from some finite set. There is not a single algorithm for training such classifiers, but a family of algorithms based on a common principle: all naive Bayes classifiers assume that the value of a particular feature is independent of the value of any other feature, given the class variable. For example, a fruit may be considered to be an apple if it is red, round, and about 10 cm in diameter. A naive Bayes classifier considers each of these features to contribute independently to the probability that this fruit is an apple, regardless of any possible correlations between the color, roundness, and diameter features.\n",
        "\n",
        "https://en.wikipedia.org/wiki/Naive_Bayes_classifier\n",
        "\n",
        "> Classifiers label tokens with category labels (or class labels). Typically, labels are represented with strings (such as \"health\" or \"sports\". In NLTK, classifiers are defined using classes that implement the ClassifierI interface, which supports the following operations:\n",
        "\n",
        "https://www.nltk.org/howto/classify.html\n"
      ]
    },
    {
      "cell_type": "code",
      "execution_count": 3,
      "metadata": {
        "id": "88N1Rj74OWDu"
      },
      "outputs": [],
      "source": [
        "# Notebook Setup\n",
        "import string\n",
        "\n",
        "# Data, Science, & Math\n",
        "import numpy as np\n",
        "import pandas as pd\n",
        "import random\n",
        "\n",
        "# Visualization\n",
        "from IPython.display import display, HTML\n",
        "import matplotlib.pyplot as plt\n",
        "import seaborn as sns\n",
        "sns.set_style('whitegrid')\n",
        "\n",
        "# Add for better Jupyter Notebook compatibility\n",
        "%matplotlib inline\n",
        "\n",
        "# NLP\n",
        "import nltk\n",
        "from nltk.corpus import movie_reviews\n",
        "from nltk.corpus import stopwords\n",
        "from nltk.classify import NaiveBayesClassifier\n",
        "from nltk.classify.util import accuracy\n",
        "\n",
        "# Prevent Pandas and other warnings from displaying above outputcells, improve readability\n",
        "import warnings\n",
        "warnings.filterwarnings('ignore')\n",
        "#warnings.filterwarnings(action='once') # See warnings one time#"
      ]
    },
    {
      "cell_type": "code",
      "execution_count": 4,
      "metadata": {
        "colab": {
          "base_uri": "https://localhost:8080/"
        },
        "id": "NrEgEoHtQQW6",
        "outputId": "0ee6df01-6cf4-4467-a762-6c2e8d9868a9"
      },
      "outputs": [
        {
          "output_type": "stream",
          "name": "stderr",
          "text": [
            "[nltk_data] Downloading package movie_reviews to /root/nltk_data...\n",
            "[nltk_data]   Package movie_reviews is already up-to-date!\n"
          ]
        },
        {
          "output_type": "execute_result",
          "data": {
            "text/plain": [
              "<CategorizedPlaintextCorpusReader in '/root/nltk_data/corpora/movie_reviews'>"
            ]
          },
          "metadata": {},
          "execution_count": 4
        }
      ],
      "source": [
        "# Load Data\n",
        "nltk.download('movie_reviews')\n",
        "\n",
        "# Validate\n",
        "movie_reviews"
      ]
    },
    {
      "cell_type": "code",
      "source": [
        "# Download stopwords if not already available\n",
        "nltk.download('stopwords')\n",
        "\n",
        "# Load English stopwords\n",
        "stop_words = set(stopwords.words('english'))\n",
        "\n",
        "# Validate\n",
        "list(stop_words)[:10]"
      ],
      "metadata": {
        "colab": {
          "base_uri": "https://localhost:8080/"
        },
        "id": "V1ZnRoUXpW3D",
        "outputId": "df5edf38-8f55-4c84-b110-d9305b2e1caa"
      },
      "execution_count": 5,
      "outputs": [
        {
          "output_type": "stream",
          "name": "stderr",
          "text": [
            "[nltk_data] Downloading package stopwords to /root/nltk_data...\n",
            "[nltk_data]   Package stopwords is already up-to-date!\n"
          ]
        },
        {
          "output_type": "execute_result",
          "data": {
            "text/plain": [
              "[\"isn't\", 'mightn', \"i'm\", \"we'd\", 'below', 'or', 'our', 'been', 'few', 'him']"
            ]
          },
          "metadata": {},
          "execution_count": 5
        }
      ]
    },
    {
      "cell_type": "code",
      "execution_count": 6,
      "metadata": {
        "colab": {
          "base_uri": "https://localhost:8080/"
        },
        "id": "JX6HOxqvQaVV",
        "outputId": "7f259bd0-8da7-4b7a-e61e-25f96b04ecd0"
      },
      "outputs": [
        {
          "output_type": "stream",
          "name": "stdout",
          "text": [
            "Categories: ['neg', 'pos']\n",
            "Field Ids (len): 2000\n",
            "First neg Field Id: neg/cv000_29416.txt\n",
            "First pos Field Id: pos/cv000_29590.txt\n"
          ]
        }
      ],
      "source": [
        "# Investigate the Corpus\n",
        "print(f'Categories: {movie_reviews.categories()}')\n",
        "print(f'Field Ids (len): {len(movie_reviews.fileids())}')\n",
        "print(f'First neg Field Id: {movie_reviews.fileids(\"neg\")[0]}')\n",
        "print(f'First pos Field Id: {movie_reviews.fileids(\"pos\")[0]}')\n",
        "#print(f'Citation: {movie_reviews.citation()}') # does not exist, error\n",
        "#print(f'Categories: {movie_reviews.license()}')# does not exist, error\n"
      ]
    },
    {
      "cell_type": "code",
      "source": [
        "# 2 example documents\n",
        "print(f'First \"neg\" doc: {movie_reviews.words(\"neg/cv000_29416.txt\")}')\n",
        "print(f'First \"pos\" doc: {movie_reviews.words(\"pos/cv000_29590.txt\")}')\n"
      ],
      "metadata": {
        "colab": {
          "base_uri": "https://localhost:8080/"
        },
        "id": "om615GTSUVzt",
        "outputId": "45571a97-5576-403b-afef-9c17bad246a7"
      },
      "execution_count": 7,
      "outputs": [
        {
          "output_type": "stream",
          "name": "stdout",
          "text": [
            "First \"neg\" doc: ['plot', ':', 'two', 'teen', 'couples', 'go', 'to', ...]\n",
            "First \"pos\" doc: ['films', 'adapted', 'from', 'comic', 'books', 'have', ...]\n"
          ]
        }
      ]
    },
    {
      "cell_type": "code",
      "execution_count": 8,
      "metadata": {
        "id": "5G5lxQudTIzK",
        "colab": {
          "base_uri": "https://localhost:8080/"
        },
        "outputId": "af285be5-a671-4860-d0de-e35f15312256"
      },
      "outputs": [
        {
          "output_type": "stream",
          "name": "stdout",
          "text": [
            "Docs loaded : 2000\n",
            "Example Doc : (['\"', 'first', 'rule', 'of', 'fight', 'club', 'is', ',', 'don', \"'\", 't', 'talk', 'about', 'fight', 'club', '.', '\"', 'this', 'quote', 'deals', 'directly', 'with', 'my', 'opinion', 'of', 'this', 'film', ',', 'because', 'quite', 'frankly', ',', 'it', \"'\", 's', 'not', 'even', 'worth', 'mentioning', '.', 'director', 'david', 'fincher', '(', 'seven', ')', 'has', 'completely', 'gone', 'over', 'the', 'edge', '.', 'with', 'crude', 'humor', ',', 'an', 'intolerable', 'script', 'and', '2', 'hours', 'and', '19', 'minutes', 'of', 'pure', 'torture', ',', 'i', \"'\", 'm', 'surprised', 'i', 'didn', \"'\", 't', 'walk', 'out', '.', 'this', 'just', 'goes', 'to', 'show', 'that', 'hype', 'kills', '.', 'it', \"'\", 's', 'very', 'rare', 'that', 'a', 'film', 'so', 'hyped', 'up', 'as', '\"', 'fight', 'club', '\"', 'turns', 'out', 'to', 'be', 'noteworthy', ',', 'and', 'this', 'is', 'no', 'exception', '.', 'the', 'story', 'goes', 'like', 'this', '.', 'edward', 'norton', 'is', 'an', 'insomniac', 'trying', 'to', 'enlighten', 'his', 'dull', 'life', 'by', 'going', 'to', 'a', 'variety', 'of', 'disease', 'therapy', 'sessions', ',', 'until', 'he', 'meets', 'marla', '(', 'helena', 'bonham', 'carter', ')', '.', 'norton', 'claims', 'that', 'she', 'is', 'wrecking', 'his', 'pleasurable', 'lifestyle', ',', 'when', 'he', 'spots', 'her', 'at', 'a', 'session', 'that', 'he', 'also', 'attended', '.', 'apparently', 'the', 'disease', 'sessions', 'help', 'them', 'see', 'what', 'life', 'is', 'like', ',', 'literally', 'living', 'in', 'pain', '.', 'why', 'any', 'person', 'would', 'think', 'of', 'such', 'a', 'thing', 'is', 'beyond', 'me', ',', 'but', 'things', 'do', 'get', 'worse', '.', 'norton', 'is', 'soon', 'assigned', 'to', 'a', 'job', 'that', 'calls', 'for', 'traveling', ',', 'and', 'it', \"'\", 's', 'on', 'a', 'plane', 'that', 'he', 'meets', 'tyler', 'durden', '(', 'brad', 'pitt', ')', '.', 'the', 'two', 'men', 'develop', 'a', 'bond', ',', 'and', 'go', 'out', 'to', 'a', 'bar', ',', 'and', 'by', 'golly', 'after', 'they', 'get', 'drunk', ',', 'the', 'two', 'pitiful', 'characters', 'fight', '.', 'how', 'do', 'they', 'come', 'up', 'with', 'this', 'stuff', '?', 'anyway', ',', 'their', 'fighting', 'catches', 'other', 'pathetic', 'loser', \"'\", 's', 'attention', ',', 'and', 'a', 'club', 'is', 'formed', '.', 'out', 'of', 'all', 'this', 'mess', ',', 'there', 'manages', 'to', 'lie', 'a', 'message', '.', 'fincher', 'shows', 'us', 'that', 'society', 'is', 'like', 'robots', '.', 'we', 'work', 'in', 'our', 'jobs', 'doing', 'things', 'step', 'by', 'step', ',', 'and', 'want', 'out', '.', 'our', 'insanity', 'gets', 'to', 'our', 'brain', 'and', 'makes', 'things', 'worse', 'than', 'they', 'really', 'are', ',', 'and', 'we', 'blame', 'it', 'on', 'others', '.', 'call', 'me', 'crazy', ',', 'but', 'this', 'is', 'common', 'knowledge', '.', 'i', 'think', 'fincher', 'was', 'acting', 'as', 'if', 'the', 'film', 'is', 'moodier', 'and', 'more', 'poignant', 'than', 'it', 'really', 'is', ',', 'which', 'is', 'probably', 'one', 'of', 'the', 'reasons', 'it', 'fails', 'miserably', '.', 'even', 'with', 'two', 'good', 'actors', ',', 'and', 'a', 'solid', 'actress', ',', 'they', 'only', 'manage', 'to', 'weaken', 'the', 'story', '.', 'i', 'couldn', \"'\", 't', 'help', 'but', 'hide', 'my', 'face', 'in', 'shame', 'when', 'norton', 'beats', 'himself', 'up', 'into', 'a', 'bloody', 'pulp', '.', 'it', 'just', 'shows', 'how', 'desperate', 'the', 'script', 'is', 'for', 'attention', '.', 'i', 'guess', 'brad', 'pitt', 'was', 'right', 'for', 'this', 'role', ',', 'because', 'i', 'felt', 'like', 'beating', 'him', 'up', 'myself', '.', 'his', 'bothersome', 'and', 'depressing', 'character', ',', 'made', 'me', 'disgusted', 'at', 'his', '20', 'million', 'fee', '.', 'it', 'only', 'showed', 'me', 'that', 'he', 'was', 'in', 'it', 'for', 'the', 'money', 'and', 'nothing', 'more', '.', 'helena', 'bonham', 'carter', 'however', 'really', 'had', 'no', 'purpose', '.', 'she', 'just', 'popped', 'up', 'on', 'screen', ',', 'mumbled', 'some', 'lines', ',', 'smoked', 'and', 'left', '.', 'this', 'continues', 'for', 'what', 'seems', 'like', '6', 'hours', '.', 'the', 'film', 'drags', 'on', 'and', 'my', 'headache', 'gets', 'bigger', ',', 'while', '\"', 'fight', 'club', '\"', 'nears', 'what', 'i', 'think', 'might', 'be', 'the', 'end', '.', 'unfortunately', 'by', 'then', ',', 'the', 'film', 'hits', 'rock', 'bottom', '.', 'though', 'the', 'conclusion', 'kept', 'my', 'interest', 'for', 'a', 'mere', '5', 'minutes', ',', 'it', 'backs', 'down', 'again', 'and', 'continues', 'to', 'move', 'at', 'a', 'snails', 'pace', '.', 'on', 'a', 'side', 'note', ',', 'the', 'trailer', 'shows', 'the', 'only', 'redeeming', 'elements', 'of', 'the', 'film', ',', 'that', 'coincidentally', 'lasts', 'the', 'same', 'amount', 'of', 'time', 'that', 'they', 'did', 'on', 'the', 'trailer', '.', 'fincher', 'will', 'hopefully', 'regret', 'making', 'this', 'film', 'or', 'at', 'least', 'learn', 'a', 'lesson', '.', 'concentrating', 'on', 'the', 'atmosphere', 'or', 'a', 'particular', 'key', 'moment', ',', 'won', \"'\", 't', 'do', 'any', 'good', 'if', 'everything', 'else', 'is', 'in', 'need', 'of', 'support', '.', 'also', ',', 'i', \"'\", 'm', 'afraid', 'that', 'immature', 'men', 'might', 'respond', 'to', 'the', 'film', \"'\", 's', 'violence', '.', 'the', 'last', 'thing', 'the', 'world', 'needs', 'is', 'people', 'praising', 'a', 'leader', 'of', 'a', 'pointless', 'cult', '.', 'when', 'the', 'film', 'ends', ',', 'i', \"'\", 'm', 'just', 'glad', 'to', 'get', 'home', 'and', 'take', 'some', 'advil', '.', 'you', \"'\", 'll', 'either', 'enjoy', 'what', 'the', 'film', 'has', 'to', 'offer', ',', 'or', 'agree', 'with', 'ed', 'norton', 'when', 'he', 'says', '\"', 'this', 'is', 'so', 'f', '*', '*', '*', 'ing', 'stupid', '.', '\"'], 'neg')\n"
          ]
        }
      ],
      "source": [
        "# Load all documents\n",
        "documents = [(list(movie_reviews.words(fileid)), category)\n",
        "             for category in movie_reviews.categories()\n",
        "             for fileid in movie_reviews.fileids(category)]\n",
        "\n",
        "# Shuffle data to mix positive and negative examples\n",
        "random.shuffle(documents)\n",
        "\n",
        "print(f'Docs loaded : {len(documents)}')\n",
        "print(f'Example Doc : {documents[0]}')"
      ]
    },
    {
      "cell_type": "markdown",
      "source": [
        "# Data Preparation"
      ],
      "metadata": {
        "id": "p46ExSEAW13d"
      }
    },
    {
      "cell_type": "code",
      "source": [
        "# Convert raw text into  features using the Bag-Of-Words (BOW) approach\n",
        "\n",
        "def filter_words(words):\n",
        "    ''' Remove words from the list based on criteria\n",
        "\n",
        "    Parameters:\n",
        "        words (list): The collection of words to consider.\n",
        "\n",
        "    Returns:\n",
        "        list: Filtered words\n",
        "    '''\n",
        "    return [\n",
        "        word.lower() for word in words\n",
        "        if word.isalpha()  # Remove punctuation\n",
        "        and word.lower() not in stop_words  # Remove stopwords\n",
        "    ]\n",
        "\n",
        "\n",
        "\n",
        "# Extract all words in the dataset\n",
        "all_words = filter_words(movie_reviews.words() )\n",
        "\n",
        "# Get the frequency distribution of words\n",
        "all_words_freq = nltk.FreqDist(all_words)"
      ],
      "metadata": {
        "id": "64_RA-5sT3lc"
      },
      "execution_count": 9,
      "outputs": []
    },
    {
      "cell_type": "code",
      "source": [
        "# Plot top words per frequence to demonstrate thedata\n",
        "df_top_words = pd.DataFrame(\n",
        "    data=all_words_freq.most_common(20),\n",
        "    columns=['word','freq']\n",
        ")\n",
        "\n",
        "plt.figure(figsize=(10,4))\n",
        "sns.barplot(\n",
        "    data=df_top_words,\n",
        "    x='word',\n",
        "    y='freq'\n",
        ")\n",
        "plt.xticks(rotation=90)"
      ],
      "metadata": {
        "colab": {
          "base_uri": "https://localhost:8080/",
          "height": 813
        },
        "id": "ZZz4RGYwXZow",
        "outputId": "2550f6d7-965b-432d-a95e-a3dec6d95d06"
      },
      "execution_count": 10,
      "outputs": [
        {
          "output_type": "execute_result",
          "data": {
            "text/plain": [
              "([0, 1, 2, 3, 4, 5, 6, 7, 8, 9, 10, 11, 12, 13, 14, 15, 16, 17, 18, 19],\n",
              " [Text(0, 0, 'film'),\n",
              "  Text(1, 0, 'one'),\n",
              "  Text(2, 0, 'movie'),\n",
              "  Text(3, 0, 'like'),\n",
              "  Text(4, 0, 'even'),\n",
              "  Text(5, 0, 'good'),\n",
              "  Text(6, 0, 'time'),\n",
              "  Text(7, 0, 'story'),\n",
              "  Text(8, 0, 'would'),\n",
              "  Text(9, 0, 'much'),\n",
              "  Text(10, 0, 'character'),\n",
              "  Text(11, 0, 'also'),\n",
              "  Text(12, 0, 'get'),\n",
              "  Text(13, 0, 'two'),\n",
              "  Text(14, 0, 'well'),\n",
              "  Text(15, 0, 'characters'),\n",
              "  Text(16, 0, 'first'),\n",
              "  Text(17, 0, 'see'),\n",
              "  Text(18, 0, 'way'),\n",
              "  Text(19, 0, 'make')])"
            ]
          },
          "metadata": {},
          "execution_count": 10
        },
        {
          "output_type": "display_data",
          "data": {
            "text/plain": [
              "<Figure size 1000x400 with 1 Axes>"
            ],
            "image/png": "[encoded data removed]"
          },
          "metadata": {}
        }
      ]
    },
    {
      "cell_type": "code",
      "source": [
        "# Select the top 4000 most common words to mark True as features\n",
        "word_features = list(all_words_freq.keys())[:2000]\n",
        "\n",
        "# Filter short words which could have less meaning than long words\n",
        "#word_features = [w for w in word_features]\n",
        "\n",
        "# Define feature extractor function\n",
        "def extract_features(document):\n",
        "    ''' Determines if a word in the document is a feature or not.\n",
        "\n",
        "    Parameters:\n",
        "        document (list): A list of words comprising the document.\n",
        "\n",
        "    Returns:\n",
        "        dict: A dictionary marking each word True or False\n",
        "    '''\n",
        "    # Convert list to set for faster lookup\n",
        "    words = set(filter_words(document))\n",
        "    # Create a dict marking each word as True if in the document, or False if not\n",
        "    features = {word: (word in words) for word in word_features}\n",
        "    return features\n",
        "\n",
        "# Create feature sets\n",
        "# NOTE: Each document in documents is a tuple (<word-list>,<'neg' of 'pos'>)\n",
        "# The Feature Sets is a list of tuples\n",
        "feature_sets = [(extract_features(review), category) for (review, category) in documents]"
      ],
      "metadata": {
        "id": "tnK6xaT6Xi67"
      },
      "execution_count": 11,
      "outputs": []
    },
    {
      "cell_type": "code",
      "source": [
        "type(all_words_freq)"
      ],
      "metadata": {
        "colab": {
          "base_uri": "https://localhost:8080/",
          "height": 187
        },
        "id": "UrH981PfniLO",
        "outputId": "7c2c6e2f-91da-4237-c73b-8c19c44da315"
      },
      "execution_count": 12,
      "outputs": [
        {
          "output_type": "execute_result",
          "data": {
            "text/plain": [
              "nltk.probability.FreqDist"
            ],
            "text/html": [
              "<div style=\"max-width:800px; border: 1px solid var(--colab-border-color);\"><style>\n",
              "      pre.function-repr-contents {\n",
              "        overflow-x: auto;\n",
              "        padding: 8px 12px;\n",
              "        max-height: 500px;\n",
              "      }\n",
              "\n",
              "      pre.function-repr-contents.function-repr-contents-collapsed {\n",
              "        cursor: pointer;\n",
              "        max-height: 100px;\n",
              "      }\n",
              "    </style>\n",
              "    <pre style=\"white-space: initial; background:\n",
              "         var(--colab-secondary-surface-color); padding: 8px 12px;\n",
              "         border-bottom: 1px solid var(--colab-border-color);\"><b>nltk.probability.FreqDist</b><br/>def __init__(samples=None)</pre><pre class=\"function-repr-contents function-repr-contents-collapsed\" style=\"\"><a class=\"filepath\" style=\"display:none\" href=\"#\">/usr/local/lib/python3.11/dist-packages/nltk/probability.py</a>A frequency distribution for the outcomes of an experiment.  A\n",
              "frequency distribution records the number of times each outcome of\n",
              "an experiment has occurred.  For example, a frequency distribution\n",
              "could be used to record the frequency of each word type in a\n",
              "document.  Formally, a frequency distribution can be defined as a\n",
              "function mapping from each sample to the number of times that\n",
              "sample occurred as an outcome.\n",
              "\n",
              "Frequency distributions are generally constructed by running a\n",
              "number of experiments, and incrementing the count for a sample\n",
              "every time it is an outcome of an experiment.  For example, the\n",
              "following code will produce a frequency distribution that encodes\n",
              "how often each word occurs in a text:\n",
              "\n",
              "    &gt;&gt;&gt; from nltk.tokenize import word_tokenize\n",
              "    &gt;&gt;&gt; from nltk.probability import FreqDist\n",
              "    &gt;&gt;&gt; sent = &#x27;This is an example sentence&#x27;\n",
              "    &gt;&gt;&gt; fdist = FreqDist()\n",
              "    &gt;&gt;&gt; for word in word_tokenize(sent):\n",
              "    ...    fdist[word.lower()] += 1\n",
              "\n",
              "An equivalent way to do this is with the initializer:\n",
              "\n",
              "    &gt;&gt;&gt; fdist = FreqDist(word.lower() for word in word_tokenize(sent))</pre>\n",
              "      <script>\n",
              "      if (google.colab.kernel.accessAllowed && google.colab.files && google.colab.files.view) {\n",
              "        for (const element of document.querySelectorAll('.filepath')) {\n",
              "          element.style.display = 'block'\n",
              "          element.onclick = (event) => {\n",
              "            event.preventDefault();\n",
              "            event.stopPropagation();\n",
              "            google.colab.files.view(element.textContent, 57);\n",
              "          };\n",
              "        }\n",
              "      }\n",
              "      for (const element of document.querySelectorAll('.function-repr-contents')) {\n",
              "        element.onclick = (event) => {\n",
              "          event.preventDefault();\n",
              "          event.stopPropagation();\n",
              "          element.classList.toggle('function-repr-contents-collapsed');\n",
              "        };\n",
              "      }\n",
              "      </script>\n",
              "      </div>"
            ]
          },
          "metadata": {},
          "execution_count": 12
        }
      ]
    },
    {
      "cell_type": "markdown",
      "source": [
        "## Train the Model"
      ],
      "metadata": {
        "id": "t-ThzCY6cT65"
      }
    },
    {
      "cell_type": "code",
      "source": [
        "# Split the data into training (80%) and testing (20%) data\n",
        "train_size = int(len(feature_sets) * 0.8)\n",
        "train_data = feature_sets[:train_size] # slice begining to size, not inclusive\n",
        "test_data = feature_sets[train_size:] # slice size to end\n",
        "\n",
        "print(f'Training data size: {len(train_data)}')\n",
        "print(f'Testing data size: {len(test_data)}')"
      ],
      "metadata": {
        "colab": {
          "base_uri": "https://localhost:8080/"
        },
        "id": "3LhCsJUSZemk",
        "outputId": "9f8991af-b74c-4ef9-97e2-981d07049789"
      },
      "execution_count": 13,
      "outputs": [
        {
          "output_type": "stream",
          "name": "stdout",
          "text": [
            "Training data size: 1600\n",
            "Testing data size: 400\n"
          ]
        }
      ]
    },
    {
      "cell_type": "code",
      "source": [
        "# Train the NLTK Naive Bayes Classifier\n",
        "classifier = NaiveBayesClassifier.train(train_data)\n",
        "\n"
      ],
      "metadata": {
        "colab": {
          "base_uri": "https://localhost:8080/"
        },
        "id": "a99zHVF1c_pE",
        "outputId": "8e23ae8c-4b78-4c34-adad-d7174ff199a4"
      },
      "execution_count": 14,
      "outputs": [
        {
          "output_type": "stream",
          "name": "stdout",
          "text": [
            "Classifier Labels: ['neg', 'pos']\n",
            "\n",
            "Most Informative Features\n",
            "                 frances = True              pos : neg    =      7.9 : 1.0\n",
            "                  welles = True              neg : pos    =      7.5 : 1.0\n",
            "                 stellan = True              pos : neg    =      7.2 : 1.0\n",
            "                explores = True              pos : neg    =      6.8 : 1.0\n",
            "                  turkey = True              neg : pos    =      6.5 : 1.0\n",
            "              reflection = True              pos : neg    =      6.5 : 1.0\n",
            "                  inject = True              neg : pos    =      6.0 : 1.0\n",
            "              schumacher = True              neg : pos    =      6.0 : 1.0\n",
            "                  poorly = True              neg : pos    =      5.9 : 1.0\n",
            "                 singers = True              pos : neg    =      5.8 : 1.0\n"
          ]
        }
      ]
    },
    {
      "cell_type": "code",
      "source": [
        "# Evaluate the model\n",
        "test_acc = accuracy(classifier, test_data)\n",
        "\n",
        "\n",
        "# Manual Evaluation\n",
        "test_matches = []\n",
        "\n",
        "for item in test_data:\n",
        "    feature_set = item[0]\n",
        "    result = classifier.classify(feature_set)\n",
        "    test_matches.append(result == item[1])\n",
        "\n",
        "manual_test_acc = sum(test_matches) / len(test_matches)\n",
        "\n",
        "print(f'Classifier Labels: {classifier.labels()}')\n",
        "print('')\n",
        "# Show the most informative features\n",
        "classifier.show_most_informative_features(10)\n",
        "print('')\n",
        "print(f'NLTK Accuracy: { test_acc* 100:.2f}%')\n",
        "print('')\n",
        "print(f'Manual Accuracy: { manual_test_acc* 100:.2f}%')\n"
      ],
      "metadata": {
        "colab": {
          "base_uri": "https://localhost:8080/"
        },
        "id": "KjZVOIpOgXn8",
        "outputId": "6ecc8376-db1c-42f4-c7f4-61bd7886ef8f"
      },
      "execution_count": 17,
      "outputs": [
        {
          "output_type": "stream",
          "name": "stdout",
          "text": [
            "Classifier Labels: ['neg', 'pos']\n",
            "\n",
            "Most Informative Features\n",
            "                 frances = True              pos : neg    =      7.9 : 1.0\n",
            "                  welles = True              neg : pos    =      7.5 : 1.0\n",
            "                 stellan = True              pos : neg    =      7.2 : 1.0\n",
            "                explores = True              pos : neg    =      6.8 : 1.0\n",
            "                  turkey = True              neg : pos    =      6.5 : 1.0\n",
            "              reflection = True              pos : neg    =      6.5 : 1.0\n",
            "                  inject = True              neg : pos    =      6.0 : 1.0\n",
            "              schumacher = True              neg : pos    =      6.0 : 1.0\n",
            "                  poorly = True              neg : pos    =      5.9 : 1.0\n",
            "                 singers = True              pos : neg    =      5.8 : 1.0\n",
            "\n",
            "NLTK Accuracy: 79.00%\n",
            "\n",
            "Manual Accuracy: 79.00%\n"
          ]
        }
      ]
    },
    {
      "cell_type": "code",
      "source": [],
      "metadata": {
        "id": "557_CCrxl_on"
      },
      "execution_count": 15,
      "outputs": []
    }
  ],
  "metadata": {
    "colab": {
      "provenance": [],
      "authorship_tag": "ABX9TyM7wYb+W0R/zE6I2p3pjWi2"
    },
    "kernelspec": {
      "display_name": "Python 3",
      "name": "python3"
    },
    "language_info": {
      "name": "python"
    }
  },
  "nbformat": 4,
  "nbformat_minor": 0
}