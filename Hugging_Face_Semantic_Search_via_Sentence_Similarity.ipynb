{
  "nbformat": 4,
  "nbformat_minor": 0,
  "metadata": {
    "colab": {
      "provenance": [],
      "gpuType": "T4",
      "authorship_tag": "ABX9TyOiKlb63B5BcUJtVagCpZtv"
    },
    "kernelspec": {
      "name": "python3",
      "display_name": "Python 3"
    },
    "language_info": {
      "name": "python"
    },
    "accelerator": "GPU"
  },
  "cells": [
    {
      "cell_type": "code",
      "execution_count": 1,
      "metadata": {
        "id": "Y889njPaXW85"
      },
      "outputs": [],
      "source": [
        "# Notebook: Hugging Face Semantic Search via Sentence Similarity\n",
        "# Author: Thomas Purk\n",
        "# Date: 2025-04-05\n",
        "# Reference: https://huggingface.co/datasets/lewtun/github-issues\n",
        "# Reference: https://huggingface.co/sentence-transformers/all-MiniLM-L6-v2\n",
        "# Reference: https://sbert.net/\n",
        "# Reference: https://github.com/facebookresearch/faiss\n",
        "# Reference: https://pypi.org/project/faiss-gpu-cu12/"
      ]
    },
    {
      "cell_type": "markdown",
      "source": [
        "# Hugging Face Semantic Search via Sentence Similarity\n",
        "\n",
        "> Sentence Transformers (a.k.a. SBERT) is the go-to Python module for accessing, using, and training state-of-the-art embedding and reranker models. It can be used to compute embeddings using Sentence Transformer models or to calculate similarity scores using Cross-Encoder (a.k.a. reranker) models. This unlocks a wide range of applications, including semantic search, semantic textual similarity, and paraphrase mining.\n",
        "\n",
        "https://sbert.net/\n",
        "\n",
        "**Model**\n",
        "\n",
        "> all-MiniLM-L6-v2 This is a sentence-transformers model: It maps sentences & paragraphs to a 384 dimensional dense vector space and can be used for tasks like clustering or semantic search.\n",
        "\n",
        "https://huggingface.co/sentence-transformers/all-MiniLM-L6-v2\n",
        "\n",
        "**Dataset**\n",
        "This data set will serve as the database of text to which we will ask our search query.\n",
        "\n",
        "> GitHub Issues is a dataset consisting of GitHub issues and pull requests associated with the 🤗 Datasets repository. It is intended for educational purposes and can be used for semantic search or multilabel text classification. The contents of each GitHub issue are in English and concern the domain of datasets for NLP, computer vision, and beyond.\n",
        "\n",
        "https://huggingface.co/datasets/lewtun/github-issues\n",
        "\n",
        "**Course Work**\n",
        "\n",
        "This notebook re-works the lessons from the \"Semantic search with FAISS\" module of the Hugging Face \"NLP Course\" (now called \"LLM Course\").\n",
        "\n",
        "https://huggingface.co/learn/llm-course/en/chapter5/6?fw=pt"
      ],
      "metadata": {
        "id": "39TWYvXiYSFZ"
      }
    },
    {
      "cell_type": "markdown",
      "source": [
        "## Notebook Setup\n",
        "\n",
        "NOTE: 2025-4-5 : Google colab preinstalls CUDA 12.4, which is not compatible with the pre-compiled versions of faiss-gpu. This notebook attempts to roll-back and resolve dependecies by uninstalling and re-installing several packages"
      ],
      "metadata": {
        "id": "wijw8EkXZ6wP"
      }
    },
    {
      "cell_type": "code",
      "source": [
        "!pip install datasets transformers"
      ],
      "metadata": {
        "id": "XozON6IKkB0K",
        "collapsed": true
      },
      "execution_count": null,
      "outputs": []
    },
    {
      "cell_type": "code",
      "source": [
        "!pip list | grep \"datasets\\|transformers\\|sentence_transformers\""
      ],
      "metadata": {
        "colab": {
          "base_uri": "https://localhost:8080/"
        },
        "id": "erJ1tPe4kol1",
        "outputId": "9bec60b8-7829-4181-e10e-b193272ebf5c"
      },
      "execution_count": 3,
      "outputs": [
        {
          "output_type": "stream",
          "name": "stdout",
          "text": [
            "datasets                           3.5.0\n",
            "sentence-transformers              3.4.1\n",
            "tensorflow-datasets                4.9.8\n",
            "transformers                       4.50.3\n",
            "vega-datasets                      0.9.0\n"
          ]
        }
      ]
    },
    {
      "cell_type": "code",
      "source": [
        "# Setup the Notebook\n",
        "\n",
        "# General\n",
        "import os\n",
        "import json\n",
        "import logging\n",
        "logging.getLogger(\"transformers\").setLevel(logging.WARNING) # Suppress unnecessary logging\n",
        "\n",
        "# Visualization\n",
        "import pprint\n",
        "from IPython.core.display import display, HTML\n",
        "import matplotlib.pyplot as plt\n",
        "\n",
        "# Data, Science, & Math\n",
        "import numpy as np\n",
        "import pandas as pd\n",
        "\n",
        "# Machine/Deep Learning\n",
        "import torch\n",
        "\n",
        "# NLP\n",
        "from datasets import Dataset, load_dataset\n",
        "from transformers import AutoTokenizer, AutoModel\n",
        "from sentence_transformers import SentenceTransformer, util"
      ],
      "metadata": {
        "id": "1h8UH8VkaITf"
      },
      "execution_count": 4,
      "outputs": []
    },
    {
      "cell_type": "code",
      "source": [
        "if torch.cuda.is_available():\n",
        "    device_id = torch.cuda.current_device()\n",
        "    gpu_name = torch.cuda.get_device_name(device_id)\n",
        "    print(f\"GPU Name: {gpu_name}\")\n",
        "    print(f\"CUDA Version: {torch.version.cuda}\")\n",
        "else:\n",
        "    print(\"CUDA is not available. Running on CPU.\")\n",
        "\n",
        "print(f'PyTorch Version: {torch.__version__}')"
      ],
      "metadata": {
        "colab": {
          "base_uri": "https://localhost:8080/"
        },
        "id": "D7ntjozuaO46",
        "outputId": "1930c99e-6c2a-4c4c-9024-099905a39deb"
      },
      "execution_count": 5,
      "outputs": [
        {
          "output_type": "stream",
          "name": "stdout",
          "text": [
            "GPU Name: Tesla T4\n",
            "CUDA Version: 12.4\n",
            "PyTorch Version: 2.6.0+cu124\n"
          ]
        }
      ]
    },
    {
      "cell_type": "markdown",
      "source": [
        "# Arrange the Data"
      ],
      "metadata": {
        "id": "anrcKMUe2kqJ"
      }
    },
    {
      "cell_type": "code",
      "source": [
        "# Load the data\n",
        "ds_git_issues = load_dataset(\"lewtun/github-issues\", split=\"train\")\n",
        "\n",
        "# Filter out the pull requests\n",
        "# PRs are rarely used for answering user queries and will introduce noise in the search engine.\n",
        "# Also filter issue records with not comments\n",
        "ds_git_issues = ds_git_issues.filter(\n",
        "    lambda x: (x[\"is_pull_request\"] == False and len(x[\"comments\"]) > 0)\n",
        ")\n",
        "\n",
        "# Eliminate columns that will not be used in the search\n",
        "columns = ds_git_issues.column_names\n",
        "columns_to_keep = [\"title\", \"body\", \"html_url\", \"comments\"]\n",
        "columns_to_remove = set(columns_to_keep).symmetric_difference(columns)\n",
        "# Remove the columns\n",
        "ds_git_issues = ds_git_issues.remove_columns(columns_to_remove)\n",
        "\n",
        "ds_git_issues"
      ],
      "metadata": {
        "id": "p1AvCpG55OPx"
      },
      "execution_count": null,
      "outputs": []
    },
    {
      "cell_type": "code",
      "source": [
        "# Show Dataset Info\n",
        "print(f'Type: {type(ds_git_issues)}')\n",
        "print('')\n",
        "print(f'Column Names: {ds_git_issues.column_names}')\n",
        "print('')\n",
        "print(f'Total Training Rows: {ds_git_issues.num_rows}')\n",
        "print(f'Total Test Rows: {ds_git_issues.num_rows}')"
      ],
      "metadata": {
        "id": "i_4IB--q7Bsj",
        "colab": {
          "base_uri": "https://localhost:8080/"
        },
        "outputId": "425b123d-77fb-49fb-aa7f-49ced5764843"
      },
      "execution_count": 7,
      "outputs": [
        {
          "output_type": "stream",
          "name": "stdout",
          "text": [
            "Type: <class 'datasets.arrow_dataset.Dataset'>\n",
            "\n",
            "Column Names: ['html_url', 'title', 'comments', 'body']\n",
            "\n",
            "Total Training Rows: 808\n",
            "Total Test Rows: 808\n"
          ]
        }
      ]
    },
    {
      "cell_type": "code",
      "source": [
        "# Example Record\n",
        "print(f'Example Record:\\n')\n",
        "ds_git_issues[0]"
      ],
      "metadata": {
        "id": "u7x0Uo047Hj3",
        "colab": {
          "base_uri": "https://localhost:8080/"
        },
        "outputId": "e239121f-686c-4a15-9398-2e3b8b41f6db"
      },
      "execution_count": 8,
      "outputs": [
        {
          "output_type": "stream",
          "name": "stdout",
          "text": [
            "Example Record:\n",
            "\n"
          ]
        },
        {
          "output_type": "execute_result",
          "data": {
            "text/plain": [
              "{'html_url': 'https://github.com/huggingface/datasets/issues/2945',\n",
              " 'title': 'Protect master branch',\n",
              " 'comments': ['Cool, I think we can do both :)',\n",
              "  '@lhoestq now the 2 are implemented.\\r\\n\\r\\nPlease note that for the the second protection, finally I have chosen to protect the master branch only from **merge commits** (see update comment above), so no need to disable/re-enable the protection on each release (direct commits, different from merge commits, can be pushed to the remote master branch; and eventually reverted without messing up the repo history).'],\n",
              " 'body': 'After accidental merge commit (91c55355b634d0dc73350a7ddee1a6776dbbdd69) into `datasets` master branch, all commits present in the feature branch were permanently added to `datasets` master branch history, as e.g.:\\r\\n- 00cc036fea7c7745cfe722360036ed306796a3f2\\r\\n- 13ae8c98602bbad8197de3b9b425f4c78f582af1\\r\\n- ...\\r\\n\\r\\nI propose to protect our master branch, so that we avoid we can accidentally make this kind of mistakes in the future:\\r\\n- [x] For Pull Requests using GitHub, allow only squash merging, so that only a single commit per Pull Request is merged into the master branch\\r\\n  - Currently, simple merge commits are already disabled\\r\\n  - I propose to disable rebase merging as well\\r\\n- ~~Protect the master branch from direct pushes (to avoid accidentally pushing of merge commits)~~\\r\\n  - ~~This protection would reject direct pushes to master branch~~\\r\\n  - ~~If so, for each release (when we need to commit directly to the master branch), we should previously disable the protection and re-enable it again after the release~~\\r\\n- [x] Protect the master branch only from direct pushing of **merge commits**\\r\\n  - GitHub offers the possibility to protect the master branch only from merge commits (which are the ones that introduce all the commits from the feature branch into the master branch).\\r\\n  - No need to disable/re-enable this protection on each release \\r\\n\\r\\nThis purpose of this Issue is to open a discussion about this problem and to agree in a solution.'}"
            ]
          },
          "metadata": {},
          "execution_count": 8
        }
      ]
    },
    {
      "cell_type": "code",
      "source": [
        "# Explode the data so that there is a single record for each comment list item\n",
        "\n",
        "ds_git_issues = ds_git_issues.with_format(\"python\")\n",
        "df_git_issues = ds_git_issues.to_pandas()\n",
        "\n",
        "df_git_issues = df_git_issues.explode(\n",
        "    column=\"comments\",\n",
        "    ignore_index=True\n",
        ")\n",
        "df_git_issues.head(5)"
      ],
      "metadata": {
        "id": "t5z-HfrY70mF"
      },
      "execution_count": null,
      "outputs": []
    },
    {
      "cell_type": "code",
      "source": [
        "# Conversion to pandas supported executing \"explode\"\n",
        "# Now covert the exploded dataframe back to a Dataset\n",
        "# 808 rows are now 2,964 rows\n",
        "\n",
        "ds_ex_git_issues = Dataset.from_pandas(df_git_issues)\n",
        "ds_ex_git_issues"
      ],
      "metadata": {
        "id": "z_w8aUw2-YDu",
        "colab": {
          "base_uri": "https://localhost:8080/"
        },
        "outputId": "dc5c4fb9-1084-4319-d9fd-e8fed2d4a7b7"
      },
      "execution_count": 10,
      "outputs": [
        {
          "output_type": "execute_result",
          "data": {
            "text/plain": [
              "Dataset({\n",
              "    features: ['html_url', 'title', 'comments', 'body'],\n",
              "    num_rows: 2964\n",
              "})"
            ]
          },
          "metadata": {},
          "execution_count": 10
        }
      ]
    },
    {
      "cell_type": "code",
      "source": [
        "# Create a comments length column\n",
        "# Filter out records with short comments\n",
        "\n",
        "# create a new comments_length column that contains the number of words per comment:\n",
        "ds_ex_git_issues = ds_ex_git_issues.map(\n",
        "    lambda x: {\"comment_length\": len(x[\"comments\"].split())}\n",
        ")\n",
        "\n",
        "# Educated guess; 15 words seems or more might contain useful comments\n",
        "ds_ex_git_issues = ds_ex_git_issues.filter(lambda x: x[\"comment_length\"] > 15)\n"
      ],
      "metadata": {
        "id": "15H2yeehArm0"
      },
      "execution_count": null,
      "outputs": []
    },
    {
      "cell_type": "code",
      "source": [
        "# Concatenate title, body and comments\n",
        "# The new string will be encoded for search\n",
        "def concatenate_text(examples):\n",
        "    ''' Combines the text from several features into a new text feature. '''\n",
        "\n",
        "    return {\n",
        "        \"text\": examples[\"title\"]\n",
        "        + \" \\n \"\n",
        "        + examples[\"body\"]\n",
        "        + \" \\n \"\n",
        "        + examples[\"comments\"]\n",
        "    }\n",
        "\n",
        "ds_ex_git_issues = ds_ex_git_issues.map(concatenate_text)"
      ],
      "metadata": {
        "id": "343FyOlXe-N9"
      },
      "execution_count": null,
      "outputs": []
    },
    {
      "cell_type": "code",
      "source": [
        "# Validate new feature\n",
        "ds_ex_git_issues"
      ],
      "metadata": {
        "id": "L9vKJQZHfeJz",
        "colab": {
          "base_uri": "https://localhost:8080/"
        },
        "outputId": "7763a056-13c0-41bf-d6d1-cdbc88cbcb1e"
      },
      "execution_count": 13,
      "outputs": [
        {
          "output_type": "execute_result",
          "data": {
            "text/plain": [
              "Dataset({\n",
              "    features: ['html_url', 'title', 'comments', 'body', 'comment_length', 'text'],\n",
              "    num_rows: 2175\n",
              "})"
            ]
          },
          "metadata": {},
          "execution_count": 13
        }
      ]
    },
    {
      "cell_type": "markdown",
      "source": [
        "## Create Text Embeddings\n",
        "\n",
        "- The encoded text will be used as the search database"
      ],
      "metadata": {
        "id": "lXnuGs33fnc4"
      }
    },
    {
      "cell_type": "code",
      "source": [
        "# Identify the model checkpoint\n",
        "checkpoint = \"sentence-transformers/all-MiniLM-L6-v2\"\n",
        "model = SentenceTransformer(checkpoint)"
      ],
      "metadata": {
        "id": "FOHqa4wbwhB1"
      },
      "execution_count": null,
      "outputs": []
    },
    {
      "cell_type": "code",
      "source": [
        "# Move the model to the CUDA device\n",
        "cuda_device = torch.device(\"cuda\")\n",
        "model.to(cuda_device)"
      ],
      "metadata": {
        "collapsed": true,
        "id": "UOCgavgXwscn",
        "colab": {
          "base_uri": "https://localhost:8080/"
        },
        "outputId": "759084c3-7a72-41a0-e171-0871c387ad85"
      },
      "execution_count": 15,
      "outputs": [
        {
          "output_type": "execute_result",
          "data": {
            "text/plain": [
              "SentenceTransformer(\n",
              "  (0): Transformer({'max_seq_length': 256, 'do_lower_case': False}) with Transformer model: BertModel \n",
              "  (1): Pooling({'word_embedding_dimension': 384, 'pooling_mode_cls_token': False, 'pooling_mode_mean_tokens': True, 'pooling_mode_max_tokens': False, 'pooling_mode_mean_sqrt_len_tokens': False, 'pooling_mode_weightedmean_tokens': False, 'pooling_mode_lasttoken': False, 'include_prompt': True})\n",
              "  (2): Normalize()\n",
              ")"
            ]
          },
          "metadata": {},
          "execution_count": 15
        }
      ]
    },
    {
      "cell_type": "code",
      "source": [
        "# Encode the entire string as a single vector of encoded values\n",
        "# Encode the corpus into dense vectors\n",
        "corpus_embeddings = model.encode(ds_ex_git_issues['text'], convert_to_tensor=True)"
      ],
      "metadata": {
        "id": "ITs7aQlfw2Ke"
      },
      "execution_count": 16,
      "outputs": []
    },
    {
      "cell_type": "markdown",
      "source": [
        "## Semantic Search\n",
        "\n",
        "- Ask a question and convert the entire text to a vector embedding\n",
        "- Find the vectors in the dataset that are nearest the vector of the question"
      ],
      "metadata": {
        "id": "7_aBN6646QWf"
      }
    },
    {
      "cell_type": "code",
      "source": [
        "# Ask the question and encode\n",
        "question = \"How can I load a dataset offline?\"\n",
        "\n",
        "# Encode the question into a dense vector\n",
        "question_embedding = model.encode(question, convert_to_tensor=True)\n",
        "\n",
        "# Compute cosine similarities\n",
        "cos_scores = model.similarity(question_embedding, corpus_embeddings)"
      ],
      "metadata": {
        "id": "KyjbuqngxPCs"
      },
      "execution_count": 17,
      "outputs": []
    },
    {
      "cell_type": "code",
      "source": [
        "# Create a histogram\n",
        "hist = torch.histogram(cos_scores.cpu(), bins=20)\n",
        "\n",
        "bin_counts = hist.hist.cpu().numpy()\n",
        "bin_edges = hist.bin_edges.cpu().numpy()\n",
        "bin_centers = (bin_edges[:-1] + bin_edges[1:]) / 2\n",
        "\n",
        "plt.bar(bin_centers, bin_counts, width=bin_edges[1]-bin_edges[0])\n",
        "plt.xlabel(\"Similarity Score\")\n",
        "plt.ylabel(\"Frequency\")\n",
        "plt.title(\"Question: How can I load a dataset offline?\\nHistogram of Document Scores\")\n",
        "plt.show()"
      ],
      "metadata": {
        "colab": {
          "base_uri": "https://localhost:8080/",
          "height": 493
        },
        "id": "Q7JkLABl5nIq",
        "outputId": "8ff697df-3042-4a36-bf21-d1f40655f7f3"
      },
      "execution_count": 18,
      "outputs": [
        {
          "output_type": "display_data",
          "data": {
            "text/plain": [
              "<Figure size 640x480 with 1 Axes>"
            ],
            "image/png": "[encoded data removed]"
          },
          "metadata": {}
        }
      ]
    },
    {
      "cell_type": "code",
      "source": [
        "# Observation: The number of documents scoring above 0.5 seems small\n",
        "# What is the number?\n",
        "filtered_scores = cos_scores[cos_scores > 0.5]\n",
        "\n",
        "display(filtered_scores)\n",
        "print('')\n",
        "k = filtered_scores.size()[0]\n",
        "display(k)"
      ],
      "metadata": {
        "colab": {
          "base_uri": "https://localhost:8080/",
          "height": 156
        },
        "id": "8Hs0PxyK7dGA",
        "outputId": "c2e9d255-6270-4090-818d-564e56f19347"
      },
      "execution_count": 23,
      "outputs": [
        {
          "output_type": "display_data",
          "data": {
            "text/plain": [
              "tensor([0.5179, 0.5835, 0.5024, 0.5382, 0.5531, 0.5562, 0.5440, 0.5061, 0.5120,\n",
              "        0.5120, 0.5120, 0.5120, 0.5120, 0.5120, 0.5069, 0.5019, 0.5283, 0.5503,\n",
              "        0.5657, 0.6072, 0.5118, 0.5711, 0.5703, 0.5667, 0.5154, 0.5154, 0.5626,\n",
              "        0.5051, 0.5148, 0.7186, 0.7186, 0.7186, 0.7186, 0.7186, 0.7186, 0.6995,\n",
              "        0.5010, 0.5367, 0.5367, 0.5367, 0.5320, 0.6200, 0.6338, 0.6098, 0.5240,\n",
              "        0.5370, 0.5980, 0.5342, 0.5984, 0.6252], device='cuda:0')"
            ]
          },
          "metadata": {}
        },
        {
          "output_type": "stream",
          "name": "stdout",
          "text": [
            "\n"
          ]
        },
        {
          "output_type": "display_data",
          "data": {
            "text/plain": [
              "50"
            ]
          },
          "metadata": {}
        }
      ]
    },
    {
      "cell_type": "code",
      "source": [
        "# Print unique resuls of the\n",
        "# Get top-k results\n",
        "top_results = torch.topk(cos_scores, k=k)\n",
        "\n",
        "\n",
        "# Because the corups data was exploded based on the comments list\n",
        "# There could be duplication titles and scores.\n",
        "# Make a unique list\n",
        "unique_list = []\n",
        "ind_size = top_results.indices[0].count_nonzero().item()\n",
        "for i in range(0,ind_size):\n",
        "    idx = top_results.indices[0][i].item()\n",
        "    title = ds_ex_git_issues[idx]['title']\n",
        "    score = top_results.values[0][i].item()\n",
        "    l = [title,score ]\n",
        "    if(l not in unique_list):\n",
        "        unique_list.append(l)\n",
        "\n",
        "# Print top-k results\n",
        "print(\"\\nQuery:\", question)\n",
        "print(\"\\nTop similar sentences in corpus:\")\n",
        "for r in unique_list:\n",
        "    print(f\"(Score: {r[1]:.4f}) {r[0]} \")"
      ],
      "metadata": {
        "colab": {
          "base_uri": "https://localhost:8080/"
        },
        "id": "BjjeuVHC7Mkx",
        "outputId": "c1f589f3-4d45-4b7a-9d01-2b5a880ed1c1"
      },
      "execution_count": 24,
      "outputs": [
        {
          "output_type": "stream",
          "name": "stdout",
          "text": [
            "\n",
            "Query: How can I load a dataset offline?\n",
            "\n",
            "Top similar sentences in corpus:\n",
            "(Score: 0.7186) Discussion using datasets in offline mode \n",
            "(Score: 0.6995) Downloaded datasets are not usable offline \n",
            "(Score: 0.6338) Cannot download dataset_info.json \n",
            "(Score: 0.6252) [Question] Using/adding a local dataset \n",
            "(Score: 0.6200) Cannot download dataset_info.json \n",
            "(Score: 0.6098) Cannot download dataset_info.json \n",
            "(Score: 0.6072) load the local dataset \n",
            "(Score: 0.5984) [Question] Using/adding a local dataset \n",
            "(Score: 0.5980) [Question] Using/adding a local dataset \n",
            "(Score: 0.5835) Load datasets from the Hub without requiring a dataset script \n",
            "(Score: 0.5711) could not run models on a offline server successfully \n",
            "(Score: 0.5703) could not run models on a offline server successfully \n",
            "(Score: 0.5667) could not run models on a offline server successfully \n",
            "(Score: 0.5657) load the local dataset \n",
            "(Score: 0.5626) Add support to download kaggle datasets \n",
            "(Score: 0.5562) any possibility to download part of large datasets only? \n",
            "(Score: 0.5531) any possibility to download part of large datasets only? \n",
            "(Score: 0.5503) load the local dataset \n",
            "(Score: 0.5440) any possibility to download part of large datasets only? \n",
            "(Score: 0.5382) any possibility to download part of large datasets only? \n",
            "(Score: 0.5370) Huggingface NLP, Uploading custom dataset \n",
            "(Score: 0.5367) load_dataset() won't download in Windows \n",
            "(Score: 0.5342) [Question] Using/adding a local dataset \n",
            "(Score: 0.5320) load_dataset from local squad.py, raise error: TypeError: 'NoneType' object is not callable  \n",
            "(Score: 0.5283) Regarding On-the-fly Data Loading \n",
            "(Score: 0.5240) Huggingface NLP, Uploading custom dataset \n",
            "(Score: 0.5179) 404 not found error on loading WIKIANN dataset \n",
            "(Score: 0.5154) connection issue  \n",
            "(Score: 0.5148) Can not reuse datasets already downloaded \n",
            "(Score: 0.5120) [firewalled env] OFFLINE mode \n",
            "(Score: 0.5118) could not run models on a offline server successfully \n",
            "(Score: 0.5069) request to mirror wmt datasets, as they are really slow to download \n",
            "(Score: 0.5061) any possibility to download part of large datasets only? \n",
            "(Score: 0.5051) Downloading/caching only a part of a datasets' dataset. \n",
            "(Score: 0.5024) Loading partial dataset when debugging \n",
            "(Score: 0.5019) request to mirror wmt datasets, as they are really slow to download \n",
            "(Score: 0.5010) The download instructions for c4 datasets are not contained in the error message \n"
          ]
        }
      ]
    }
  ]
}