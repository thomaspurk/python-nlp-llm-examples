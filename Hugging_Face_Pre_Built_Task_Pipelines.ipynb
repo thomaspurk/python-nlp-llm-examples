{
  "nbformat": 4,
  "nbformat_minor": 0,
  "metadata": {
    "colab": {
      "provenance": [],
      "authorship_tag": "ABX9TyMU3fMXyfO4STgBO/pza/j8"
    },
    "kernelspec": {
      "name": "python3",
      "display_name": "Python 3"
    },
    "language_info": {
      "name": "python"
    },
    "widgets": {
      "application/vnd.jupyter.widget-state+json": {
        "99e9d31ed4104641b9bbd764a95dbad4": {
          "model_module": "@jupyter-widgets/controls",
          "model_name": "HBoxModel",
          "model_module_version": "1.5.0",
          "state": {
            "_dom_classes": [],
            "_model_module": "@jupyter-widgets/controls",
            "_model_module_version": "1.5.0",
            "_model_name": "HBoxModel",
            "_view_count": null,
            "_view_module": "@jupyter-widgets/controls",
            "_view_module_version": "1.5.0",
            "_view_name": "HBoxView",
            "box_style": "",
            "children": [
              "IPY_MODEL_3f87a92e09994b00bea0b1d8fdaf5a22",
              "IPY_MODEL_c27dc76ffd3b4e16a86b6ee26371138b",
              "IPY_MODEL_c8744b0ea3754465a983f36aca9f3930"
            ],
            "layout": "IPY_MODEL_a04ff90380d541688226d128831116ee"
          }
        },
        "3f87a92e09994b00bea0b1d8fdaf5a22": {
          "model_module": "@jupyter-widgets/controls",
          "model_name": "HTMLModel",
          "model_module_version": "1.5.0",
          "state": {
            "_dom_classes": [],
            "_model_module": "@jupyter-widgets/controls",
            "_model_module_version": "1.5.0",
            "_model_name": "HTMLModel",
            "_view_count": null,
            "_view_module": "@jupyter-widgets/controls",
            "_view_module_version": "1.5.0",
            "_view_name": "HTMLView",
            "description": "",
            "description_tooltip": null,
            "layout": "IPY_MODEL_3eb105bfcb694da58643654567443951",
            "placeholder": "​",
            "style": "IPY_MODEL_9116fec18e56476e9b08a77e08dce621",
            "value": "config.json: 100%"
          }
        },
        "c27dc76ffd3b4e16a86b6ee26371138b": {
          "model_module": "@jupyter-widgets/controls",
          "model_name": "FloatProgressModel",
          "model_module_version": "1.5.0",
          "state": {
            "_dom_classes": [],
            "_model_module": "@jupyter-widgets/controls",
            "_model_module_version": "1.5.0",
            "_model_name": "FloatProgressModel",
            "_view_count": null,
            "_view_module": "@jupyter-widgets/controls",
            "_view_module_version": "1.5.0",
            "_view_name": "ProgressView",
            "bar_style": "success",
            "description": "",
            "description_tooltip": null,
            "layout": "IPY_MODEL_5267b327e24944d48a3ecf428a18920f",
            "max": 665,
            "min": 0,
            "orientation": "horizontal",
            "style": "IPY_MODEL_29e27493b0d740d3be7c23a45f7d254a",
            "value": 665
          }
        },
        "c8744b0ea3754465a983f36aca9f3930": {
          "model_module": "@jupyter-widgets/controls",
          "model_name": "HTMLModel",
          "model_module_version": "1.5.0",
          "state": {
            "_dom_classes": [],
            "_model_module": "@jupyter-widgets/controls",
            "_model_module_version": "1.5.0",
            "_model_name": "HTMLModel",
            "_view_count": null,
            "_view_module": "@jupyter-widgets/controls",
            "_view_module_version": "1.5.0",
            "_view_name": "HTMLView",
            "description": "",
            "description_tooltip": null,
            "layout": "IPY_MODEL_e2e0fc1e197a4f659927bc32eb15a846",
            "placeholder": "​",
            "style": "IPY_MODEL_6b9ae26ae78442189e0dc8757908f2ab",
            "value": " 665/665 [00:00&lt;00:00, 34.5kB/s]"
          }
        },
        "a04ff90380d541688226d128831116ee": {
          "model_module": "@jupyter-widgets/base",
          "model_name": "LayoutModel",
          "model_module_version": "1.2.0",
          "state": {
            "_model_module": "@jupyter-widgets/base",
            "_model_module_version": "1.2.0",
            "_model_name": "LayoutModel",
            "_view_count": null,
            "_view_module": "@jupyter-widgets/base",
            "_view_module_version": "1.2.0",
            "_view_name": "LayoutView",
            "align_content": null,
            "align_items": null,
            "align_self": null,
            "border": null,
            "bottom": null,
            "display": null,
            "flex": null,
            "flex_flow": null,
            "grid_area": null,
            "grid_auto_columns": null,
            "grid_auto_flow": null,
            "grid_auto_rows": null,
            "grid_column": null,
            "grid_gap": null,
            "grid_row": null,
            "grid_template_areas": null,
            "grid_template_columns": null,
            "grid_template_rows": null,
            "height": null,
            "justify_content": null,
            "justify_items": null,
            "left": null,
            "margin": null,
            "max_height": null,
            "max_width": null,
            "min_height": null,
            "min_width": null,
            "object_fit": null,
            "object_position": null,
            "order": null,
            "overflow": null,
            "overflow_x": null,
            "overflow_y": null,
            "padding": null,
            "right": null,
            "top": null,
            "visibility": null,
            "width": null
          }
        },
        "3eb105bfcb694da58643654567443951": {
          "model_module": "@jupyter-widgets/base",
          "model_name": "LayoutModel",
          "model_module_version": "1.2.0",
          "state": {
            "_model_module": "@jupyter-widgets/base",
            "_model_module_version": "1.2.0",
            "_model_name": "LayoutModel",
            "_view_count": null,
            "_view_module": "@jupyter-widgets/base",
            "_view_module_version": "1.2.0",
            "_view_name": "LayoutView",
            "align_content": null,
            "align_items": null,
            "align_self": null,
            "border": null,
            "bottom": null,
            "display": null,
            "flex": null,
            "flex_flow": null,
            "grid_area": null,
            "grid_auto_columns": null,
            "grid_auto_flow": null,
            "grid_auto_rows": null,
            "grid_column": null,
            "grid_gap": null,
            "grid_row": null,
            "grid_template_areas": null,
            "grid_template_columns": null,
            "grid_template_rows": null,
            "height": null,
            "justify_content": null,
            "justify_items": null,
            "left": null,
            "margin": null,
            "max_height": null,
            "max_width": null,
            "min_height": null,
            "min_width": null,
            "object_fit": null,
            "object_position": null,
            "order": null,
            "overflow": null,
            "overflow_x": null,
            "overflow_y": null,
            "padding": null,
            "right": null,
            "top": null,
            "visibility": null,
            "width": null
          }
        },
        "9116fec18e56476e9b08a77e08dce621": {
          "model_module": "@jupyter-widgets/controls",
          "model_name": "DescriptionStyleModel",
          "model_module_version": "1.5.0",
          "state": {
            "_model_module": "@jupyter-widgets/controls",
            "_model_module_version": "1.5.0",
            "_model_name": "DescriptionStyleModel",
            "_view_count": null,
            "_view_module": "@jupyter-widgets/base",
            "_view_module_version": "1.2.0",
            "_view_name": "StyleView",
            "description_width": ""
          }
        },
        "5267b327e24944d48a3ecf428a18920f": {
          "model_module": "@jupyter-widgets/base",
          "model_name": "LayoutModel",
          "model_module_version": "1.2.0",
          "state": {
            "_model_module": "@jupyter-widgets/base",
            "_model_module_version": "1.2.0",
            "_model_name": "LayoutModel",
            "_view_count": null,
            "_view_module": "@jupyter-widgets/base",
            "_view_module_version": "1.2.0",
            "_view_name": "LayoutView",
            "align_content": null,
            "align_items": null,
            "align_self": null,
            "border": null,
            "bottom": null,
            "display": null,
            "flex": null,
            "flex_flow": null,
            "grid_area": null,
            "grid_auto_columns": null,
            "grid_auto_flow": null,
            "grid_auto_rows": null,
            "grid_column": null,
            "grid_gap": null,
            "grid_row": null,
            "grid_template_areas": null,
            "grid_template_columns": null,
            "grid_template_rows": null,
            "height": null,
            "justify_content": null,
            "justify_items": null,
            "left": null,
            "margin": null,
            "max_height": null,
            "max_width": null,
            "min_height": null,
            "min_width": null,
            "object_fit": null,
            "object_position": null,
            "order": null,
            "overflow": null,
            "overflow_x": null,
            "overflow_y": null,
            "padding": null,
            "right": null,
            "top": null,
            "visibility": null,
            "width": null
          }
        },
        "29e27493b0d740d3be7c23a45f7d254a": {
          "model_module": "@jupyter-widgets/controls",
          "model_name": "ProgressStyleModel",
          "model_module_version": "1.5.0",
          "state": {
            "_model_module": "@jupyter-widgets/controls",
            "_model_module_version": "1.5.0",
            "_model_name": "ProgressStyleModel",
            "_view_count": null,
            "_view_module": "@jupyter-widgets/base",
            "_view_module_version": "1.2.0",
            "_view_name": "StyleView",
            "bar_color": null,
            "description_width": ""
          }
        },
        "e2e0fc1e197a4f659927bc32eb15a846": {
          "model_module": "@jupyter-widgets/base",
          "model_name": "LayoutModel",
          "model_module_version": "1.2.0",
          "state": {
            "_model_module": "@jupyter-widgets/base",
            "_model_module_version": "1.2.0",
            "_model_name": "LayoutModel",
            "_view_count": null,
            "_view_module": "@jupyter-widgets/base",
            "_view_module_version": "1.2.0",
            "_view_name": "LayoutView",
            "align_content": null,
            "align_items": null,
            "align_self": null,
            "border": null,
            "bottom": null,
            "display": null,
            "flex": null,
            "flex_flow": null,
            "grid_area": null,
            "grid_auto_columns": null,
            "grid_auto_flow": null,
            "grid_auto_rows": null,
            "grid_column": null,
            "grid_gap": null,
            "grid_row": null,
            "grid_template_areas": null,
            "grid_template_columns": null,
            "grid_template_rows": null,
            "height": null,
            "justify_content": null,
            "justify_items": null,
            "left": null,
            "margin": null,
            "max_height": null,
            "max_width": null,
            "min_height": null,
            "min_width": null,
            "object_fit": null,
            "object_position": null,
            "order": null,
            "overflow": null,
            "overflow_x": null,
            "overflow_y": null,
            "padding": null,
            "right": null,
            "top": null,
            "visibility": null,
            "width": null
          }
        },
        "6b9ae26ae78442189e0dc8757908f2ab": {
          "model_module": "@jupyter-widgets/controls",
          "model_name": "DescriptionStyleModel",
          "model_module_version": "1.5.0",
          "state": {
            "_model_module": "@jupyter-widgets/controls",
            "_model_module_version": "1.5.0",
            "_model_name": "DescriptionStyleModel",
            "_view_count": null,
            "_view_module": "@jupyter-widgets/base",
            "_view_module_version": "1.2.0",
            "_view_name": "StyleView",
            "description_width": ""
          }
        },
        "10ab40d29a6c43e8a57ecccebea468a1": {
          "model_module": "@jupyter-widgets/controls",
          "model_name": "HBoxModel",
          "model_module_version": "1.5.0",
          "state": {
            "_dom_classes": [],
            "_model_module": "@jupyter-widgets/controls",
            "_model_module_version": "1.5.0",
            "_model_name": "HBoxModel",
            "_view_count": null,
            "_view_module": "@jupyter-widgets/controls",
            "_view_module_version": "1.5.0",
            "_view_name": "HBoxView",
            "box_style": "",
            "children": [
              "IPY_MODEL_afbcc052fb1246118112c114678d78ea",
              "IPY_MODEL_1509b380400043438b5931cc9a4839f5",
              "IPY_MODEL_c4872b20dd6b4cd78953b94b19e6363a"
            ],
            "layout": "IPY_MODEL_51f270241f8241dda8c1a4aac94303cf"
          }
        },
        "afbcc052fb1246118112c114678d78ea": {
          "model_module": "@jupyter-widgets/controls",
          "model_name": "HTMLModel",
          "model_module_version": "1.5.0",
          "state": {
            "_dom_classes": [],
            "_model_module": "@jupyter-widgets/controls",
            "_model_module_version": "1.5.0",
            "_model_name": "HTMLModel",
            "_view_count": null,
            "_view_module": "@jupyter-widgets/controls",
            "_view_module_version": "1.5.0",
            "_view_name": "HTMLView",
            "description": "",
            "description_tooltip": null,
            "layout": "IPY_MODEL_08ffa56d3d654af3875f0f633ddaf7ae",
            "placeholder": "​",
            "style": "IPY_MODEL_68b0bb4650884d829a1fb9330d973b17",
            "value": "model.safetensors: 100%"
          }
        },
        "1509b380400043438b5931cc9a4839f5": {
          "model_module": "@jupyter-widgets/controls",
          "model_name": "FloatProgressModel",
          "model_module_version": "1.5.0",
          "state": {
            "_dom_classes": [],
            "_model_module": "@jupyter-widgets/controls",
            "_model_module_version": "1.5.0",
            "_model_name": "FloatProgressModel",
            "_view_count": null,
            "_view_module": "@jupyter-widgets/controls",
            "_view_module_version": "1.5.0",
            "_view_name": "ProgressView",
            "bar_style": "success",
            "description": "",
            "description_tooltip": null,
            "layout": "IPY_MODEL_303e0dd87c5749cbba8c4eb138d14264",
            "max": 548105171,
            "min": 0,
            "orientation": "horizontal",
            "style": "IPY_MODEL_c52e63cd8e4f40bfb115fc8616db1af1",
            "value": 548105171
          }
        },
        "c4872b20dd6b4cd78953b94b19e6363a": {
          "model_module": "@jupyter-widgets/controls",
          "model_name": "HTMLModel",
          "model_module_version": "1.5.0",
          "state": {
            "_dom_classes": [],
            "_model_module": "@jupyter-widgets/controls",
            "_model_module_version": "1.5.0",
            "_model_name": "HTMLModel",
            "_view_count": null,
            "_view_module": "@jupyter-widgets/controls",
            "_view_module_version": "1.5.0",
            "_view_name": "HTMLView",
            "description": "",
            "description_tooltip": null,
            "layout": "IPY_MODEL_025a7c5590054adc969cf5acc52ef7f8",
            "placeholder": "​",
            "style": "IPY_MODEL_a6118d1c8cab49ba99f034f2d38432fe",
            "value": " 548M/548M [00:05&lt;00:00, 139MB/s]"
          }
        },
        "51f270241f8241dda8c1a4aac94303cf": {
          "model_module": "@jupyter-widgets/base",
          "model_name": "LayoutModel",
          "model_module_version": "1.2.0",
          "state": {
            "_model_module": "@jupyter-widgets/base",
            "_model_module_version": "1.2.0",
            "_model_name": "LayoutModel",
            "_view_count": null,
            "_view_module": "@jupyter-widgets/base",
            "_view_module_version": "1.2.0",
            "_view_name": "LayoutView",
            "align_content": null,
            "align_items": null,
            "align_self": null,
            "border": null,
            "bottom": null,
            "display": null,
            "flex": null,
            "flex_flow": null,
            "grid_area": null,
            "grid_auto_columns": null,
            "grid_auto_flow": null,
            "grid_auto_rows": null,
            "grid_column": null,
            "grid_gap": null,
            "grid_row": null,
            "grid_template_areas": null,
            "grid_template_columns": null,
            "grid_template_rows": null,
            "height": null,
            "justify_content": null,
            "justify_items": null,
            "left": null,
            "margin": null,
            "max_height": null,
            "max_width": null,
            "min_height": null,
            "min_width": null,
            "object_fit": null,
            "object_position": null,
            "order": null,
            "overflow": null,
            "overflow_x": null,
            "overflow_y": null,
            "padding": null,
            "right": null,
            "top": null,
            "visibility": null,
            "width": null
          }
        },
        "08ffa56d3d654af3875f0f633ddaf7ae": {
          "model_module": "@jupyter-widgets/base",
          "model_name": "LayoutModel",
          "model_module_version": "1.2.0",
          "state": {
            "_model_module": "@jupyter-widgets/base",
            "_model_module_version": "1.2.0",
            "_model_name": "LayoutModel",
            "_view_count": null,
            "_view_module": "@jupyter-widgets/base",
            "_view_module_version": "1.2.0",
            "_view_name": "LayoutView",
            "align_content": null,
            "align_items": null,
            "align_self": null,
            "border": null,
            "bottom": null,
            "display": null,
            "flex": null,
            "flex_flow": null,
            "grid_area": null,
            "grid_auto_columns": null,
            "grid_auto_flow": null,
            "grid_auto_rows": null,
            "grid_column": null,
            "grid_gap": null,
            "grid_row": null,
            "grid_template_areas": null,
            "grid_template_columns": null,
            "grid_template_rows": null,
            "height": null,
            "justify_content": null,
            "justify_items": null,
            "left": null,
            "margin": null,
            "max_height": null,
            "max_width": null,
            "min_height": null,
            "min_width": null,
            "object_fit": null,
            "object_position": null,
            "order": null,
            "overflow": null,
            "overflow_x": null,
            "overflow_y": null,
            "padding": null,
            "right": null,
            "top": null,
            "visibility": null,
            "width": null
          }
        },
        "68b0bb4650884d829a1fb9330d973b17": {
          "model_module": "@jupyter-widgets/controls",
          "model_name": "DescriptionStyleModel",
          "model_module_version": "1.5.0",
          "state": {
            "_model_module": "@jupyter-widgets/controls",
            "_model_module_version": "1.5.0",
            "_model_name": "DescriptionStyleModel",
            "_view_count": null,
            "_view_module": "@jupyter-widgets/base",
            "_view_module_version": "1.2.0",
            "_view_name": "StyleView",
            "description_width": ""
          }
        },
        "303e0dd87c5749cbba8c4eb138d14264": {
          "model_module": "@jupyter-widgets/base",
          "model_name": "LayoutModel",
          "model_module_version": "1.2.0",
          "state": {
            "_model_module": "@jupyter-widgets/base",
            "_model_module_version": "1.2.0",
            "_model_name": "LayoutModel",
            "_view_count": null,
            "_view_module": "@jupyter-widgets/base",
            "_view_module_version": "1.2.0",
            "_view_name": "LayoutView",
            "align_content": null,
            "align_items": null,
            "align_self": null,
            "border": null,
            "bottom": null,
            "display": null,
            "flex": null,
            "flex_flow": null,
            "grid_area": null,
            "grid_auto_columns": null,
            "grid_auto_flow": null,
            "grid_auto_rows": null,
            "grid_column": null,
            "grid_gap": null,
            "grid_row": null,
            "grid_template_areas": null,
            "grid_template_columns": null,
            "grid_template_rows": null,
            "height": null,
            "justify_content": null,
            "justify_items": null,
            "left": null,
            "margin": null,
            "max_height": null,
            "max_width": null,
            "min_height": null,
            "min_width": null,
            "object_fit": null,
            "object_position": null,
            "order": null,
            "overflow": null,
            "overflow_x": null,
            "overflow_y": null,
            "padding": null,
            "right": null,
            "top": null,
            "visibility": null,
            "width": null
          }
        },
        "c52e63cd8e4f40bfb115fc8616db1af1": {
          "model_module": "@jupyter-widgets/controls",
          "model_name": "ProgressStyleModel",
          "model_module_version": "1.5.0",
          "state": {
            "_model_module": "@jupyter-widgets/controls",
            "_model_module_version": "1.5.0",
            "_model_name": "ProgressStyleModel",
            "_view_count": null,
            "_view_module": "@jupyter-widgets/base",
            "_view_module_version": "1.2.0",
            "_view_name": "StyleView",
            "bar_color": null,
            "description_width": ""
          }
        },
        "025a7c5590054adc969cf5acc52ef7f8": {
          "model_module": "@jupyter-widgets/base",
          "model_name": "LayoutModel",
          "model_module_version": "1.2.0",
          "state": {
            "_model_module": "@jupyter-widgets/base",
            "_model_module_version": "1.2.0",
            "_model_name": "LayoutModel",
            "_view_count": null,
            "_view_module": "@jupyter-widgets/base",
            "_view_module_version": "1.2.0",
            "_view_name": "LayoutView",
            "align_content": null,
            "align_items": null,
            "align_self": null,
            "border": null,
            "bottom": null,
            "display": null,
            "flex": null,
            "flex_flow": null,
            "grid_area": null,
            "grid_auto_columns": null,
            "grid_auto_flow": null,
            "grid_auto_rows": null,
            "grid_column": null,
            "grid_gap": null,
            "grid_row": null,
            "grid_template_areas": null,
            "grid_template_columns": null,
            "grid_template_rows": null,
            "height": null,
            "justify_content": null,
            "justify_items": null,
            "left": null,
            "margin": null,
            "max_height": null,
            "max_width": null,
            "min_height": null,
            "min_width": null,
            "object_fit": null,
            "object_position": null,
            "order": null,
            "overflow": null,
            "overflow_x": null,
            "overflow_y": null,
            "padding": null,
            "right": null,
            "top": null,
            "visibility": null,
            "width": null
          }
        },
        "a6118d1c8cab49ba99f034f2d38432fe": {
          "model_module": "@jupyter-widgets/controls",
          "model_name": "DescriptionStyleModel",
          "model_module_version": "1.5.0",
          "state": {
            "_model_module": "@jupyter-widgets/controls",
            "_model_module_version": "1.5.0",
            "_model_name": "DescriptionStyleModel",
            "_view_count": null,
            "_view_module": "@jupyter-widgets/base",
            "_view_module_version": "1.2.0",
            "_view_name": "StyleView",
            "description_width": ""
          }
        },
        "e74ebd33f85f4b638efd0460d967d79c": {
          "model_module": "@jupyter-widgets/controls",
          "model_name": "HBoxModel",
          "model_module_version": "1.5.0",
          "state": {
            "_dom_classes": [],
            "_model_module": "@jupyter-widgets/controls",
            "_model_module_version": "1.5.0",
            "_model_name": "HBoxModel",
            "_view_count": null,
            "_view_module": "@jupyter-widgets/controls",
            "_view_module_version": "1.5.0",
            "_view_name": "HBoxView",
            "box_style": "",
            "children": [
              "IPY_MODEL_2e44101f54dd4d6cad1e6f7972d5d7b1",
              "IPY_MODEL_965d2d59f588412b84222a2c928d3528",
              "IPY_MODEL_5fa662253cf54d689cb7e816a9e84def"
            ],
            "layout": "IPY_MODEL_f45c60e600554b12963ca7f51460a4c2"
          }
        },
        "2e44101f54dd4d6cad1e6f7972d5d7b1": {
          "model_module": "@jupyter-widgets/controls",
          "model_name": "HTMLModel",
          "model_module_version": "1.5.0",
          "state": {
            "_dom_classes": [],
            "_model_module": "@jupyter-widgets/controls",
            "_model_module_version": "1.5.0",
            "_model_name": "HTMLModel",
            "_view_count": null,
            "_view_module": "@jupyter-widgets/controls",
            "_view_module_version": "1.5.0",
            "_view_name": "HTMLView",
            "description": "",
            "description_tooltip": null,
            "layout": "IPY_MODEL_e41d0113d21f479292efd30e313ad658",
            "placeholder": "​",
            "style": "IPY_MODEL_ad50dac4e2724f22a68c1fe69609af4b",
            "value": "generation_config.json: 100%"
          }
        },
        "965d2d59f588412b84222a2c928d3528": {
          "model_module": "@jupyter-widgets/controls",
          "model_name": "FloatProgressModel",
          "model_module_version": "1.5.0",
          "state": {
            "_dom_classes": [],
            "_model_module": "@jupyter-widgets/controls",
            "_model_module_version": "1.5.0",
            "_model_name": "FloatProgressModel",
            "_view_count": null,
            "_view_module": "@jupyter-widgets/controls",
            "_view_module_version": "1.5.0",
            "_view_name": "ProgressView",
            "bar_style": "success",
            "description": "",
            "description_tooltip": null,
            "layout": "IPY_MODEL_86106d9375aa49e88139dfbf38190708",
            "max": 124,
            "min": 0,
            "orientation": "horizontal",
            "style": "IPY_MODEL_b090c73a9aa14a46bb7437e931219ce1",
            "value": 124
          }
        },
        "5fa662253cf54d689cb7e816a9e84def": {
          "model_module": "@jupyter-widgets/controls",
          "model_name": "HTMLModel",
          "model_module_version": "1.5.0",
          "state": {
            "_dom_classes": [],
            "_model_module": "@jupyter-widgets/controls",
            "_model_module_version": "1.5.0",
            "_model_name": "HTMLModel",
            "_view_count": null,
            "_view_module": "@jupyter-widgets/controls",
            "_view_module_version": "1.5.0",
            "_view_name": "HTMLView",
            "description": "",
            "description_tooltip": null,
            "layout": "IPY_MODEL_3053c1e0bd8e4453a94314c55b248a8c",
            "placeholder": "​",
            "style": "IPY_MODEL_7445b4ab047b4902b6f2be8a8fb413bd",
            "value": " 124/124 [00:00&lt;00:00, 3.97kB/s]"
          }
        },
        "f45c60e600554b12963ca7f51460a4c2": {
          "model_module": "@jupyter-widgets/base",
          "model_name": "LayoutModel",
          "model_module_version": "1.2.0",
          "state": {
            "_model_module": "@jupyter-widgets/base",
            "_model_module_version": "1.2.0",
            "_model_name": "LayoutModel",
            "_view_count": null,
            "_view_module": "@jupyter-widgets/base",
            "_view_module_version": "1.2.0",
            "_view_name": "LayoutView",
            "align_content": null,
            "align_items": null,
            "align_self": null,
            "border": null,
            "bottom": null,
            "display": null,
            "flex": null,
            "flex_flow": null,
            "grid_area": null,
            "grid_auto_columns": null,
            "grid_auto_flow": null,
            "grid_auto_rows": null,
            "grid_column": null,
            "grid_gap": null,
            "grid_row": null,
            "grid_template_areas": null,
            "grid_template_columns": null,
            "grid_template_rows": null,
            "height": null,
            "justify_content": null,
            "justify_items": null,
            "left": null,
            "margin": null,
            "max_height": null,
            "max_width": null,
            "min_height": null,
            "min_width": null,
            "object_fit": null,
            "object_position": null,
            "order": null,
            "overflow": null,
            "overflow_x": null,
            "overflow_y": null,
            "padding": null,
            "right": null,
            "top": null,
            "visibility": null,
            "width": null
          }
        },
        "e41d0113d21f479292efd30e313ad658": {
          "model_module": "@jupyter-widgets/base",
          "model_name": "LayoutModel",
          "model_module_version": "1.2.0",
          "state": {
            "_model_module": "@jupyter-widgets/base",
            "_model_module_version": "1.2.0",
            "_model_name": "LayoutModel",
            "_view_count": null,
            "_view_module": "@jupyter-widgets/base",
            "_view_module_version": "1.2.0",
            "_view_name": "LayoutView",
            "align_content": null,
            "align_items": null,
            "align_self": null,
            "border": null,
            "bottom": null,
            "display": null,
            "flex": null,
            "flex_flow": null,
            "grid_area": null,
            "grid_auto_columns": null,
            "grid_auto_flow": null,
            "grid_auto_rows": null,
            "grid_column": null,
            "grid_gap": null,
            "grid_row": null,
            "grid_template_areas": null,
            "grid_template_columns": null,
            "grid_template_rows": null,
            "height": null,
            "justify_content": null,
            "justify_items": null,
            "left": null,
            "margin": null,
            "max_height": null,
            "max_width": null,
            "min_height": null,
            "min_width": null,
            "object_fit": null,
            "object_position": null,
            "order": null,
            "overflow": null,
            "overflow_x": null,
            "overflow_y": null,
            "padding": null,
            "right": null,
            "top": null,
            "visibility": null,
            "width": null
          }
        },
        "ad50dac4e2724f22a68c1fe69609af4b": {
          "model_module": "@jupyter-widgets/controls",
          "model_name": "DescriptionStyleModel",
          "model_module_version": "1.5.0",
          "state": {
            "_model_module": "@jupyter-widgets/controls",
            "_model_module_version": "1.5.0",
            "_model_name": "DescriptionStyleModel",
            "_view_count": null,
            "_view_module": "@jupyter-widgets/base",
            "_view_module_version": "1.2.0",
            "_view_name": "StyleView",
            "description_width": ""
          }
        },
        "86106d9375aa49e88139dfbf38190708": {
          "model_module": "@jupyter-widgets/base",
          "model_name": "LayoutModel",
          "model_module_version": "1.2.0",
          "state": {
            "_model_module": "@jupyter-widgets/base",
            "_model_module_version": "1.2.0",
            "_model_name": "LayoutModel",
            "_view_count": null,
            "_view_module": "@jupyter-widgets/base",
            "_view_module_version": "1.2.0",
            "_view_name": "LayoutView",
            "align_content": null,
            "align_items": null,
            "align_self": null,
            "border": null,
            "bottom": null,
            "display": null,
            "flex": null,
            "flex_flow": null,
            "grid_area": null,
            "grid_auto_columns": null,
            "grid_auto_flow": null,
            "grid_auto_rows": null,
            "grid_column": null,
            "grid_gap": null,
            "grid_row": null,
            "grid_template_areas": null,
            "grid_template_columns": null,
            "grid_template_rows": null,
            "height": null,
            "justify_content": null,
            "justify_items": null,
            "left": null,
            "margin": null,
            "max_height": null,
            "max_width": null,
            "min_height": null,
            "min_width": null,
            "object_fit": null,
            "object_position": null,
            "order": null,
            "overflow": null,
            "overflow_x": null,
            "overflow_y": null,
            "padding": null,
            "right": null,
            "top": null,
            "visibility": null,
            "width": null
          }
        },
        "b090c73a9aa14a46bb7437e931219ce1": {
          "model_module": "@jupyter-widgets/controls",
          "model_name": "ProgressStyleModel",
          "model_module_version": "1.5.0",
          "state": {
            "_model_module": "@jupyter-widgets/controls",
            "_model_module_version": "1.5.0",
            "_model_name": "ProgressStyleModel",
            "_view_count": null,
            "_view_module": "@jupyter-widgets/base",
            "_view_module_version": "1.2.0",
            "_view_name": "StyleView",
            "bar_color": null,
            "description_width": ""
          }
        },
        "3053c1e0bd8e4453a94314c55b248a8c": {
          "model_module": "@jupyter-widgets/base",
          "model_name": "LayoutModel",
          "model_module_version": "1.2.0",
          "state": {
            "_model_module": "@jupyter-widgets/base",
            "_model_module_version": "1.2.0",
            "_model_name": "LayoutModel",
            "_view_count": null,
            "_view_module": "@jupyter-widgets/base",
            "_view_module_version": "1.2.0",
            "_view_name": "LayoutView",
            "align_content": null,
            "align_items": null,
            "align_self": null,
            "border": null,
            "bottom": null,
            "display": null,
            "flex": null,
            "flex_flow": null,
            "grid_area": null,
            "grid_auto_columns": null,
            "grid_auto_flow": null,
            "grid_auto_rows": null,
            "grid_column": null,
            "grid_gap": null,
            "grid_row": null,
            "grid_template_areas": null,
            "grid_template_columns": null,
            "grid_template_rows": null,
            "height": null,
            "justify_content": null,
            "justify_items": null,
            "left": null,
            "margin": null,
            "max_height": null,
            "max_width": null,
            "min_height": null,
            "min_width": null,
            "object_fit": null,
            "object_position": null,
            "order": null,
            "overflow": null,
            "overflow_x": null,
            "overflow_y": null,
            "padding": null,
            "right": null,
            "top": null,
            "visibility": null,
            "width": null
          }
        },
        "7445b4ab047b4902b6f2be8a8fb413bd": {
          "model_module": "@jupyter-widgets/controls",
          "model_name": "DescriptionStyleModel",
          "model_module_version": "1.5.0",
          "state": {
            "_model_module": "@jupyter-widgets/controls",
            "_model_module_version": "1.5.0",
            "_model_name": "DescriptionStyleModel",
            "_view_count": null,
            "_view_module": "@jupyter-widgets/base",
            "_view_module_version": "1.2.0",
            "_view_name": "StyleView",
            "description_width": ""
          }
        },
        "733e608c10ca41bfa53841b8e0ab62da": {
          "model_module": "@jupyter-widgets/controls",
          "model_name": "HBoxModel",
          "model_module_version": "1.5.0",
          "state": {
            "_dom_classes": [],
            "_model_module": "@jupyter-widgets/controls",
            "_model_module_version": "1.5.0",
            "_model_name": "HBoxModel",
            "_view_count": null,
            "_view_module": "@jupyter-widgets/controls",
            "_view_module_version": "1.5.0",
            "_view_name": "HBoxView",
            "box_style": "",
            "children": [
              "IPY_MODEL_1a2c986a5bd34518a37ce1f87e4422b0",
              "IPY_MODEL_dd2f7b3fa4cb4b58a1d9c7b59ea0e469",
              "IPY_MODEL_b5d2f80ba8e34095bfd0aaa97539889a"
            ],
            "layout": "IPY_MODEL_507c694bd5094e238c2e0bff20d4f71d"
          }
        },
        "1a2c986a5bd34518a37ce1f87e4422b0": {
          "model_module": "@jupyter-widgets/controls",
          "model_name": "HTMLModel",
          "model_module_version": "1.5.0",
          "state": {
            "_dom_classes": [],
            "_model_module": "@jupyter-widgets/controls",
            "_model_module_version": "1.5.0",
            "_model_name": "HTMLModel",
            "_view_count": null,
            "_view_module": "@jupyter-widgets/controls",
            "_view_module_version": "1.5.0",
            "_view_name": "HTMLView",
            "description": "",
            "description_tooltip": null,
            "layout": "IPY_MODEL_83adb61456964c32aa673c8a549d3096",
            "placeholder": "​",
            "style": "IPY_MODEL_b63b661853174992a3bb9605a89a6cfe",
            "value": "tokenizer_config.json: 100%"
          }
        },
        "dd2f7b3fa4cb4b58a1d9c7b59ea0e469": {
          "model_module": "@jupyter-widgets/controls",
          "model_name": "FloatProgressModel",
          "model_module_version": "1.5.0",
          "state": {
            "_dom_classes": [],
            "_model_module": "@jupyter-widgets/controls",
            "_model_module_version": "1.5.0",
            "_model_name": "FloatProgressModel",
            "_view_count": null,
            "_view_module": "@jupyter-widgets/controls",
            "_view_module_version": "1.5.0",
            "_view_name": "ProgressView",
            "bar_style": "success",
            "description": "",
            "description_tooltip": null,
            "layout": "IPY_MODEL_825d2378ac8143f5a3e90f4e68eebbd7",
            "max": 26,
            "min": 0,
            "orientation": "horizontal",
            "style": "IPY_MODEL_2f019789ce524a8b9420503c175944ad",
            "value": 26
          }
        },
        "b5d2f80ba8e34095bfd0aaa97539889a": {
          "model_module": "@jupyter-widgets/controls",
          "model_name": "HTMLModel",
          "model_module_version": "1.5.0",
          "state": {
            "_dom_classes": [],
            "_model_module": "@jupyter-widgets/controls",
            "_model_module_version": "1.5.0",
            "_model_name": "HTMLModel",
            "_view_count": null,
            "_view_module": "@jupyter-widgets/controls",
            "_view_module_version": "1.5.0",
            "_view_name": "HTMLView",
            "description": "",
            "description_tooltip": null,
            "layout": "IPY_MODEL_fc393ab557b84bc5b492fd654c27aa82",
            "placeholder": "​",
            "style": "IPY_MODEL_fb0e4a5c8a7649c1b7275d397b8d4295",
            "value": " 26.0/26.0 [00:00&lt;00:00, 606B/s]"
          }
        },
        "507c694bd5094e238c2e0bff20d4f71d": {
          "model_module": "@jupyter-widgets/base",
          "model_name": "LayoutModel",
          "model_module_version": "1.2.0",
          "state": {
            "_model_module": "@jupyter-widgets/base",
            "_model_module_version": "1.2.0",
            "_model_name": "LayoutModel",
            "_view_count": null,
            "_view_module": "@jupyter-widgets/base",
            "_view_module_version": "1.2.0",
            "_view_name": "LayoutView",
            "align_content": null,
            "align_items": null,
            "align_self": null,
            "border": null,
            "bottom": null,
            "display": null,
            "flex": null,
            "flex_flow": null,
            "grid_area": null,
            "grid_auto_columns": null,
            "grid_auto_flow": null,
            "grid_auto_rows": null,
            "grid_column": null,
            "grid_gap": null,
            "grid_row": null,
            "grid_template_areas": null,
            "grid_template_columns": null,
            "grid_template_rows": null,
            "height": null,
            "justify_content": null,
            "justify_items": null,
            "left": null,
            "margin": null,
            "max_height": null,
            "max_width": null,
            "min_height": null,
            "min_width": null,
            "object_fit": null,
            "object_position": null,
            "order": null,
            "overflow": null,
            "overflow_x": null,
            "overflow_y": null,
            "padding": null,
            "right": null,
            "top": null,
            "visibility": null,
            "width": null
          }
        },
        "83adb61456964c32aa673c8a549d3096": {
          "model_module": "@jupyter-widgets/base",
          "model_name": "LayoutModel",
          "model_module_version": "1.2.0",
          "state": {
            "_model_module": "@jupyter-widgets/base",
            "_model_module_version": "1.2.0",
            "_model_name": "LayoutModel",
            "_view_count": null,
            "_view_module": "@jupyter-widgets/base",
            "_view_module_version": "1.2.0",
            "_view_name": "LayoutView",
            "align_content": null,
            "align_items": null,
            "align_self": null,
            "border": null,
            "bottom": null,
            "display": null,
            "flex": null,
            "flex_flow": null,
            "grid_area": null,
            "grid_auto_columns": null,
            "grid_auto_flow": null,
            "grid_auto_rows": null,
            "grid_column": null,
            "grid_gap": null,
            "grid_row": null,
            "grid_template_areas": null,
            "grid_template_columns": null,
            "grid_template_rows": null,
            "height": null,
            "justify_content": null,
            "justify_items": null,
            "left": null,
            "margin": null,
            "max_height": null,
            "max_width": null,
            "min_height": null,
            "min_width": null,
            "object_fit": null,
            "object_position": null,
            "order": null,
            "overflow": null,
            "overflow_x": null,
            "overflow_y": null,
            "padding": null,
            "right": null,
            "top": null,
            "visibility": null,
            "width": null
          }
        },
        "b63b661853174992a3bb9605a89a6cfe": {
          "model_module": "@jupyter-widgets/controls",
          "model_name": "DescriptionStyleModel",
          "model_module_version": "1.5.0",
          "state": {
            "_model_module": "@jupyter-widgets/controls",
            "_model_module_version": "1.5.0",
            "_model_name": "DescriptionStyleModel",
            "_view_count": null,
            "_view_module": "@jupyter-widgets/base",
            "_view_module_version": "1.2.0",
            "_view_name": "StyleView",
            "description_width": ""
          }
        },
        "825d2378ac8143f5a3e90f4e68eebbd7": {
          "model_module": "@jupyter-widgets/base",
          "model_name": "LayoutModel",
          "model_module_version": "1.2.0",
          "state": {
            "_model_module": "@jupyter-widgets/base",
            "_model_module_version": "1.2.0",
            "_model_name": "LayoutModel",
            "_view_count": null,
            "_view_module": "@jupyter-widgets/base",
            "_view_module_version": "1.2.0",
            "_view_name": "LayoutView",
            "align_content": null,
            "align_items": null,
            "align_self": null,
            "border": null,
            "bottom": null,
            "display": null,
            "flex": null,
            "flex_flow": null,
            "grid_area": null,
            "grid_auto_columns": null,
            "grid_auto_flow": null,
            "grid_auto_rows": null,
            "grid_column": null,
            "grid_gap": null,
            "grid_row": null,
            "grid_template_areas": null,
            "grid_template_columns": null,
            "grid_template_rows": null,
            "height": null,
            "justify_content": null,
            "justify_items": null,
            "left": null,
            "margin": null,
            "max_height": null,
            "max_width": null,
            "min_height": null,
            "min_width": null,
            "object_fit": null,
            "object_position": null,
            "order": null,
            "overflow": null,
            "overflow_x": null,
            "overflow_y": null,
            "padding": null,
            "right": null,
            "top": null,
            "visibility": null,
            "width": null
          }
        },
        "2f019789ce524a8b9420503c175944ad": {
          "model_module": "@jupyter-widgets/controls",
          "model_name": "ProgressStyleModel",
          "model_module_version": "1.5.0",
          "state": {
            "_model_module": "@jupyter-widgets/controls",
            "_model_module_version": "1.5.0",
            "_model_name": "ProgressStyleModel",
            "_view_count": null,
            "_view_module": "@jupyter-widgets/base",
            "_view_module_version": "1.2.0",
            "_view_name": "StyleView",
            "bar_color": null,
            "description_width": ""
          }
        },
        "fc393ab557b84bc5b492fd654c27aa82": {
          "model_module": "@jupyter-widgets/base",
          "model_name": "LayoutModel",
          "model_module_version": "1.2.0",
          "state": {
            "_model_module": "@jupyter-widgets/base",
            "_model_module_version": "1.2.0",
            "_model_name": "LayoutModel",
            "_view_count": null,
            "_view_module": "@jupyter-widgets/base",
            "_view_module_version": "1.2.0",
            "_view_name": "LayoutView",
            "align_content": null,
            "align_items": null,
            "align_self": null,
            "border": null,
            "bottom": null,
            "display": null,
            "flex": null,
            "flex_flow": null,
            "grid_area": null,
            "grid_auto_columns": null,
            "grid_auto_flow": null,
            "grid_auto_rows": null,
            "grid_column": null,
            "grid_gap": null,
            "grid_row": null,
            "grid_template_areas": null,
            "grid_template_columns": null,
            "grid_template_rows": null,
            "height": null,
            "justify_content": null,
            "justify_items": null,
            "left": null,
            "margin": null,
            "max_height": null,
            "max_width": null,
            "min_height": null,
            "min_width": null,
            "object_fit": null,
            "object_position": null,
            "order": null,
            "overflow": null,
            "overflow_x": null,
            "overflow_y": null,
            "padding": null,
            "right": null,
            "top": null,
            "visibility": null,
            "width": null
          }
        },
        "fb0e4a5c8a7649c1b7275d397b8d4295": {
          "model_module": "@jupyter-widgets/controls",
          "model_name": "DescriptionStyleModel",
          "model_module_version": "1.5.0",
          "state": {
            "_model_module": "@jupyter-widgets/controls",
            "_model_module_version": "1.5.0",
            "_model_name": "DescriptionStyleModel",
            "_view_count": null,
            "_view_module": "@jupyter-widgets/base",
            "_view_module_version": "1.2.0",
            "_view_name": "StyleView",
            "description_width": ""
          }
        },
        "7e2da80b1f5f4749bb133c65daad6f1c": {
          "model_module": "@jupyter-widgets/controls",
          "model_name": "HBoxModel",
          "model_module_version": "1.5.0",
          "state": {
            "_dom_classes": [],
            "_model_module": "@jupyter-widgets/controls",
            "_model_module_version": "1.5.0",
            "_model_name": "HBoxModel",
            "_view_count": null,
            "_view_module": "@jupyter-widgets/controls",
            "_view_module_version": "1.5.0",
            "_view_name": "HBoxView",
            "box_style": "",
            "children": [
              "IPY_MODEL_f5e1102cdf45492a8876d483311373ff",
              "IPY_MODEL_f0efeb191ab944119316135f6f848a2f",
              "IPY_MODEL_2d1403c2976041748fa48c9aee8b1a9a"
            ],
            "layout": "IPY_MODEL_e7996afa5eec4431ad5e6a107ce8ab25"
          }
        },
        "f5e1102cdf45492a8876d483311373ff": {
          "model_module": "@jupyter-widgets/controls",
          "model_name": "HTMLModel",
          "model_module_version": "1.5.0",
          "state": {
            "_dom_classes": [],
            "_model_module": "@jupyter-widgets/controls",
            "_model_module_version": "1.5.0",
            "_model_name": "HTMLModel",
            "_view_count": null,
            "_view_module": "@jupyter-widgets/controls",
            "_view_module_version": "1.5.0",
            "_view_name": "HTMLView",
            "description": "",
            "description_tooltip": null,
            "layout": "IPY_MODEL_4672b36b00de4ea9a5cdddef8d8861bf",
            "placeholder": "​",
            "style": "IPY_MODEL_d223c594b11d4ffc976b057445d7cc96",
            "value": "vocab.json: 100%"
          }
        },
        "f0efeb191ab944119316135f6f848a2f": {
          "model_module": "@jupyter-widgets/controls",
          "model_name": "FloatProgressModel",
          "model_module_version": "1.5.0",
          "state": {
            "_dom_classes": [],
            "_model_module": "@jupyter-widgets/controls",
            "_model_module_version": "1.5.0",
            "_model_name": "FloatProgressModel",
            "_view_count": null,
            "_view_module": "@jupyter-widgets/controls",
            "_view_module_version": "1.5.0",
            "_view_name": "ProgressView",
            "bar_style": "success",
            "description": "",
            "description_tooltip": null,
            "layout": "IPY_MODEL_e8317dc868664fe18a8ee9558d9d5ace",
            "max": 1042301,
            "min": 0,
            "orientation": "horizontal",
            "style": "IPY_MODEL_41133b4e5097402389fd2c37716294c5",
            "value": 1042301
          }
        },
        "2d1403c2976041748fa48c9aee8b1a9a": {
          "model_module": "@jupyter-widgets/controls",
          "model_name": "HTMLModel",
          "model_module_version": "1.5.0",
          "state": {
            "_dom_classes": [],
            "_model_module": "@jupyter-widgets/controls",
            "_model_module_version": "1.5.0",
            "_model_name": "HTMLModel",
            "_view_count": null,
            "_view_module": "@jupyter-widgets/controls",
            "_view_module_version": "1.5.0",
            "_view_name": "HTMLView",
            "description": "",
            "description_tooltip": null,
            "layout": "IPY_MODEL_55b420f03bc2475f9849e92c2172cc17",
            "placeholder": "​",
            "style": "IPY_MODEL_0005d6723c7441ec98410d0ed841fd86",
            "value": " 1.04M/1.04M [00:00&lt;00:00, 14.4MB/s]"
          }
        },
        "e7996afa5eec4431ad5e6a107ce8ab25": {
          "model_module": "@jupyter-widgets/base",
          "model_name": "LayoutModel",
          "model_module_version": "1.2.0",
          "state": {
            "_model_module": "@jupyter-widgets/base",
            "_model_module_version": "1.2.0",
            "_model_name": "LayoutModel",
            "_view_count": null,
            "_view_module": "@jupyter-widgets/base",
            "_view_module_version": "1.2.0",
            "_view_name": "LayoutView",
            "align_content": null,
            "align_items": null,
            "align_self": null,
            "border": null,
            "bottom": null,
            "display": null,
            "flex": null,
            "flex_flow": null,
            "grid_area": null,
            "grid_auto_columns": null,
            "grid_auto_flow": null,
            "grid_auto_rows": null,
            "grid_column": null,
            "grid_gap": null,
            "grid_row": null,
            "grid_template_areas": null,
            "grid_template_columns": null,
            "grid_template_rows": null,
            "height": null,
            "justify_content": null,
            "justify_items": null,
            "left": null,
            "margin": null,
            "max_height": null,
            "max_width": null,
            "min_height": null,
            "min_width": null,
            "object_fit": null,
            "object_position": null,
            "order": null,
            "overflow": null,
            "overflow_x": null,
            "overflow_y": null,
            "padding": null,
            "right": null,
            "top": null,
            "visibility": null,
            "width": null
          }
        },
        "4672b36b00de4ea9a5cdddef8d8861bf": {
          "model_module": "@jupyter-widgets/base",
          "model_name": "LayoutModel",
          "model_module_version": "1.2.0",
          "state": {
            "_model_module": "@jupyter-widgets/base",
            "_model_module_version": "1.2.0",
            "_model_name": "LayoutModel",
            "_view_count": null,
            "_view_module": "@jupyter-widgets/base",
            "_view_module_version": "1.2.0",
            "_view_name": "LayoutView",
            "align_content": null,
            "align_items": null,
            "align_self": null,
            "border": null,
            "bottom": null,
            "display": null,
            "flex": null,
            "flex_flow": null,
            "grid_area": null,
            "grid_auto_columns": null,
            "grid_auto_flow": null,
            "grid_auto_rows": null,
            "grid_column": null,
            "grid_gap": null,
            "grid_row": null,
            "grid_template_areas": null,
            "grid_template_columns": null,
            "grid_template_rows": null,
            "height": null,
            "justify_content": null,
            "justify_items": null,
            "left": null,
            "margin": null,
            "max_height": null,
            "max_width": null,
            "min_height": null,
            "min_width": null,
            "object_fit": null,
            "object_position": null,
            "order": null,
            "overflow": null,
            "overflow_x": null,
            "overflow_y": null,
            "padding": null,
            "right": null,
            "top": null,
            "visibility": null,
            "width": null
          }
        },
        "d223c594b11d4ffc976b057445d7cc96": {
          "model_module": "@jupyter-widgets/controls",
          "model_name": "DescriptionStyleModel",
          "model_module_version": "1.5.0",
          "state": {
            "_model_module": "@jupyter-widgets/controls",
            "_model_module_version": "1.5.0",
            "_model_name": "DescriptionStyleModel",
            "_view_count": null,
            "_view_module": "@jupyter-widgets/base",
            "_view_module_version": "1.2.0",
            "_view_name": "StyleView",
            "description_width": ""
          }
        },
        "e8317dc868664fe18a8ee9558d9d5ace": {
          "model_module": "@jupyter-widgets/base",
          "model_name": "LayoutModel",
          "model_module_version": "1.2.0",
          "state": {
            "_model_module": "@jupyter-widgets/base",
            "_model_module_version": "1.2.0",
            "_model_name": "LayoutModel",
            "_view_count": null,
            "_view_module": "@jupyter-widgets/base",
            "_view_module_version": "1.2.0",
            "_view_name": "LayoutView",
            "align_content": null,
            "align_items": null,
            "align_self": null,
            "border": null,
            "bottom": null,
            "display": null,
            "flex": null,
            "flex_flow": null,
            "grid_area": null,
            "grid_auto_columns": null,
            "grid_auto_flow": null,
            "grid_auto_rows": null,
            "grid_column": null,
            "grid_gap": null,
            "grid_row": null,
            "grid_template_areas": null,
            "grid_template_columns": null,
            "grid_template_rows": null,
            "height": null,
            "justify_content": null,
            "justify_items": null,
            "left": null,
            "margin": null,
            "max_height": null,
            "max_width": null,
            "min_height": null,
            "min_width": null,
            "object_fit": null,
            "object_position": null,
            "order": null,
            "overflow": null,
            "overflow_x": null,
            "overflow_y": null,
            "padding": null,
            "right": null,
            "top": null,
            "visibility": null,
            "width": null
          }
        },
        "41133b4e5097402389fd2c37716294c5": {
          "model_module": "@jupyter-widgets/controls",
          "model_name": "ProgressStyleModel",
          "model_module_version": "1.5.0",
          "state": {
            "_model_module": "@jupyter-widgets/controls",
            "_model_module_version": "1.5.0",
            "_model_name": "ProgressStyleModel",
            "_view_count": null,
            "_view_module": "@jupyter-widgets/base",
            "_view_module_version": "1.2.0",
            "_view_name": "StyleView",
            "bar_color": null,
            "description_width": ""
          }
        },
        "55b420f03bc2475f9849e92c2172cc17": {
          "model_module": "@jupyter-widgets/base",
          "model_name": "LayoutModel",
          "model_module_version": "1.2.0",
          "state": {
            "_model_module": "@jupyter-widgets/base",
            "_model_module_version": "1.2.0",
            "_model_name": "LayoutModel",
            "_view_count": null,
            "_view_module": "@jupyter-widgets/base",
            "_view_module_version": "1.2.0",
            "_view_name": "LayoutView",
            "align_content": null,
            "align_items": null,
            "align_self": null,
            "border": null,
            "bottom": null,
            "display": null,
            "flex": null,
            "flex_flow": null,
            "grid_area": null,
            "grid_auto_columns": null,
            "grid_auto_flow": null,
            "grid_auto_rows": null,
            "grid_column": null,
            "grid_gap": null,
            "grid_row": null,
            "grid_template_areas": null,
            "grid_template_columns": null,
            "grid_template_rows": null,
            "height": null,
            "justify_content": null,
            "justify_items": null,
            "left": null,
            "margin": null,
            "max_height": null,
            "max_width": null,
            "min_height": null,
            "min_width": null,
            "object_fit": null,
            "object_position": null,
            "order": null,
            "overflow": null,
            "overflow_x": null,
            "overflow_y": null,
            "padding": null,
            "right": null,
            "top": null,
            "visibility": null,
            "width": null
          }
        },
        "0005d6723c7441ec98410d0ed841fd86": {
          "model_module": "@jupyter-widgets/controls",
          "model_name": "DescriptionStyleModel",
          "model_module_version": "1.5.0",
          "state": {
            "_model_module": "@jupyter-widgets/controls",
            "_model_module_version": "1.5.0",
            "_model_name": "DescriptionStyleModel",
            "_view_count": null,
            "_view_module": "@jupyter-widgets/base",
            "_view_module_version": "1.2.0",
            "_view_name": "StyleView",
            "description_width": ""
          }
        },
        "042374d41b4d4f78af15a427a9ef22f1": {
          "model_module": "@jupyter-widgets/controls",
          "model_name": "HBoxModel",
          "model_module_version": "1.5.0",
          "state": {
            "_dom_classes": [],
            "_model_module": "@jupyter-widgets/controls",
            "_model_module_version": "1.5.0",
            "_model_name": "HBoxModel",
            "_view_count": null,
            "_view_module": "@jupyter-widgets/controls",
            "_view_module_version": "1.5.0",
            "_view_name": "HBoxView",
            "box_style": "",
            "children": [
              "IPY_MODEL_90096694dcb646b689202fd9302eb43e",
              "IPY_MODEL_8c461992870540149cb096df8a929448",
              "IPY_MODEL_fcadc6af751a4a769e77c6472e618cfa"
            ],
            "layout": "IPY_MODEL_a068ab5392c1427da62b7982c0972b6d"
          }
        },
        "90096694dcb646b689202fd9302eb43e": {
          "model_module": "@jupyter-widgets/controls",
          "model_name": "HTMLModel",
          "model_module_version": "1.5.0",
          "state": {
            "_dom_classes": [],
            "_model_module": "@jupyter-widgets/controls",
            "_model_module_version": "1.5.0",
            "_model_name": "HTMLModel",
            "_view_count": null,
            "_view_module": "@jupyter-widgets/controls",
            "_view_module_version": "1.5.0",
            "_view_name": "HTMLView",
            "description": "",
            "description_tooltip": null,
            "layout": "IPY_MODEL_4de428c8291c49e0af7dd5e2e23e8fe9",
            "placeholder": "​",
            "style": "IPY_MODEL_b89e22492d6e4d6eafddd9867ca9e0e4",
            "value": "merges.txt: 100%"
          }
        },
        "8c461992870540149cb096df8a929448": {
          "model_module": "@jupyter-widgets/controls",
          "model_name": "FloatProgressModel",
          "model_module_version": "1.5.0",
          "state": {
            "_dom_classes": [],
            "_model_module": "@jupyter-widgets/controls",
            "_model_module_version": "1.5.0",
            "_model_name": "FloatProgressModel",
            "_view_count": null,
            "_view_module": "@jupyter-widgets/controls",
            "_view_module_version": "1.5.0",
            "_view_name": "ProgressView",
            "bar_style": "success",
            "description": "",
            "description_tooltip": null,
            "layout": "IPY_MODEL_ce3a3e367eb24df1bf4aef10f095358f",
            "max": 456318,
            "min": 0,
            "orientation": "horizontal",
            "style": "IPY_MODEL_b9b847e3c170448f9210469f9ece7328",
            "value": 456318
          }
        },
        "fcadc6af751a4a769e77c6472e618cfa": {
          "model_module": "@jupyter-widgets/controls",
          "model_name": "HTMLModel",
          "model_module_version": "1.5.0",
          "state": {
            "_dom_classes": [],
            "_model_module": "@jupyter-widgets/controls",
            "_model_module_version": "1.5.0",
            "_model_name": "HTMLModel",
            "_view_count": null,
            "_view_module": "@jupyter-widgets/controls",
            "_view_module_version": "1.5.0",
            "_view_name": "HTMLView",
            "description": "",
            "description_tooltip": null,
            "layout": "IPY_MODEL_ac4e56f171b34c19a77fad1a95fdaa74",
            "placeholder": "​",
            "style": "IPY_MODEL_471e24721efa4d958e657fdc98bf864f",
            "value": " 456k/456k [00:00&lt;00:00, 13.0MB/s]"
          }
        },
        "a068ab5392c1427da62b7982c0972b6d": {
          "model_module": "@jupyter-widgets/base",
          "model_name": "LayoutModel",
          "model_module_version": "1.2.0",
          "state": {
            "_model_module": "@jupyter-widgets/base",
            "_model_module_version": "1.2.0",
            "_model_name": "LayoutModel",
            "_view_count": null,
            "_view_module": "@jupyter-widgets/base",
            "_view_module_version": "1.2.0",
            "_view_name": "LayoutView",
            "align_content": null,
            "align_items": null,
            "align_self": null,
            "border": null,
            "bottom": null,
            "display": null,
            "flex": null,
            "flex_flow": null,
            "grid_area": null,
            "grid_auto_columns": null,
            "grid_auto_flow": null,
            "grid_auto_rows": null,
            "grid_column": null,
            "grid_gap": null,
            "grid_row": null,
            "grid_template_areas": null,
            "grid_template_columns": null,
            "grid_template_rows": null,
            "height": null,
            "justify_content": null,
            "justify_items": null,
            "left": null,
            "margin": null,
            "max_height": null,
            "max_width": null,
            "min_height": null,
            "min_width": null,
            "object_fit": null,
            "object_position": null,
            "order": null,
            "overflow": null,
            "overflow_x": null,
            "overflow_y": null,
            "padding": null,
            "right": null,
            "top": null,
            "visibility": null,
            "width": null
          }
        },
        "4de428c8291c49e0af7dd5e2e23e8fe9": {
          "model_module": "@jupyter-widgets/base",
          "model_name": "LayoutModel",
          "model_module_version": "1.2.0",
          "state": {
            "_model_module": "@jupyter-widgets/base",
            "_model_module_version": "1.2.0",
            "_model_name": "LayoutModel",
            "_view_count": null,
            "_view_module": "@jupyter-widgets/base",
            "_view_module_version": "1.2.0",
            "_view_name": "LayoutView",
            "align_content": null,
            "align_items": null,
            "align_self": null,
            "border": null,
            "bottom": null,
            "display": null,
            "flex": null,
            "flex_flow": null,
            "grid_area": null,
            "grid_auto_columns": null,
            "grid_auto_flow": null,
            "grid_auto_rows": null,
            "grid_column": null,
            "grid_gap": null,
            "grid_row": null,
            "grid_template_areas": null,
            "grid_template_columns": null,
            "grid_template_rows": null,
            "height": null,
            "justify_content": null,
            "justify_items": null,
            "left": null,
            "margin": null,
            "max_height": null,
            "max_width": null,
            "min_height": null,
            "min_width": null,
            "object_fit": null,
            "object_position": null,
            "order": null,
            "overflow": null,
            "overflow_x": null,
            "overflow_y": null,
            "padding": null,
            "right": null,
            "top": null,
            "visibility": null,
            "width": null
          }
        },
        "b89e22492d6e4d6eafddd9867ca9e0e4": {
          "model_module": "@jupyter-widgets/controls",
          "model_name": "DescriptionStyleModel",
          "model_module_version": "1.5.0",
          "state": {
            "_model_module": "@jupyter-widgets/controls",
            "_model_module_version": "1.5.0",
            "_model_name": "DescriptionStyleModel",
            "_view_count": null,
            "_view_module": "@jupyter-widgets/base",
            "_view_module_version": "1.2.0",
            "_view_name": "StyleView",
            "description_width": ""
          }
        },
        "ce3a3e367eb24df1bf4aef10f095358f": {
          "model_module": "@jupyter-widgets/base",
          "model_name": "LayoutModel",
          "model_module_version": "1.2.0",
          "state": {
            "_model_module": "@jupyter-widgets/base",
            "_model_module_version": "1.2.0",
            "_model_name": "LayoutModel",
            "_view_count": null,
            "_view_module": "@jupyter-widgets/base",
            "_view_module_version": "1.2.0",
            "_view_name": "LayoutView",
            "align_content": null,
            "align_items": null,
            "align_self": null,
            "border": null,
            "bottom": null,
            "display": null,
            "flex": null,
            "flex_flow": null,
            "grid_area": null,
            "grid_auto_columns": null,
            "grid_auto_flow": null,
            "grid_auto_rows": null,
            "grid_column": null,
            "grid_gap": null,
            "grid_row": null,
            "grid_template_areas": null,
            "grid_template_columns": null,
            "grid_template_rows": null,
            "height": null,
            "justify_content": null,
            "justify_items": null,
            "left": null,
            "margin": null,
            "max_height": null,
            "max_width": null,
            "min_height": null,
            "min_width": null,
            "object_fit": null,
            "object_position": null,
            "order": null,
            "overflow": null,
            "overflow_x": null,
            "overflow_y": null,
            "padding": null,
            "right": null,
            "top": null,
            "visibility": null,
            "width": null
          }
        },
        "b9b847e3c170448f9210469f9ece7328": {
          "model_module": "@jupyter-widgets/controls",
          "model_name": "ProgressStyleModel",
          "model_module_version": "1.5.0",
          "state": {
            "_model_module": "@jupyter-widgets/controls",
            "_model_module_version": "1.5.0",
            "_model_name": "ProgressStyleModel",
            "_view_count": null,
            "_view_module": "@jupyter-widgets/base",
            "_view_module_version": "1.2.0",
            "_view_name": "StyleView",
            "bar_color": null,
            "description_width": ""
          }
        },
        "ac4e56f171b34c19a77fad1a95fdaa74": {
          "model_module": "@jupyter-widgets/base",
          "model_name": "LayoutModel",
          "model_module_version": "1.2.0",
          "state": {
            "_model_module": "@jupyter-widgets/base",
            "_model_module_version": "1.2.0",
            "_model_name": "LayoutModel",
            "_view_count": null,
            "_view_module": "@jupyter-widgets/base",
            "_view_module_version": "1.2.0",
            "_view_name": "LayoutView",
            "align_content": null,
            "align_items": null,
            "align_self": null,
            "border": null,
            "bottom": null,
            "display": null,
            "flex": null,
            "flex_flow": null,
            "grid_area": null,
            "grid_auto_columns": null,
            "grid_auto_flow": null,
            "grid_auto_rows": null,
            "grid_column": null,
            "grid_gap": null,
            "grid_row": null,
            "grid_template_areas": null,
            "grid_template_columns": null,
            "grid_template_rows": null,
            "height": null,
            "justify_content": null,
            "justify_items": null,
            "left": null,
            "margin": null,
            "max_height": null,
            "max_width": null,
            "min_height": null,
            "min_width": null,
            "object_fit": null,
            "object_position": null,
            "order": null,
            "overflow": null,
            "overflow_x": null,
            "overflow_y": null,
            "padding": null,
            "right": null,
            "top": null,
            "visibility": null,
            "width": null
          }
        },
        "471e24721efa4d958e657fdc98bf864f": {
          "model_module": "@jupyter-widgets/controls",
          "model_name": "DescriptionStyleModel",
          "model_module_version": "1.5.0",
          "state": {
            "_model_module": "@jupyter-widgets/controls",
            "_model_module_version": "1.5.0",
            "_model_name": "DescriptionStyleModel",
            "_view_count": null,
            "_view_module": "@jupyter-widgets/base",
            "_view_module_version": "1.2.0",
            "_view_name": "StyleView",
            "description_width": ""
          }
        },
        "2876b29438ba49a89ddd0dcd06e9b4db": {
          "model_module": "@jupyter-widgets/controls",
          "model_name": "HBoxModel",
          "model_module_version": "1.5.0",
          "state": {
            "_dom_classes": [],
            "_model_module": "@jupyter-widgets/controls",
            "_model_module_version": "1.5.0",
            "_model_name": "HBoxModel",
            "_view_count": null,
            "_view_module": "@jupyter-widgets/controls",
            "_view_module_version": "1.5.0",
            "_view_name": "HBoxView",
            "box_style": "",
            "children": [
              "IPY_MODEL_e291100081d340048abd8e89a37ee976",
              "IPY_MODEL_ed2473fd81c44c30b80cbecf66e4b7db",
              "IPY_MODEL_ff9c4529b8d149de965823d8658707d4"
            ],
            "layout": "IPY_MODEL_fc73d08d5563443f9e3ba797c4f41ffc"
          }
        },
        "e291100081d340048abd8e89a37ee976": {
          "model_module": "@jupyter-widgets/controls",
          "model_name": "HTMLModel",
          "model_module_version": "1.5.0",
          "state": {
            "_dom_classes": [],
            "_model_module": "@jupyter-widgets/controls",
            "_model_module_version": "1.5.0",
            "_model_name": "HTMLModel",
            "_view_count": null,
            "_view_module": "@jupyter-widgets/controls",
            "_view_module_version": "1.5.0",
            "_view_name": "HTMLView",
            "description": "",
            "description_tooltip": null,
            "layout": "IPY_MODEL_2efd0d61b1bc4594944a91c54b8f77fb",
            "placeholder": "​",
            "style": "IPY_MODEL_79edc333a85e413fa9225327f6105544",
            "value": "tokenizer.json: 100%"
          }
        },
        "ed2473fd81c44c30b80cbecf66e4b7db": {
          "model_module": "@jupyter-widgets/controls",
          "model_name": "FloatProgressModel",
          "model_module_version": "1.5.0",
          "state": {
            "_dom_classes": [],
            "_model_module": "@jupyter-widgets/controls",
            "_model_module_version": "1.5.0",
            "_model_name": "FloatProgressModel",
            "_view_count": null,
            "_view_module": "@jupyter-widgets/controls",
            "_view_module_version": "1.5.0",
            "_view_name": "ProgressView",
            "bar_style": "success",
            "description": "",
            "description_tooltip": null,
            "layout": "IPY_MODEL_0f96e19269b5479eb438535bfad3237e",
            "max": 1355256,
            "min": 0,
            "orientation": "horizontal",
            "style": "IPY_MODEL_ac17da5b93824d4ba46a3e1ca102a60e",
            "value": 1355256
          }
        },
        "ff9c4529b8d149de965823d8658707d4": {
          "model_module": "@jupyter-widgets/controls",
          "model_name": "HTMLModel",
          "model_module_version": "1.5.0",
          "state": {
            "_dom_classes": [],
            "_model_module": "@jupyter-widgets/controls",
            "_model_module_version": "1.5.0",
            "_model_name": "HTMLModel",
            "_view_count": null,
            "_view_module": "@jupyter-widgets/controls",
            "_view_module_version": "1.5.0",
            "_view_name": "HTMLView",
            "description": "",
            "description_tooltip": null,
            "layout": "IPY_MODEL_b3ea74d65699458298e72ebce703f5e0",
            "placeholder": "​",
            "style": "IPY_MODEL_86bc740684224b7cb56aad8785bead13",
            "value": " 1.36M/1.36M [00:00&lt;00:00, 20.9MB/s]"
          }
        },
        "fc73d08d5563443f9e3ba797c4f41ffc": {
          "model_module": "@jupyter-widgets/base",
          "model_name": "LayoutModel",
          "model_module_version": "1.2.0",
          "state": {
            "_model_module": "@jupyter-widgets/base",
            "_model_module_version": "1.2.0",
            "_model_name": "LayoutModel",
            "_view_count": null,
            "_view_module": "@jupyter-widgets/base",
            "_view_module_version": "1.2.0",
            "_view_name": "LayoutView",
            "align_content": null,
            "align_items": null,
            "align_self": null,
            "border": null,
            "bottom": null,
            "display": null,
            "flex": null,
            "flex_flow": null,
            "grid_area": null,
            "grid_auto_columns": null,
            "grid_auto_flow": null,
            "grid_auto_rows": null,
            "grid_column": null,
            "grid_gap": null,
            "grid_row": null,
            "grid_template_areas": null,
            "grid_template_columns": null,
            "grid_template_rows": null,
            "height": null,
            "justify_content": null,
            "justify_items": null,
            "left": null,
            "margin": null,
            "max_height": null,
            "max_width": null,
            "min_height": null,
            "min_width": null,
            "object_fit": null,
            "object_position": null,
            "order": null,
            "overflow": null,
            "overflow_x": null,
            "overflow_y": null,
            "padding": null,
            "right": null,
            "top": null,
            "visibility": null,
            "width": null
          }
        },
        "2efd0d61b1bc4594944a91c54b8f77fb": {
          "model_module": "@jupyter-widgets/base",
          "model_name": "LayoutModel",
          "model_module_version": "1.2.0",
          "state": {
            "_model_module": "@jupyter-widgets/base",
            "_model_module_version": "1.2.0",
            "_model_name": "LayoutModel",
            "_view_count": null,
            "_view_module": "@jupyter-widgets/base",
            "_view_module_version": "1.2.0",
            "_view_name": "LayoutView",
            "align_content": null,
            "align_items": null,
            "align_self": null,
            "border": null,
            "bottom": null,
            "display": null,
            "flex": null,
            "flex_flow": null,
            "grid_area": null,
            "grid_auto_columns": null,
            "grid_auto_flow": null,
            "grid_auto_rows": null,
            "grid_column": null,
            "grid_gap": null,
            "grid_row": null,
            "grid_template_areas": null,
            "grid_template_columns": null,
            "grid_template_rows": null,
            "height": null,
            "justify_content": null,
            "justify_items": null,
            "left": null,
            "margin": null,
            "max_height": null,
            "max_width": null,
            "min_height": null,
            "min_width": null,
            "object_fit": null,
            "object_position": null,
            "order": null,
            "overflow": null,
            "overflow_x": null,
            "overflow_y": null,
            "padding": null,
            "right": null,
            "top": null,
            "visibility": null,
            "width": null
          }
        },
        "79edc333a85e413fa9225327f6105544": {
          "model_module": "@jupyter-widgets/controls",
          "model_name": "DescriptionStyleModel",
          "model_module_version": "1.5.0",
          "state": {
            "_model_module": "@jupyter-widgets/controls",
            "_model_module_version": "1.5.0",
            "_model_name": "DescriptionStyleModel",
            "_view_count": null,
            "_view_module": "@jupyter-widgets/base",
            "_view_module_version": "1.2.0",
            "_view_name": "StyleView",
            "description_width": ""
          }
        },
        "0f96e19269b5479eb438535bfad3237e": {
          "model_module": "@jupyter-widgets/base",
          "model_name": "LayoutModel",
          "model_module_version": "1.2.0",
          "state": {
            "_model_module": "@jupyter-widgets/base",
            "_model_module_version": "1.2.0",
            "_model_name": "LayoutModel",
            "_view_count": null,
            "_view_module": "@jupyter-widgets/base",
            "_view_module_version": "1.2.0",
            "_view_name": "LayoutView",
            "align_content": null,
            "align_items": null,
            "align_self": null,
            "border": null,
            "bottom": null,
            "display": null,
            "flex": null,
            "flex_flow": null,
            "grid_area": null,
            "grid_auto_columns": null,
            "grid_auto_flow": null,
            "grid_auto_rows": null,
            "grid_column": null,
            "grid_gap": null,
            "grid_row": null,
            "grid_template_areas": null,
            "grid_template_columns": null,
            "grid_template_rows": null,
            "height": null,
            "justify_content": null,
            "justify_items": null,
            "left": null,
            "margin": null,
            "max_height": null,
            "max_width": null,
            "min_height": null,
            "min_width": null,
            "object_fit": null,
            "object_position": null,
            "order": null,
            "overflow": null,
            "overflow_x": null,
            "overflow_y": null,
            "padding": null,
            "right": null,
            "top": null,
            "visibility": null,
            "width": null
          }
        },
        "ac17da5b93824d4ba46a3e1ca102a60e": {
          "model_module": "@jupyter-widgets/controls",
          "model_name": "ProgressStyleModel",
          "model_module_version": "1.5.0",
          "state": {
            "_model_module": "@jupyter-widgets/controls",
            "_model_module_version": "1.5.0",
            "_model_name": "ProgressStyleModel",
            "_view_count": null,
            "_view_module": "@jupyter-widgets/base",
            "_view_module_version": "1.2.0",
            "_view_name": "StyleView",
            "bar_color": null,
            "description_width": ""
          }
        },
        "b3ea74d65699458298e72ebce703f5e0": {
          "model_module": "@jupyter-widgets/base",
          "model_name": "LayoutModel",
          "model_module_version": "1.2.0",
          "state": {
            "_model_module": "@jupyter-widgets/base",
            "_model_module_version": "1.2.0",
            "_model_name": "LayoutModel",
            "_view_count": null,
            "_view_module": "@jupyter-widgets/base",
            "_view_module_version": "1.2.0",
            "_view_name": "LayoutView",
            "align_content": null,
            "align_items": null,
            "align_self": null,
            "border": null,
            "bottom": null,
            "display": null,
            "flex": null,
            "flex_flow": null,
            "grid_area": null,
            "grid_auto_columns": null,
            "grid_auto_flow": null,
            "grid_auto_rows": null,
            "grid_column": null,
            "grid_gap": null,
            "grid_row": null,
            "grid_template_areas": null,
            "grid_template_columns": null,
            "grid_template_rows": null,
            "height": null,
            "justify_content": null,
            "justify_items": null,
            "left": null,
            "margin": null,
            "max_height": null,
            "max_width": null,
            "min_height": null,
            "min_width": null,
            "object_fit": null,
            "object_position": null,
            "order": null,
            "overflow": null,
            "overflow_x": null,
            "overflow_y": null,
            "padding": null,
            "right": null,
            "top": null,
            "visibility": null,
            "width": null
          }
        },
        "86bc740684224b7cb56aad8785bead13": {
          "model_module": "@jupyter-widgets/controls",
          "model_name": "DescriptionStyleModel",
          "model_module_version": "1.5.0",
          "state": {
            "_model_module": "@jupyter-widgets/controls",
            "_model_module_version": "1.5.0",
            "_model_name": "DescriptionStyleModel",
            "_view_count": null,
            "_view_module": "@jupyter-widgets/base",
            "_view_module_version": "1.2.0",
            "_view_name": "StyleView",
            "description_width": ""
          }
        }
      }
    }
  },
  "cells": [
    {
      "cell_type": "code",
      "execution_count": 1,
      "metadata": {
        "id": "c6qyGc_TfeHE"
      },
      "outputs": [],
      "source": [
        "# Notebook: Hugging Face Pre-Built Task Pipelines\n",
        "# Author: Thomas Purk\n",
        "# Date: 2025-04-01\n",
        "# Reference: https://huggingface.co/docs/transformers/v4.50.0/en/main_classes/pipelines"
      ]
    },
    {
      "cell_type": "markdown",
      "source": [
        "# Hugging Face Pre-Built Task Pipelines\n",
        "\n",
        "The Pipeline class of the Hugging Face Transformers package can instantiate new pipeline objects using a 'task' string. At this time there are 29 pre-defined pipeline strings covering text, audio, video, and image type tasks.\n",
        "\n",
        "This notebook investigates common pre-defined task-based pipelines and their default parameters and metadata.\n",
        "\n",
        "- Sentiment Analysis\n",
        "- Text Generation\n",
        "- Mask Filling\n",
        "- Named Entity Recognition\n",
        "- Question Answering\n",
        "- Summarization\n",
        "- Translation"
      ],
      "metadata": {
        "id": "T2ZsRvwXgzWK"
      }
    },
    {
      "cell_type": "code",
      "source": [
        "# Package Installs\n",
        "\n",
        "#!pip install transformers\n",
        "#!pip install mercury\n",
        "\n",
        "!pip list | grep transformers\n",
        "!pip list | grep mercury"
      ],
      "metadata": {
        "colab": {
          "base_uri": "https://localhost:8080/"
        },
        "id": "wx3X6nXFjXee",
        "outputId": "e197604a-36db-4068-c1f4-25767b2333ae"
      },
      "execution_count": 1,
      "outputs": [
        {
          "output_type": "stream",
          "name": "stdout",
          "text": [
            "mercury                            2.4.3\n"
          ]
        }
      ]
    },
    {
      "cell_type": "code",
      "source": [
        "# Setup the Notebook\n",
        "\n",
        "# General\n",
        "import os\n",
        "import json\n",
        "import logging\n",
        "logging.getLogger(\"transformers\").setLevel(logging.WARNING) # Suppress unnecessary logging\n",
        "\n",
        "# Visualization\n",
        "import pprint\n",
        "from IPython.display import JSON, HTML\n",
        "import mercury as mr\n",
        "\n",
        "# Data, Science, & Math\n",
        "import numpy as np\n",
        "import pandas as pd\n",
        "\n",
        "# NLP\n",
        "import transformers\n",
        "from transformers.pipelines import SUPPORTED_TASKS\n",
        "from transformers import pipeline"
      ],
      "metadata": {
        "id": "W7EvteAUiELV"
      },
      "execution_count": 68,
      "outputs": []
    },
    {
      "cell_type": "code",
      "source": [
        "def convert_np_types(obj):\n",
        "    '''Recursively convert NumPy types to standard Python types.\n",
        "    This function originated from ChatGPT.\n",
        "\n",
        "    Parameters:\n",
        "        obj (object): The object to convert.\n",
        "\n",
        "    Returns:\n",
        "        object: The converted object.\n",
        "\n",
        "    '''\n",
        "    if isinstance(obj, (np.float32, np.float64)):\n",
        "        return float(obj)  # Convert NumPy float to Python float\n",
        "    elif isinstance(obj, (np.int32, np.int64)):\n",
        "        return int(obj)  # Convert NumPy int to Python int\n",
        "    elif isinstance(obj, dict):\n",
        "        return {key: convert_np_types(value) for key, value in obj.items()}  # Recurse into dict\n",
        "    elif isinstance(obj, list):\n",
        "        return [convert_np_types(item) for item in obj]  # Recurse into list\n",
        "    return obj  # Return unchanged if it's not a NumPy type\n",
        "\n",
        "\n",
        "\n",
        "def get_task_metadata(task_name, framework):\n",
        "    '''Assemble metadata about each predefined pipeline tasks. This is a\n",
        "    work-around to the get_default_model_and_revision() function which\n",
        "    returns an error for 'translation task'.\n",
        "\n",
        "    Parameters:\n",
        "        task_name (str): An items from transformers.pipeline.SUPPORTED_TASKS.\n",
        "        framework (str): \"pt\" for Pytorch or \"tf\" for TensorFlow\n",
        "\n",
        "    '''\n",
        "\n",
        "    meta_dict = {}\n",
        "    task = SUPPORTED_TASKS[task_name]\n",
        "    meta_dict['task_name'] = task_name\n",
        "\n",
        "    # Handle special cases where the default dict is parameratized by language\n",
        "    if('model'in task['default']):\n",
        "        model_name, model_revision = task['default']['model'][framework]\n",
        "        meta_dict['model_name'] = model_name\n",
        "        meta_dict['model_revision'] = model_revision\n",
        "    elif(('en','fr') in task['default']):\n",
        "        meta_dict['model_name'] = 'N/A'\n",
        "        model_name, model_revision = task['default'][('en','fr')]['model'][framework]\n",
        "        meta_dict['model_name'] = model_name\n",
        "        meta_dict['model_revision'] = model_revision\n",
        "\n",
        "    if(framework in task):\n",
        "        meta_dict['model_class'] = str(task[framework][0])\n",
        "    else:\n",
        "        meta_dict['model_class'] = 'N/A'\n",
        "\n",
        "    if('type' in task):\n",
        "        meta_dict['model_type'] = task['type']\n",
        "    else:\n",
        "        meta_dict['model_type'] = 'N/A'\n",
        "\n",
        "    if('impl' in task):\n",
        "        meta_dict['model_impl'] = task['impl']\n",
        "    else:\n",
        "        meta_dict['model_impl'] = 'N/A'\n",
        "\n",
        "    return meta_dict\n",
        "\n",
        "# Report on each pre-built task\n",
        "# Print meta data about each built in task\n",
        "for task_name in SUPPORTED_TASKS.keys():\n",
        "    m = get_task_metadata(task_name, 'pt')\n",
        "    print(f'Task Name: {m[\"task_name\"]}')\n",
        "    print('-----------------------------')\n",
        "    print(f'Model Type: {m[\"model_type\"]}')\n",
        "    print(f'Model Name: {m[\"model_name\"]}')\n",
        "    print(f'Model Revision: {m[\"model_revision\"]}')\n",
        "    print(f'Model Class: {m[\"model_class\"]}')\n",
        "    print(f'Model Implementation: {m[\"model_impl\"]}')\n",
        "    print()"
      ],
      "metadata": {
        "colab": {
          "base_uri": "https://localhost:8080/"
        },
        "collapsed": true,
        "id": "pmI7I5NNjNkr",
        "outputId": "1c9ca530-8aaf-492d-a12b-557c93aeef4f"
      },
      "execution_count": 51,
      "outputs": [
        {
          "output_type": "stream",
          "name": "stdout",
          "text": [
            "Task Name: audio-classification\n",
            "-----------------------------\n",
            "Model Type: audio\n",
            "Model Name: superb/wav2vec2-base-superb-ks\n",
            "Model Revision: 372e048\n",
            "Model Class: <class 'transformers.models.auto.modeling_auto.AutoModelForAudioClassification'>\n",
            "Model Implementation: <class 'transformers.pipelines.audio_classification.AudioClassificationPipeline'>\n",
            "\n",
            "Task Name: automatic-speech-recognition\n",
            "-----------------------------\n",
            "Model Type: multimodal\n",
            "Model Name: facebook/wav2vec2-base-960h\n",
            "Model Revision: 22aad52\n",
            "Model Class: <class 'transformers.models.auto.modeling_auto.AutoModelForCTC'>\n",
            "Model Implementation: <class 'transformers.pipelines.automatic_speech_recognition.AutomaticSpeechRecognitionPipeline'>\n",
            "\n",
            "Task Name: text-to-audio\n",
            "-----------------------------\n",
            "Model Type: text\n",
            "Model Name: suno/bark-small\n",
            "Model Revision: 1dbd7a1\n",
            "Model Class: <class 'transformers.models.auto.modeling_auto.AutoModelForTextToWaveform'>\n",
            "Model Implementation: <class 'transformers.pipelines.text_to_audio.TextToAudioPipeline'>\n",
            "\n",
            "Task Name: feature-extraction\n",
            "-----------------------------\n",
            "Model Type: multimodal\n",
            "Model Name: distilbert/distilbert-base-cased\n",
            "Model Revision: 6ea8117\n",
            "Model Class: <class 'transformers.models.auto.modeling_auto.AutoModel'>\n",
            "Model Implementation: <class 'transformers.pipelines.feature_extraction.FeatureExtractionPipeline'>\n",
            "\n",
            "Task Name: text-classification\n",
            "-----------------------------\n",
            "Model Type: text\n",
            "Model Name: distilbert/distilbert-base-uncased-finetuned-sst-2-english\n",
            "Model Revision: 714eb0f\n",
            "Model Class: <class 'transformers.models.auto.modeling_auto.AutoModelForSequenceClassification'>\n",
            "Model Implementation: <class 'transformers.pipelines.text_classification.TextClassificationPipeline'>\n",
            "\n",
            "Task Name: token-classification\n",
            "-----------------------------\n",
            "Model Type: text\n",
            "Model Name: dbmdz/bert-large-cased-finetuned-conll03-english\n",
            "Model Revision: 4c53496\n",
            "Model Class: <class 'transformers.models.auto.modeling_auto.AutoModelForTokenClassification'>\n",
            "Model Implementation: <class 'transformers.pipelines.token_classification.TokenClassificationPipeline'>\n",
            "\n",
            "Task Name: question-answering\n",
            "-----------------------------\n",
            "Model Type: text\n",
            "Model Name: distilbert/distilbert-base-cased-distilled-squad\n",
            "Model Revision: 564e9b5\n",
            "Model Class: <class 'transformers.models.auto.modeling_auto.AutoModelForQuestionAnswering'>\n",
            "Model Implementation: <class 'transformers.pipelines.question_answering.QuestionAnsweringPipeline'>\n",
            "\n",
            "Task Name: table-question-answering\n",
            "-----------------------------\n",
            "Model Type: text\n",
            "Model Name: google/tapas-base-finetuned-wtq\n",
            "Model Revision: e3dde19\n",
            "Model Class: <class 'transformers.models.auto.modeling_auto.AutoModelForTableQuestionAnswering'>\n",
            "Model Implementation: <class 'transformers.pipelines.table_question_answering.TableQuestionAnsweringPipeline'>\n",
            "\n",
            "Task Name: visual-question-answering\n",
            "-----------------------------\n",
            "Model Type: multimodal\n",
            "Model Name: dandelin/vilt-b32-finetuned-vqa\n",
            "Model Revision: d0a1f6a\n",
            "Model Class: <class 'transformers.models.auto.modeling_auto.AutoModelForVisualQuestionAnswering'>\n",
            "Model Implementation: <class 'transformers.pipelines.visual_question_answering.VisualQuestionAnsweringPipeline'>\n",
            "\n",
            "Task Name: document-question-answering\n",
            "-----------------------------\n",
            "Model Type: multimodal\n",
            "Model Name: impira/layoutlm-document-qa\n",
            "Model Revision: beed3c4\n",
            "Model Class: <class 'transformers.models.auto.modeling_auto.AutoModelForDocumentQuestionAnswering'>\n",
            "Model Implementation: <class 'transformers.pipelines.document_question_answering.DocumentQuestionAnsweringPipeline'>\n",
            "\n",
            "Task Name: fill-mask\n",
            "-----------------------------\n",
            "Model Type: text\n",
            "Model Name: distilbert/distilroberta-base\n",
            "Model Revision: fb53ab8\n",
            "Model Class: <class 'transformers.models.auto.modeling_auto.AutoModelForMaskedLM'>\n",
            "Model Implementation: <class 'transformers.pipelines.fill_mask.FillMaskPipeline'>\n",
            "\n",
            "Task Name: summarization\n",
            "-----------------------------\n",
            "Model Type: text\n",
            "Model Name: sshleifer/distilbart-cnn-12-6\n",
            "Model Revision: a4f8f3e\n",
            "Model Class: <class 'transformers.models.auto.modeling_auto.AutoModelForSeq2SeqLM'>\n",
            "Model Implementation: <class 'transformers.pipelines.text2text_generation.SummarizationPipeline'>\n",
            "\n",
            "Task Name: translation\n",
            "-----------------------------\n",
            "Model Type: text\n",
            "Model Name: google-t5/t5-base\n",
            "Model Revision: a9723ea\n",
            "Model Class: <class 'transformers.models.auto.modeling_auto.AutoModelForSeq2SeqLM'>\n",
            "Model Implementation: <class 'transformers.pipelines.text2text_generation.TranslationPipeline'>\n",
            "\n",
            "Task Name: text2text-generation\n",
            "-----------------------------\n",
            "Model Type: text\n",
            "Model Name: google-t5/t5-base\n",
            "Model Revision: a9723ea\n",
            "Model Class: <class 'transformers.models.auto.modeling_auto.AutoModelForSeq2SeqLM'>\n",
            "Model Implementation: <class 'transformers.pipelines.text2text_generation.Text2TextGenerationPipeline'>\n",
            "\n",
            "Task Name: text-generation\n",
            "-----------------------------\n",
            "Model Type: text\n",
            "Model Name: openai-community/gpt2\n",
            "Model Revision: 607a30d\n",
            "Model Class: <class 'transformers.models.auto.modeling_auto.AutoModelForCausalLM'>\n",
            "Model Implementation: <class 'transformers.pipelines.text_generation.TextGenerationPipeline'>\n",
            "\n",
            "Task Name: zero-shot-classification\n",
            "-----------------------------\n",
            "Model Type: text\n",
            "Model Name: facebook/bart-large-mnli\n",
            "Model Revision: d7645e1\n",
            "Model Class: <class 'transformers.models.auto.modeling_auto.AutoModelForSequenceClassification'>\n",
            "Model Implementation: <class 'transformers.pipelines.zero_shot_classification.ZeroShotClassificationPipeline'>\n",
            "\n",
            "Task Name: zero-shot-image-classification\n",
            "-----------------------------\n",
            "Model Type: multimodal\n",
            "Model Name: openai/clip-vit-base-patch32\n",
            "Model Revision: 3d74acf\n",
            "Model Class: <class 'transformers.models.auto.modeling_auto.AutoModelForZeroShotImageClassification'>\n",
            "Model Implementation: <class 'transformers.pipelines.zero_shot_image_classification.ZeroShotImageClassificationPipeline'>\n",
            "\n",
            "Task Name: zero-shot-audio-classification\n",
            "-----------------------------\n",
            "Model Type: multimodal\n",
            "Model Name: laion/clap-htsat-fused\n",
            "Model Revision: cca9e28\n",
            "Model Class: <class 'transformers.models.auto.modeling_auto.AutoModel'>\n",
            "Model Implementation: <class 'transformers.pipelines.zero_shot_audio_classification.ZeroShotAudioClassificationPipeline'>\n",
            "\n",
            "Task Name: image-classification\n",
            "-----------------------------\n",
            "Model Type: image\n",
            "Model Name: google/vit-base-patch16-224\n",
            "Model Revision: 3f49326\n",
            "Model Class: <class 'transformers.models.auto.modeling_auto.AutoModelForImageClassification'>\n",
            "Model Implementation: <class 'transformers.pipelines.image_classification.ImageClassificationPipeline'>\n",
            "\n",
            "Task Name: image-feature-extraction\n",
            "-----------------------------\n",
            "Model Type: image\n",
            "Model Name: google/vit-base-patch16-224\n",
            "Model Revision: 3f49326\n",
            "Model Class: <class 'transformers.models.auto.modeling_auto.AutoModel'>\n",
            "Model Implementation: <class 'transformers.pipelines.image_feature_extraction.ImageFeatureExtractionPipeline'>\n",
            "\n",
            "Task Name: image-segmentation\n",
            "-----------------------------\n",
            "Model Type: multimodal\n",
            "Model Name: facebook/detr-resnet-50-panoptic\n",
            "Model Revision: d53b52a\n",
            "Model Class: <class 'transformers.models.auto.modeling_auto.AutoModelForImageSegmentation'>\n",
            "Model Implementation: <class 'transformers.pipelines.image_segmentation.ImageSegmentationPipeline'>\n",
            "\n",
            "Task Name: image-to-text\n",
            "-----------------------------\n",
            "Model Type: multimodal\n",
            "Model Name: ydshieh/vit-gpt2-coco-en\n",
            "Model Revision: 5bebf1e\n",
            "Model Class: <class 'transformers.models.auto.modeling_auto.AutoModelForVision2Seq'>\n",
            "Model Implementation: <class 'transformers.pipelines.image_to_text.ImageToTextPipeline'>\n",
            "\n",
            "Task Name: image-text-to-text\n",
            "-----------------------------\n",
            "Model Type: multimodal\n",
            "Model Name: llava-hf/llava-onevision-qwen2-0.5b-ov-hf\n",
            "Model Revision: 2c9ba3b\n",
            "Model Class: <class 'transformers.models.auto.modeling_auto.AutoModelForImageTextToText'>\n",
            "Model Implementation: <class 'transformers.pipelines.image_text_to_text.ImageTextToTextPipeline'>\n",
            "\n",
            "Task Name: object-detection\n",
            "-----------------------------\n",
            "Model Type: multimodal\n",
            "Model Name: facebook/detr-resnet-50\n",
            "Model Revision: 1d5f47b\n",
            "Model Class: <class 'transformers.models.auto.modeling_auto.AutoModelForObjectDetection'>\n",
            "Model Implementation: <class 'transformers.pipelines.object_detection.ObjectDetectionPipeline'>\n",
            "\n",
            "Task Name: zero-shot-object-detection\n",
            "-----------------------------\n",
            "Model Type: multimodal\n",
            "Model Name: google/owlvit-base-patch32\n",
            "Model Revision: cbc355f\n",
            "Model Class: <class 'transformers.models.auto.modeling_auto.AutoModelForZeroShotObjectDetection'>\n",
            "Model Implementation: <class 'transformers.pipelines.zero_shot_object_detection.ZeroShotObjectDetectionPipeline'>\n",
            "\n",
            "Task Name: depth-estimation\n",
            "-----------------------------\n",
            "Model Type: image\n",
            "Model Name: Intel/dpt-large\n",
            "Model Revision: bc15f29\n",
            "Model Class: <class 'transformers.models.auto.modeling_auto.AutoModelForDepthEstimation'>\n",
            "Model Implementation: <class 'transformers.pipelines.depth_estimation.DepthEstimationPipeline'>\n",
            "\n",
            "Task Name: video-classification\n",
            "-----------------------------\n",
            "Model Type: video\n",
            "Model Name: MCG-NJU/videomae-base-finetuned-kinetics\n",
            "Model Revision: 488eb9a\n",
            "Model Class: <class 'transformers.models.auto.modeling_auto.AutoModelForVideoClassification'>\n",
            "Model Implementation: <class 'transformers.pipelines.video_classification.VideoClassificationPipeline'>\n",
            "\n",
            "Task Name: mask-generation\n",
            "-----------------------------\n",
            "Model Type: multimodal\n",
            "Model Name: facebook/sam-vit-huge\n",
            "Model Revision: 87aecf0\n",
            "Model Class: <class 'transformers.models.auto.modeling_auto.AutoModelForMaskGeneration'>\n",
            "Model Implementation: <class 'transformers.pipelines.mask_generation.MaskGenerationPipeline'>\n",
            "\n",
            "Task Name: image-to-image\n",
            "-----------------------------\n",
            "Model Type: image\n",
            "Model Name: caidas/swin2SR-classical-sr-x2-64\n",
            "Model Revision: cee1c92\n",
            "Model Class: <class 'transformers.models.auto.modeling_auto.AutoModelForImageToImage'>\n",
            "Model Implementation: <class 'transformers.pipelines.image_to_image.ImageToImagePipeline'>\n",
            "\n"
          ]
        }
      ]
    },
    {
      "cell_type": "code",
      "source": [
        "# Example: Default Sentiment Analysis Pipeline\n",
        "# Classifies text\n",
        "\n",
        "# Create a Default 'text-classification'/\n",
        "sa_pipeline = pipeline('sentiment-analysis')\n",
        "\n",
        "# 'sentiment-analysis' is an alias for 'text-classification'\n",
        "print('\\nMetadata:')\n",
        "display(get_task_metadata('text-classification', 'pt'))\n",
        "print()\n",
        "\n",
        "\n",
        "# Get model configuration\n",
        "model_config = sa_pipeline.model.config\n",
        "print(f'Class Labels: {model_config.id2label}')\n",
        "print()\n",
        "print(f'Model Card: https://huggingface.co/{model_config._name_or_path}')\n",
        "print()\n",
        "\n",
        "inputs = [\n",
        "    \"I absolutely love this new phone! It's fast and the camera is amazing.\",\n",
        "    \"The service at the restaurant was terrible, and the food was cold when it arrived.\",\n",
        "    \"I'm feeling pretty neutral about the movie—it had some good moments but was mostly forgettable.\",\n",
        "    \"Winning the competition was the best experience of my life!\",\n",
        "    \"I can't believe how frustrating this software update is; nothing works properly now.\"\n",
        "]\n",
        "\n",
        "\n",
        "results = sa_pipeline(inputs=inputs)\n",
        "\n",
        "df = pd.DataFrame(results)\n",
        "df['inputs'] = inputs\n",
        "df"
      ],
      "metadata": {
        "colab": {
          "base_uri": "https://localhost:8080/",
          "height": 484
        },
        "id": "e4SCbofRzyDF",
        "outputId": "36481121-4374-45ea-c4b3-c000785f504f"
      },
      "execution_count": null,
      "outputs": [
        {
          "output_type": "stream",
          "name": "stderr",
          "text": [
            "No model was supplied, defaulted to distilbert/distilbert-base-uncased-finetuned-sst-2-english and revision 714eb0f (https://huggingface.co/distilbert/distilbert-base-uncased-finetuned-sst-2-english).\n",
            "Using a pipeline without specifying a model name and revision in production is not recommended.\n",
            "Device set to use cpu\n"
          ]
        },
        {
          "output_type": "stream",
          "name": "stdout",
          "text": [
            "\n",
            "Metadata:\n"
          ]
        },
        {
          "output_type": "display_data",
          "data": {
            "text/plain": [
              "{'task_name': 'text-classification',\n",
              " 'model_name': 'distilbert/distilbert-base-uncased-finetuned-sst-2-english',\n",
              " 'model_revision': '714eb0f',\n",
              " 'model_class': \"<class 'transformers.models.auto.modeling_auto.AutoModelForSequenceClassification'>\",\n",
              " 'model_type': 'text',\n",
              " 'model_impl': transformers.pipelines.text_classification.TextClassificationPipeline}"
            ]
          },
          "metadata": {}
        },
        {
          "output_type": "stream",
          "name": "stdout",
          "text": [
            "\n",
            "Class Labels: {0: 'NEGATIVE', 1: 'POSITIVE'}\n",
            "\n",
            "Model Card: https://huggingface.co/distilbert/distilbert-base-uncased-finetuned-sst-2-english\n",
            "\n"
          ]
        },
        {
          "output_type": "execute_result",
          "data": {
            "text/plain": [
              "      label     score                                             inputs\n",
              "0  POSITIVE  0.999887  I absolutely love this new phone! It's fast an...\n",
              "1  NEGATIVE  0.999531  The service at the restaurant was terrible, an...\n",
              "2  NEGATIVE  0.999625  I'm feeling pretty neutral about the movie—it ...\n",
              "3  POSITIVE  0.999847  Winning the competition was the best experienc...\n",
              "4  NEGATIVE  0.999699  I can't believe how frustrating this software ..."
            ],
            "text/html": [
              "\n",
              "  <div id=\"df-e089a3a2-33c0-4d06-b209-af4a03baba3b\" class=\"colab-df-container\">\n",
              "    <div>\n",
              "<style scoped>\n",
              "    .dataframe tbody tr th:only-of-type {\n",
              "        vertical-align: middle;\n",
              "    }\n",
              "\n",
              "    .dataframe tbody tr th {\n",
              "        vertical-align: top;\n",
              "    }\n",
              "\n",
              "    .dataframe thead th {\n",
              "        text-align: right;\n",
              "    }\n",
              "</style>\n",
              "<table border=\"1\" class=\"dataframe\">\n",
              "  <thead>\n",
              "    <tr style=\"text-align: right;\">\n",
              "      <th></th>\n",
              "      <th>label</th>\n",
              "      <th>score</th>\n",
              "      <th>inputs</th>\n",
              "    </tr>\n",
              "  </thead>\n",
              "  <tbody>\n",
              "    <tr>\n",
              "      <th>0</th>\n",
              "      <td>POSITIVE</td>\n",
              "      <td>0.999887</td>\n",
              "      <td>I absolutely love this new phone! It's fast an...</td>\n",
              "    </tr>\n",
              "    <tr>\n",
              "      <th>1</th>\n",
              "      <td>NEGATIVE</td>\n",
              "      <td>0.999531</td>\n",
              "      <td>The service at the restaurant was terrible, an...</td>\n",
              "    </tr>\n",
              "    <tr>\n",
              "      <th>2</th>\n",
              "      <td>NEGATIVE</td>\n",
              "      <td>0.999625</td>\n",
              "      <td>I'm feeling pretty neutral about the movie—it ...</td>\n",
              "    </tr>\n",
              "    <tr>\n",
              "      <th>3</th>\n",
              "      <td>POSITIVE</td>\n",
              "      <td>0.999847</td>\n",
              "      <td>Winning the competition was the best experienc...</td>\n",
              "    </tr>\n",
              "    <tr>\n",
              "      <th>4</th>\n",
              "      <td>NEGATIVE</td>\n",
              "      <td>0.999699</td>\n",
              "      <td>I can't believe how frustrating this software ...</td>\n",
              "    </tr>\n",
              "  </tbody>\n",
              "</table>\n",
              "</div>\n",
              "    <div class=\"colab-df-buttons\">\n",
              "\n",
              "  <div class=\"colab-df-container\">\n",
              "    <button class=\"colab-df-convert\" onclick=\"convertToInteractive('df-e089a3a2-33c0-4d06-b209-af4a03baba3b')\"\n",
              "            title=\"Convert this dataframe to an interactive table.\"\n",
              "            style=\"display:none;\">\n",
              "\n",
              "  <svg xmlns=\"http://www.w3.org/2000/svg\" height=\"24px\" viewBox=\"0 -960 960 960\">\n",
              "    <path d=\"M120-120v-720h720v720H120Zm60-500h600v-160H180v160Zm220 220h160v-160H400v160Zm0 220h160v-160H400v160ZM180-400h160v-160H180v160Zm440 0h160v-160H620v160ZM180-180h160v-160H180v160Zm440 0h160v-160H620v160Z\"/>\n",
              "  </svg>\n",
              "    </button>\n",
              "\n",
              "  <style>\n",
              "    .colab-df-container {\n",
              "      display:flex;\n",
              "      gap: 12px;\n",
              "    }\n",
              "\n",
              "    .colab-df-convert {\n",
              "      background-color: #E8F0FE;\n",
              "      border: none;\n",
              "      border-radius: 50%;\n",
              "      cursor: pointer;\n",
              "      display: none;\n",
              "      fill: #1967D2;\n",
              "      height: 32px;\n",
              "      padding: 0 0 0 0;\n",
              "      width: 32px;\n",
              "    }\n",
              "\n",
              "    .colab-df-convert:hover {\n",
              "      background-color: #E2EBFA;\n",
              "      box-shadow: 0px 1px 2px rgba(60, 64, 67, 0.3), 0px 1px 3px 1px rgba(60, 64, 67, 0.15);\n",
              "      fill: #174EA6;\n",
              "    }\n",
              "\n",
              "    .colab-df-buttons div {\n",
              "      margin-bottom: 4px;\n",
              "    }\n",
              "\n",
              "    [theme=dark] .colab-df-convert {\n",
              "      background-color: #3B4455;\n",
              "      fill: #D2E3FC;\n",
              "    }\n",
              "\n",
              "    [theme=dark] .colab-df-convert:hover {\n",
              "      background-color: #434B5C;\n",
              "      box-shadow: 0px 1px 3px 1px rgba(0, 0, 0, 0.15);\n",
              "      filter: drop-shadow(0px 1px 2px rgba(0, 0, 0, 0.3));\n",
              "      fill: #FFFFFF;\n",
              "    }\n",
              "  </style>\n",
              "\n",
              "    <script>\n",
              "      const buttonEl =\n",
              "        document.querySelector('#df-e089a3a2-33c0-4d06-b209-af4a03baba3b button.colab-df-convert');\n",
              "      buttonEl.style.display =\n",
              "        google.colab.kernel.accessAllowed ? 'block' : 'none';\n",
              "\n",
              "      async function convertToInteractive(key) {\n",
              "        const element = document.querySelector('#df-e089a3a2-33c0-4d06-b209-af4a03baba3b');\n",
              "        const dataTable =\n",
              "          await google.colab.kernel.invokeFunction('convertToInteractive',\n",
              "                                                    [key], {});\n",
              "        if (!dataTable) return;\n",
              "\n",
              "        const docLinkHtml = 'Like what you see? Visit the ' +\n",
              "          '<a target=\"_blank\" href=https://colab.research.google.com/notebooks/data_table.ipynb>data table notebook</a>'\n",
              "          + ' to learn more about interactive tables.';\n",
              "        element.innerHTML = '';\n",
              "        dataTable['output_type'] = 'display_data';\n",
              "        await google.colab.output.renderOutput(dataTable, element);\n",
              "        const docLink = document.createElement('div');\n",
              "        docLink.innerHTML = docLinkHtml;\n",
              "        element.appendChild(docLink);\n",
              "      }\n",
              "    </script>\n",
              "  </div>\n",
              "\n",
              "\n",
              "<div id=\"df-232d3717-4fbb-42d1-a402-3eb887bf9cca\">\n",
              "  <button class=\"colab-df-quickchart\" onclick=\"quickchart('df-232d3717-4fbb-42d1-a402-3eb887bf9cca')\"\n",
              "            title=\"Suggest charts\"\n",
              "            style=\"display:none;\">\n",
              "\n",
              "<svg xmlns=\"http://www.w3.org/2000/svg\" height=\"24px\"viewBox=\"0 0 24 24\"\n",
              "     width=\"24px\">\n",
              "    <g>\n",
              "        <path d=\"M19 3H5c-1.1 0-2 .9-2 2v14c0 1.1.9 2 2 2h14c1.1 0 2-.9 2-2V5c0-1.1-.9-2-2-2zM9 17H7v-7h2v7zm4 0h-2V7h2v10zm4 0h-2v-4h2v4z\"/>\n",
              "    </g>\n",
              "</svg>\n",
              "  </button>\n",
              "\n",
              "<style>\n",
              "  .colab-df-quickchart {\n",
              "      --bg-color: #E8F0FE;\n",
              "      --fill-color: #1967D2;\n",
              "      --hover-bg-color: #E2EBFA;\n",
              "      --hover-fill-color: #174EA6;\n",
              "      --disabled-fill-color: #AAA;\n",
              "      --disabled-bg-color: #DDD;\n",
              "  }\n",
              "\n",
              "  [theme=dark] .colab-df-quickchart {\n",
              "      --bg-color: #3B4455;\n",
              "      --fill-color: #D2E3FC;\n",
              "      --hover-bg-color: #434B5C;\n",
              "      --hover-fill-color: #FFFFFF;\n",
              "      --disabled-bg-color: #3B4455;\n",
              "      --disabled-fill-color: #666;\n",
              "  }\n",
              "\n",
              "  .colab-df-quickchart {\n",
              "    background-color: var(--bg-color);\n",
              "    border: none;\n",
              "    border-radius: 50%;\n",
              "    cursor: pointer;\n",
              "    display: none;\n",
              "    fill: var(--fill-color);\n",
              "    height: 32px;\n",
              "    padding: 0;\n",
              "    width: 32px;\n",
              "  }\n",
              "\n",
              "  .colab-df-quickchart:hover {\n",
              "    background-color: var(--hover-bg-color);\n",
              "    box-shadow: 0 1px 2px rgba(60, 64, 67, 0.3), 0 1px 3px 1px rgba(60, 64, 67, 0.15);\n",
              "    fill: var(--button-hover-fill-color);\n",
              "  }\n",
              "\n",
              "  .colab-df-quickchart-complete:disabled,\n",
              "  .colab-df-quickchart-complete:disabled:hover {\n",
              "    background-color: var(--disabled-bg-color);\n",
              "    fill: var(--disabled-fill-color);\n",
              "    box-shadow: none;\n",
              "  }\n",
              "\n",
              "  .colab-df-spinner {\n",
              "    border: 2px solid var(--fill-color);\n",
              "    border-color: transparent;\n",
              "    border-bottom-color: var(--fill-color);\n",
              "    animation:\n",
              "      spin 1s steps(1) infinite;\n",
              "  }\n",
              "\n",
              "  @keyframes spin {\n",
              "    0% {\n",
              "      border-color: transparent;\n",
              "      border-bottom-color: var(--fill-color);\n",
              "      border-left-color: var(--fill-color);\n",
              "    }\n",
              "    20% {\n",
              "      border-color: transparent;\n",
              "      border-left-color: var(--fill-color);\n",
              "      border-top-color: var(--fill-color);\n",
              "    }\n",
              "    30% {\n",
              "      border-color: transparent;\n",
              "      border-left-color: var(--fill-color);\n",
              "      border-top-color: var(--fill-color);\n",
              "      border-right-color: var(--fill-color);\n",
              "    }\n",
              "    40% {\n",
              "      border-color: transparent;\n",
              "      border-right-color: var(--fill-color);\n",
              "      border-top-color: var(--fill-color);\n",
              "    }\n",
              "    60% {\n",
              "      border-color: transparent;\n",
              "      border-right-color: var(--fill-color);\n",
              "    }\n",
              "    80% {\n",
              "      border-color: transparent;\n",
              "      border-right-color: var(--fill-color);\n",
              "      border-bottom-color: var(--fill-color);\n",
              "    }\n",
              "    90% {\n",
              "      border-color: transparent;\n",
              "      border-bottom-color: var(--fill-color);\n",
              "    }\n",
              "  }\n",
              "</style>\n",
              "\n",
              "  <script>\n",
              "    async function quickchart(key) {\n",
              "      const quickchartButtonEl =\n",
              "        document.querySelector('#' + key + ' button');\n",
              "      quickchartButtonEl.disabled = true;  // To prevent multiple clicks.\n",
              "      quickchartButtonEl.classList.add('colab-df-spinner');\n",
              "      try {\n",
              "        const charts = await google.colab.kernel.invokeFunction(\n",
              "            'suggestCharts', [key], {});\n",
              "      } catch (error) {\n",
              "        console.error('Error during call to suggestCharts:', error);\n",
              "      }\n",
              "      quickchartButtonEl.classList.remove('colab-df-spinner');\n",
              "      quickchartButtonEl.classList.add('colab-df-quickchart-complete');\n",
              "    }\n",
              "    (() => {\n",
              "      let quickchartButtonEl =\n",
              "        document.querySelector('#df-232d3717-4fbb-42d1-a402-3eb887bf9cca button');\n",
              "      quickchartButtonEl.style.display =\n",
              "        google.colab.kernel.accessAllowed ? 'block' : 'none';\n",
              "    })();\n",
              "  </script>\n",
              "</div>\n",
              "\n",
              "  <div id=\"id_3715537c-c024-4fe7-b75c-55acba1b1018\">\n",
              "    <style>\n",
              "      .colab-df-generate {\n",
              "        background-color: #E8F0FE;\n",
              "        border: none;\n",
              "        border-radius: 50%;\n",
              "        cursor: pointer;\n",
              "        display: none;\n",
              "        fill: #1967D2;\n",
              "        height: 32px;\n",
              "        padding: 0 0 0 0;\n",
              "        width: 32px;\n",
              "      }\n",
              "\n",
              "      .colab-df-generate:hover {\n",
              "        background-color: #E2EBFA;\n",
              "        box-shadow: 0px 1px 2px rgba(60, 64, 67, 0.3), 0px 1px 3px 1px rgba(60, 64, 67, 0.15);\n",
              "        fill: #174EA6;\n",
              "      }\n",
              "\n",
              "      [theme=dark] .colab-df-generate {\n",
              "        background-color: #3B4455;\n",
              "        fill: #D2E3FC;\n",
              "      }\n",
              "\n",
              "      [theme=dark] .colab-df-generate:hover {\n",
              "        background-color: #434B5C;\n",
              "        box-shadow: 0px 1px 3px 1px rgba(0, 0, 0, 0.15);\n",
              "        filter: drop-shadow(0px 1px 2px rgba(0, 0, 0, 0.3));\n",
              "        fill: #FFFFFF;\n",
              "      }\n",
              "    </style>\n",
              "    <button class=\"colab-df-generate\" onclick=\"generateWithVariable('df')\"\n",
              "            title=\"Generate code using this dataframe.\"\n",
              "            style=\"display:none;\">\n",
              "\n",
              "  <svg xmlns=\"http://www.w3.org/2000/svg\" height=\"24px\"viewBox=\"0 0 24 24\"\n",
              "       width=\"24px\">\n",
              "    <path d=\"M7,19H8.4L18.45,9,17,7.55,7,17.6ZM5,21V16.75L18.45,3.32a2,2,0,0,1,2.83,0l1.4,1.43a1.91,1.91,0,0,1,.58,1.4,1.91,1.91,0,0,1-.58,1.4L9.25,21ZM18.45,9,17,7.55Zm-12,3A5.31,5.31,0,0,0,4.9,8.1,5.31,5.31,0,0,0,1,6.5,5.31,5.31,0,0,0,4.9,4.9,5.31,5.31,0,0,0,6.5,1,5.31,5.31,0,0,0,8.1,4.9,5.31,5.31,0,0,0,12,6.5,5.46,5.46,0,0,0,6.5,12Z\"/>\n",
              "  </svg>\n",
              "    </button>\n",
              "    <script>\n",
              "      (() => {\n",
              "      const buttonEl =\n",
              "        document.querySelector('#id_3715537c-c024-4fe7-b75c-55acba1b1018 button.colab-df-generate');\n",
              "      buttonEl.style.display =\n",
              "        google.colab.kernel.accessAllowed ? 'block' : 'none';\n",
              "\n",
              "      buttonEl.onclick = () => {\n",
              "        google.colab.notebook.generateWithVariable('df');\n",
              "      }\n",
              "      })();\n",
              "    </script>\n",
              "  </div>\n",
              "\n",
              "    </div>\n",
              "  </div>\n"
            ],
            "application/vnd.google.colaboratory.intrinsic+json": {
              "type": "dataframe",
              "variable_name": "df",
              "summary": "{\n  \"name\": \"df\",\n  \"rows\": 5,\n  \"fields\": [\n    {\n      \"column\": \"label\",\n      \"properties\": {\n        \"dtype\": \"category\",\n        \"num_unique_values\": 2,\n        \"samples\": [\n          \"NEGATIVE\",\n          \"POSITIVE\"\n        ],\n        \"semantic_type\": \"\",\n        \"description\": \"\"\n      }\n    },\n    {\n      \"column\": \"score\",\n      \"properties\": {\n        \"dtype\": \"number\",\n        \"std\": 0.00014936907331361494,\n        \"min\": 0.9995306730270386,\n        \"max\": 0.9998869895935059,\n        \"num_unique_values\": 5,\n        \"samples\": [\n          0.9995306730270386,\n          0.9996994733810425\n        ],\n        \"semantic_type\": \"\",\n        \"description\": \"\"\n      }\n    },\n    {\n      \"column\": \"inputs\",\n      \"properties\": {\n        \"dtype\": \"string\",\n        \"num_unique_values\": 5,\n        \"samples\": [\n          \"The service at the restaurant was terrible, and the food was cold when it arrived.\",\n          \"I can't believe how frustrating this software update is; nothing works properly now.\"\n        ],\n        \"semantic_type\": \"\",\n        \"description\": \"\"\n      }\n    }\n  ]\n}"
            }
          },
          "metadata": {},
          "execution_count": 138
        }
      ]
    },
    {
      "cell_type": "code",
      "source": [
        "# Example: Default Text Generation Pipeline\n",
        "# Classifies text\n",
        "\n",
        "# Create a Default 'text-classification'/\n",
        "tg_pipeline = pipeline(\n",
        "    task='text-generation'\n",
        ")\n",
        "\n",
        "# 'sentiment-analysis' is an alias for 'text-classification'\n",
        "print('\\nMetadata:')\n",
        "display(get_task_metadata('text-generation', 'pt'))\n",
        "print()\n",
        "\n",
        "\n",
        "# Get model configuration\n",
        "model_config = tg_pipeline.model.config\n",
        "print(f'Class Labels: {model_config.id2label}')\n",
        "print()\n",
        "print(f'Model Card: https://huggingface.co/{model_config._name_or_path}')\n",
        "print()\n",
        "\n",
        "inputs = [\n",
        "    \"I absolutely love this new phone! It's fast and the camera is amazing.\",\n",
        "    \"The service at the restaurant was terrible, and the food was cold when it arrived.\",\n",
        "    \"I'm feeling pretty neutral about the movie—it had some good moments but was mostly forgettable.\",\n",
        "    \"Winning the competition was the best experience of my life!\",\n",
        "    \"I can't believe how frustrating this software update is; nothing works properly now.\"\n",
        "]\n",
        "\n",
        "\n",
        "results = tg_pipeline(text_inputs=inputs)\n",
        "\n",
        "# Formate the resuls\n",
        "results = [x[0]['generated_text'] for x in results]\n",
        "\n",
        "# Create a table of inputs and results\n",
        "df = pd.DataFrame(results, columns=['results'])\n",
        "df['inputs'] = inputs\n",
        "\n",
        "for i, r in df.iterrows():\n",
        "    print(f'\\nInput:')\n",
        "    display(r[\"inputs\"])\n",
        "    print(f'\\nGenerated Text: ')\n",
        "    display(r[\"results\"])\n",
        "    print('\\n---------------------------')"
      ],
      "metadata": {
        "colab": {
          "base_uri": "https://localhost:8080/",
          "height": 1000,
          "referenced_widgets": [
            "99e9d31ed4104641b9bbd764a95dbad4",
            "3f87a92e09994b00bea0b1d8fdaf5a22",
            "c27dc76ffd3b4e16a86b6ee26371138b",
            "c8744b0ea3754465a983f36aca9f3930",
            "a04ff90380d541688226d128831116ee",
            "3eb105bfcb694da58643654567443951",
            "9116fec18e56476e9b08a77e08dce621",
            "5267b327e24944d48a3ecf428a18920f",
            "29e27493b0d740d3be7c23a45f7d254a",
            "e2e0fc1e197a4f659927bc32eb15a846",
            "6b9ae26ae78442189e0dc8757908f2ab",
            "10ab40d29a6c43e8a57ecccebea468a1",
            "afbcc052fb1246118112c114678d78ea",
            "1509b380400043438b5931cc9a4839f5",
            "c4872b20dd6b4cd78953b94b19e6363a",
            "51f270241f8241dda8c1a4aac94303cf",
            "08ffa56d3d654af3875f0f633ddaf7ae",
            "68b0bb4650884d829a1fb9330d973b17",
            "303e0dd87c5749cbba8c4eb138d14264",
            "c52e63cd8e4f40bfb115fc8616db1af1",
            "025a7c5590054adc969cf5acc52ef7f8",
            "a6118d1c8cab49ba99f034f2d38432fe",
            "e74ebd33f85f4b638efd0460d967d79c",
            "2e44101f54dd4d6cad1e6f7972d5d7b1",
            "965d2d59f588412b84222a2c928d3528",
            "5fa662253cf54d689cb7e816a9e84def",
            "f45c60e600554b12963ca7f51460a4c2",
            "e41d0113d21f479292efd30e313ad658",
            "ad50dac4e2724f22a68c1fe69609af4b",
            "86106d9375aa49e88139dfbf38190708",
            "b090c73a9aa14a46bb7437e931219ce1",
            "3053c1e0bd8e4453a94314c55b248a8c",
            "7445b4ab047b4902b6f2be8a8fb413bd",
            "733e608c10ca41bfa53841b8e0ab62da",
            "1a2c986a5bd34518a37ce1f87e4422b0",
            "dd2f7b3fa4cb4b58a1d9c7b59ea0e469",
            "b5d2f80ba8e34095bfd0aaa97539889a",
            "507c694bd5094e238c2e0bff20d4f71d",
            "83adb61456964c32aa673c8a549d3096",
            "b63b661853174992a3bb9605a89a6cfe",
            "825d2378ac8143f5a3e90f4e68eebbd7",
            "2f019789ce524a8b9420503c175944ad",
            "fc393ab557b84bc5b492fd654c27aa82",
            "fb0e4a5c8a7649c1b7275d397b8d4295",
            "7e2da80b1f5f4749bb133c65daad6f1c",
            "f5e1102cdf45492a8876d483311373ff",
            "f0efeb191ab944119316135f6f848a2f",
            "2d1403c2976041748fa48c9aee8b1a9a",
            "e7996afa5eec4431ad5e6a107ce8ab25",
            "4672b36b00de4ea9a5cdddef8d8861bf",
            "d223c594b11d4ffc976b057445d7cc96",
            "e8317dc868664fe18a8ee9558d9d5ace",
            "41133b4e5097402389fd2c37716294c5",
            "55b420f03bc2475f9849e92c2172cc17",
            "0005d6723c7441ec98410d0ed841fd86",
            "042374d41b4d4f78af15a427a9ef22f1",
            "90096694dcb646b689202fd9302eb43e",
            "8c461992870540149cb096df8a929448",
            "fcadc6af751a4a769e77c6472e618cfa",
            "a068ab5392c1427da62b7982c0972b6d",
            "4de428c8291c49e0af7dd5e2e23e8fe9",
            "b89e22492d6e4d6eafddd9867ca9e0e4",
            "ce3a3e367eb24df1bf4aef10f095358f",
            "b9b847e3c170448f9210469f9ece7328",
            "ac4e56f171b34c19a77fad1a95fdaa74",
            "471e24721efa4d958e657fdc98bf864f",
            "2876b29438ba49a89ddd0dcd06e9b4db",
            "e291100081d340048abd8e89a37ee976",
            "ed2473fd81c44c30b80cbecf66e4b7db",
            "ff9c4529b8d149de965823d8658707d4",
            "fc73d08d5563443f9e3ba797c4f41ffc",
            "2efd0d61b1bc4594944a91c54b8f77fb",
            "79edc333a85e413fa9225327f6105544",
            "0f96e19269b5479eb438535bfad3237e",
            "ac17da5b93824d4ba46a3e1ca102a60e",
            "b3ea74d65699458298e72ebce703f5e0",
            "86bc740684224b7cb56aad8785bead13"
          ]
        },
        "id": "x1yoq7atxSuU",
        "outputId": "db139f25-d912-4014-c4a8-7b5d9c7b938b"
      },
      "execution_count": 6,
      "outputs": [
        {
          "output_type": "stream",
          "name": "stderr",
          "text": [
            "No model was supplied, defaulted to openai-community/gpt2 and revision 607a30d (https://huggingface.co/openai-community/gpt2).\n",
            "Using a pipeline without specifying a model name and revision in production is not recommended.\n",
            "/usr/local/lib/python3.11/dist-packages/huggingface_hub/utils/_auth.py:94: UserWarning: \n",
            "The secret `HF_TOKEN` does not exist in your Colab secrets.\n",
            "To authenticate with the Hugging Face Hub, create a token in your settings tab (https://huggingface.co/settings/tokens), set it as secret in your Google Colab and restart your session.\n",
            "You will be able to reuse this secret in all of your notebooks.\n",
            "Please note that authentication is recommended but still optional to access public models or datasets.\n",
            "  warnings.warn(\n"
          ]
        },
        {
          "output_type": "display_data",
          "data": {
            "text/plain": [
              "config.json:   0%|          | 0.00/665 [00:00<?, ?B/s]"
            ],
            "application/vnd.jupyter.widget-view+json": {
              "version_major": 2,
              "version_minor": 0,
              "model_id": "99e9d31ed4104641b9bbd764a95dbad4"
            }
          },
          "metadata": {}
        },
        {
          "output_type": "display_data",
          "data": {
            "text/plain": [
              "model.safetensors:   0%|          | 0.00/548M [00:00<?, ?B/s]"
            ],
            "application/vnd.jupyter.widget-view+json": {
              "version_major": 2,
              "version_minor": 0,
              "model_id": "10ab40d29a6c43e8a57ecccebea468a1"
            }
          },
          "metadata": {}
        },
        {
          "output_type": "display_data",
          "data": {
            "text/plain": [
              "generation_config.json:   0%|          | 0.00/124 [00:00<?, ?B/s]"
            ],
            "application/vnd.jupyter.widget-view+json": {
              "version_major": 2,
              "version_minor": 0,
              "model_id": "e74ebd33f85f4b638efd0460d967d79c"
            }
          },
          "metadata": {}
        },
        {
          "output_type": "display_data",
          "data": {
            "text/plain": [
              "tokenizer_config.json:   0%|          | 0.00/26.0 [00:00<?, ?B/s]"
            ],
            "application/vnd.jupyter.widget-view+json": {
              "version_major": 2,
              "version_minor": 0,
              "model_id": "733e608c10ca41bfa53841b8e0ab62da"
            }
          },
          "metadata": {}
        },
        {
          "output_type": "display_data",
          "data": {
            "text/plain": [
              "vocab.json:   0%|          | 0.00/1.04M [00:00<?, ?B/s]"
            ],
            "application/vnd.jupyter.widget-view+json": {
              "version_major": 2,
              "version_minor": 0,
              "model_id": "7e2da80b1f5f4749bb133c65daad6f1c"
            }
          },
          "metadata": {}
        },
        {
          "output_type": "display_data",
          "data": {
            "text/plain": [
              "merges.txt:   0%|          | 0.00/456k [00:00<?, ?B/s]"
            ],
            "application/vnd.jupyter.widget-view+json": {
              "version_major": 2,
              "version_minor": 0,
              "model_id": "042374d41b4d4f78af15a427a9ef22f1"
            }
          },
          "metadata": {}
        },
        {
          "output_type": "display_data",
          "data": {
            "text/plain": [
              "tokenizer.json:   0%|          | 0.00/1.36M [00:00<?, ?B/s]"
            ],
            "application/vnd.jupyter.widget-view+json": {
              "version_major": 2,
              "version_minor": 0,
              "model_id": "2876b29438ba49a89ddd0dcd06e9b4db"
            }
          },
          "metadata": {}
        },
        {
          "output_type": "stream",
          "name": "stderr",
          "text": [
            "Device set to use cpu\n"
          ]
        },
        {
          "output_type": "stream",
          "name": "stdout",
          "text": [
            "\n",
            "Metadata:\n"
          ]
        },
        {
          "output_type": "display_data",
          "data": {
            "text/plain": [
              "{'task_name': 'text-generation',\n",
              " 'model_name': 'openai-community/gpt2',\n",
              " 'model_revision': '607a30d',\n",
              " 'model_class': \"<class 'transformers.models.auto.modeling_auto.AutoModelForCausalLM'>\",\n",
              " 'model_type': 'text',\n",
              " 'model_impl': transformers.pipelines.text_generation.TextGenerationPipeline}"
            ]
          },
          "metadata": {}
        },
        {
          "output_type": "stream",
          "name": "stderr",
          "text": [
            "Setting `pad_token_id` to `eos_token_id`:50256 for open-end generation.\n"
          ]
        },
        {
          "output_type": "stream",
          "name": "stdout",
          "text": [
            "\n",
            "Class Labels: {0: 'LABEL_0', 1: 'LABEL_1'}\n",
            "\n",
            "Model Card: https://huggingface.co/openai-community/gpt2\n",
            "\n"
          ]
        },
        {
          "output_type": "stream",
          "name": "stderr",
          "text": [
            "Setting `pad_token_id` to `eos_token_id`:50256 for open-end generation.\n",
            "Setting `pad_token_id` to `eos_token_id`:50256 for open-end generation.\n",
            "Setting `pad_token_id` to `eos_token_id`:50256 for open-end generation.\n",
            "Setting `pad_token_id` to `eos_token_id`:50256 for open-end generation.\n"
          ]
        },
        {
          "output_type": "stream",
          "name": "stdout",
          "text": [
            "\n",
            "Input:\n"
          ]
        },
        {
          "output_type": "display_data",
          "data": {
            "text/plain": [
              "\"I absolutely love this new phone! It's fast and the camera is amazing.\""
            ],
            "application/vnd.google.colaboratory.intrinsic+json": {
              "type": "string"
            }
          },
          "metadata": {}
        },
        {
          "output_type": "stream",
          "name": "stdout",
          "text": [
            "\n",
            "Generated Text: \n"
          ]
        },
        {
          "output_type": "display_data",
          "data": {
            "text/plain": [
              "\"I absolutely love this new phone! It's fast and the camera is amazing. I feel I'm getting into everything my camera needs or wants to do, and it's my first phone in ages and it's in perfect shape...\\n\\nRated 5\""
            ],
            "application/vnd.google.colaboratory.intrinsic+json": {
              "type": "string"
            }
          },
          "metadata": {}
        },
        {
          "output_type": "stream",
          "name": "stdout",
          "text": [
            "\n",
            "---------------------------\n",
            "\n",
            "Input:\n"
          ]
        },
        {
          "output_type": "display_data",
          "data": {
            "text/plain": [
              "'The service at the restaurant was terrible, and the food was cold when it arrived.'"
            ],
            "application/vnd.google.colaboratory.intrinsic+json": {
              "type": "string"
            }
          },
          "metadata": {}
        },
        {
          "output_type": "stream",
          "name": "stdout",
          "text": [
            "\n",
            "Generated Text: \n"
          ]
        },
        {
          "output_type": "display_data",
          "data": {
            "text/plain": [
              "'The service at the restaurant was terrible, and the food was cold when it arrived. We ordered our food fast and fast. We waited a while before returning to the spot, but after 3 drinks, our waitress said that the restaurant was closed the next'"
            ],
            "application/vnd.google.colaboratory.intrinsic+json": {
              "type": "string"
            }
          },
          "metadata": {}
        },
        {
          "output_type": "stream",
          "name": "stdout",
          "text": [
            "\n",
            "---------------------------\n",
            "\n",
            "Input:\n"
          ]
        },
        {
          "output_type": "display_data",
          "data": {
            "text/plain": [
              "\"I'm feeling pretty neutral about the movie—it had some good moments but was mostly forgettable.\""
            ],
            "application/vnd.google.colaboratory.intrinsic+json": {
              "type": "string"
            }
          },
          "metadata": {}
        },
        {
          "output_type": "stream",
          "name": "stdout",
          "text": [
            "\n",
            "Generated Text: \n"
          ]
        },
        {
          "output_type": "display_data",
          "data": {
            "text/plain": [
              "\"I'm feeling pretty neutral about the movie—it had some good moments but was mostly forgettable.\\n\\nAdvertisement\\n\\nWe're still talking about that because, again, you're right about the movie's villain. I feel like this is something\""
            ],
            "application/vnd.google.colaboratory.intrinsic+json": {
              "type": "string"
            }
          },
          "metadata": {}
        },
        {
          "output_type": "stream",
          "name": "stdout",
          "text": [
            "\n",
            "---------------------------\n",
            "\n",
            "Input:\n"
          ]
        },
        {
          "output_type": "display_data",
          "data": {
            "text/plain": [
              "'Winning the competition was the best experience of my life!'"
            ],
            "application/vnd.google.colaboratory.intrinsic+json": {
              "type": "string"
            }
          },
          "metadata": {}
        },
        {
          "output_type": "stream",
          "name": "stdout",
          "text": [
            "\n",
            "Generated Text: \n"
          ]
        },
        {
          "output_type": "display_data",
          "data": {
            "text/plain": [
              "'Winning the competition was the best experience of my life!\\n\\nWhen I announced that I was going to be leaving my house, I was a little confused. It was not a surprise to me that I could not live without my dog.\\n'"
            ],
            "application/vnd.google.colaboratory.intrinsic+json": {
              "type": "string"
            }
          },
          "metadata": {}
        },
        {
          "output_type": "stream",
          "name": "stdout",
          "text": [
            "\n",
            "---------------------------\n",
            "\n",
            "Input:\n"
          ]
        },
        {
          "output_type": "display_data",
          "data": {
            "text/plain": [
              "\"I can't believe how frustrating this software update is; nothing works properly now.\""
            ],
            "application/vnd.google.colaboratory.intrinsic+json": {
              "type": "string"
            }
          },
          "metadata": {}
        },
        {
          "output_type": "stream",
          "name": "stdout",
          "text": [
            "\n",
            "Generated Text: \n"
          ]
        },
        {
          "output_type": "display_data",
          "data": {
            "text/plain": [
              "\"I can't believe how frustrating this software update is; nothing works properly now. I know it hasn't been an issue for long, but the whole thing is making me want to uninstall all packages! I know it won't change user experience, but\""
            ],
            "application/vnd.google.colaboratory.intrinsic+json": {
              "type": "string"
            }
          },
          "metadata": {}
        },
        {
          "output_type": "stream",
          "name": "stdout",
          "text": [
            "\n",
            "---------------------------\n"
          ]
        }
      ]
    },
    {
      "cell_type": "code",
      "source": [
        "# Example: Default Text Generation Pipeline, But Specify the Model\n",
        "# Classifies text\n",
        "\n",
        "# Create a Default 'text-generation'\n",
        "tg_pipeline = pipeline(\n",
        "    task='text-generation',\n",
        "    model='distilgpt2'\n",
        ")\n",
        "\n",
        "# 'sentiment-analysis' is an alias for 'text-classification'\n",
        "print('\\nMetadata:')\n",
        "display(get_task_metadata('text-generation', 'pt'))\n",
        "print()\n",
        "\n",
        "\n",
        "# Get model configuration\n",
        "model_config = tg_pipeline.model.config\n",
        "print(f'Class Labels: {model_config.id2label}')\n",
        "print()\n",
        "print(f'Model Card: https://huggingface.co/{model_config._name_or_path}')\n",
        "print()\n",
        "\n",
        "inputs = [\n",
        "    \"I absolutely love this new phone! It's fast and the camera is amazing.\",\n",
        "    \"The service at the restaurant was terrible, and the food was cold when it arrived.\",\n",
        "    \"I'm feeling pretty neutral about the movie—it had some good moments but was mostly forgettable.\",\n",
        "    \"Winning the competition was the best experience of my life!\",\n",
        "    \"I can't believe how frustrating this software update is; nothing works properly now.\"\n",
        "]\n",
        "\n",
        "# Execute the text generation model\n",
        "results = tg_pipeline(text_inputs=inputs)\n",
        "\n",
        "# Formate the resuls\n",
        "results = [x[0]['generated_text'] for x in results]\n",
        "\n",
        "# Create a table of inputs and results\n",
        "df = pd.DataFrame(results, columns=['results'])\n",
        "df['inputs'] = inputs\n",
        "\n",
        "for i, r in df.iterrows():\n",
        "    print(f'\\nInput:')\n",
        "    display(r[\"inputs\"])\n",
        "    print(f'\\nGenerated Text: ')\n",
        "    display(r[\"results\"])\n",
        "    print('\\n---------------------------')"
      ],
      "metadata": {
        "colab": {
          "base_uri": "https://localhost:8080/",
          "height": 1000
        },
        "collapsed": true,
        "id": "GS6bkWFj9SgD",
        "outputId": "fcf06759-1001-4bc8-c737-e84ff5a8f790"
      },
      "execution_count": null,
      "outputs": [
        {
          "output_type": "stream",
          "name": "stderr",
          "text": [
            "Device set to use cpu\n"
          ]
        },
        {
          "output_type": "stream",
          "name": "stdout",
          "text": [
            "\n",
            "Metadata:\n"
          ]
        },
        {
          "output_type": "display_data",
          "data": {
            "text/plain": [
              "{'task_name': 'text-generation',\n",
              " 'model_name': 'openai-community/gpt2',\n",
              " 'model_revision': '607a30d',\n",
              " 'model_class': \"<class 'transformers.models.auto.modeling_auto.AutoModelForCausalLM'>\",\n",
              " 'model_type': 'text',\n",
              " 'model_impl': transformers.pipelines.text_generation.TextGenerationPipeline}"
            ]
          },
          "metadata": {}
        },
        {
          "output_type": "stream",
          "name": "stderr",
          "text": [
            "Setting `pad_token_id` to `eos_token_id`:50256 for open-end generation.\n"
          ]
        },
        {
          "output_type": "stream",
          "name": "stdout",
          "text": [
            "\n",
            "Class Labels: {0: 'LABEL_0'}\n",
            "\n",
            "Model Card: https://huggingface.co/distilgpt2\n",
            "\n"
          ]
        },
        {
          "output_type": "stream",
          "name": "stderr",
          "text": [
            "Setting `pad_token_id` to `eos_token_id`:50256 for open-end generation.\n",
            "Setting `pad_token_id` to `eos_token_id`:50256 for open-end generation.\n",
            "Setting `pad_token_id` to `eos_token_id`:50256 for open-end generation.\n",
            "Setting `pad_token_id` to `eos_token_id`:50256 for open-end generation.\n"
          ]
        },
        {
          "output_type": "stream",
          "name": "stdout",
          "text": [
            "\n",
            "Input:\n"
          ]
        },
        {
          "output_type": "display_data",
          "data": {
            "text/plain": [
              "\"I absolutely love this new phone! It's fast and the camera is amazing.\""
            ],
            "application/vnd.google.colaboratory.intrinsic+json": {
              "type": "string"
            }
          },
          "metadata": {}
        },
        {
          "output_type": "stream",
          "name": "stdout",
          "text": [
            "\n",
            "Generated Text: \n"
          ]
        },
        {
          "output_type": "display_data",
          "data": {
            "text/plain": [
              "\"I absolutely love this new phone! It's fast and the camera is amazing. I can read how much battery life is, how much I can think about it. And it's all very, very cool and I know you'll read more and more\""
            ],
            "application/vnd.google.colaboratory.intrinsic+json": {
              "type": "string"
            }
          },
          "metadata": {}
        },
        {
          "output_type": "stream",
          "name": "stdout",
          "text": [
            "\n",
            "---------------------------\n",
            "\n",
            "Input:\n"
          ]
        },
        {
          "output_type": "display_data",
          "data": {
            "text/plain": [
              "'The service at the restaurant was terrible, and the food was cold when it arrived.'"
            ],
            "application/vnd.google.colaboratory.intrinsic+json": {
              "type": "string"
            }
          },
          "metadata": {}
        },
        {
          "output_type": "stream",
          "name": "stdout",
          "text": [
            "\n",
            "Generated Text: \n"
          ]
        },
        {
          "output_type": "display_data",
          "data": {
            "text/plain": [
              "\"The service at the restaurant was terrible, and the food was cold when it arrived. After the guests complained and we were told by the waiter that we weren't allowed to do anything, and we were ordered two items. There it was like a bag\""
            ],
            "application/vnd.google.colaboratory.intrinsic+json": {
              "type": "string"
            }
          },
          "metadata": {}
        },
        {
          "output_type": "stream",
          "name": "stdout",
          "text": [
            "\n",
            "---------------------------\n",
            "\n",
            "Input:\n"
          ]
        },
        {
          "output_type": "display_data",
          "data": {
            "text/plain": [
              "\"I'm feeling pretty neutral about the movie—it had some good moments but was mostly forgettable.\""
            ],
            "application/vnd.google.colaboratory.intrinsic+json": {
              "type": "string"
            }
          },
          "metadata": {}
        },
        {
          "output_type": "stream",
          "name": "stdout",
          "text": [
            "\n",
            "Generated Text: \n"
          ]
        },
        {
          "output_type": "display_data",
          "data": {
            "text/plain": [
              "\"I'm feeling pretty neutral about the movie—it had some good moments but was mostly forgettable. There may be some more dark moments though. I am also going to admit that it was an overall disappointment for me to see it in the movie if\""
            ],
            "application/vnd.google.colaboratory.intrinsic+json": {
              "type": "string"
            }
          },
          "metadata": {}
        },
        {
          "output_type": "stream",
          "name": "stdout",
          "text": [
            "\n",
            "---------------------------\n",
            "\n",
            "Input:\n"
          ]
        },
        {
          "output_type": "display_data",
          "data": {
            "text/plain": [
              "'Winning the competition was the best experience of my life!'"
            ],
            "application/vnd.google.colaboratory.intrinsic+json": {
              "type": "string"
            }
          },
          "metadata": {}
        },
        {
          "output_type": "stream",
          "name": "stdout",
          "text": [
            "\n",
            "Generated Text: \n"
          ]
        },
        {
          "output_type": "display_data",
          "data": {
            "text/plain": [
              "'Winning the competition was the best experience of my life! So to stay tuned at all times, I hope you find an entry as soon as possible! 🙂'"
            ],
            "application/vnd.google.colaboratory.intrinsic+json": {
              "type": "string"
            }
          },
          "metadata": {}
        },
        {
          "output_type": "stream",
          "name": "stdout",
          "text": [
            "\n",
            "---------------------------\n",
            "\n",
            "Input:\n"
          ]
        },
        {
          "output_type": "display_data",
          "data": {
            "text/plain": [
              "\"I can't believe how frustrating this software update is; nothing works properly now.\""
            ],
            "application/vnd.google.colaboratory.intrinsic+json": {
              "type": "string"
            }
          },
          "metadata": {}
        },
        {
          "output_type": "stream",
          "name": "stdout",
          "text": [
            "\n",
            "Generated Text: \n"
          ]
        },
        {
          "output_type": "display_data",
          "data": {
            "text/plain": [
              "\"I can't believe how frustrating this software update is; nothing works properly now. With the software being rolled out, it'll be extremely difficult to get it to work properly. So today we had a good chance to work on something like this to fix\""
            ],
            "application/vnd.google.colaboratory.intrinsic+json": {
              "type": "string"
            }
          },
          "metadata": {}
        },
        {
          "output_type": "stream",
          "name": "stdout",
          "text": [
            "\n",
            "---------------------------\n"
          ]
        }
      ]
    },
    {
      "cell_type": "code",
      "source": [
        "# Example: Default Fill Mask Pipeline\n",
        "# Classifies text\n",
        "\n",
        "# Create a Default 'text-classification'\n",
        "fm_pipeline = pipeline(\n",
        "    task='fill-mask',\n",
        ")\n",
        "\n",
        "# 'sentiment-analysis' is an alias for 'text-classification'\n",
        "print('\\nMetadata:')\n",
        "display(get_task_metadata('fill-mask', 'pt'))\n",
        "print()\n",
        "\n",
        "\n",
        "# Get model configuration\n",
        "model_config = fm_pipeline.model.config\n",
        "print(f'Class Labels: {model_config.id2label}')\n",
        "print()\n",
        "print(f'Model Card: https://huggingface.co/{model_config._name_or_path}')\n",
        "print()\n",
        "\n",
        "inputs = [\n",
        "    \"I absolutely love this <mask>! It's fast and the camera is <mask>.\",\n",
        "    \"The service at the restaurant was <mask>, and the food was <mask> when it arrived.\",\n",
        "    \"I'm feeling pretty <mask> about the movie—it had some good moments but was mostly <mask>.\",\n",
        "    \"Winning the <mask> was the best experience of my life!\",\n",
        "    \"I can't believe how frustrating this <mask> update is; nothing works properly now.\"\n",
        "]\n",
        "\n",
        "\n",
        "# Execute the text generation model\n",
        "results = fm_pipeline(\n",
        "    inputs=inputs,\n",
        "    top_k=2\n",
        ")\n",
        "\n",
        "# Format # Print the results\n",
        "mr.JSON(results, level=4)"
      ],
      "metadata": {
        "colab": {
          "base_uri": "https://localhost:8080/",
          "height": 1000
        },
        "id": "KmzlZefa-qa2",
        "outputId": "391218b1-ccd8-4f55-f53a-6105fec501e3"
      },
      "execution_count": 29,
      "outputs": [
        {
          "output_type": "stream",
          "name": "stderr",
          "text": [
            "No model was supplied, defaulted to distilbert/distilroberta-base and revision fb53ab8 (https://huggingface.co/distilbert/distilroberta-base).\n",
            "Using a pipeline without specifying a model name and revision in production is not recommended.\n",
            "Some weights of the model checkpoint at distilbert/distilroberta-base were not used when initializing RobertaForMaskedLM: ['roberta.pooler.dense.bias', 'roberta.pooler.dense.weight']\n",
            "- This IS expected if you are initializing RobertaForMaskedLM from the checkpoint of a model trained on another task or with another architecture (e.g. initializing a BertForSequenceClassification model from a BertForPreTraining model).\n",
            "- This IS NOT expected if you are initializing RobertaForMaskedLM from the checkpoint of a model that you expect to be exactly identical (initializing a BertForSequenceClassification model from a BertForSequenceClassification model).\n",
            "Device set to use cpu\n"
          ]
        },
        {
          "output_type": "stream",
          "name": "stdout",
          "text": [
            "\n",
            "Metadata:\n"
          ]
        },
        {
          "output_type": "display_data",
          "data": {
            "text/plain": [
              "{'task_name': 'fill-mask',\n",
              " 'model_name': 'distilbert/distilroberta-base',\n",
              " 'model_revision': 'fb53ab8',\n",
              " 'model_class': \"<class 'transformers.models.auto.modeling_auto.AutoModelForMaskedLM'>\",\n",
              " 'model_type': 'text',\n",
              " 'model_impl': transformers.pipelines.fill_mask.FillMaskPipeline}"
            ]
          },
          "metadata": {}
        },
        {
          "output_type": "stream",
          "name": "stdout",
          "text": [
            "\n",
            "Class Labels: {0: 'LABEL_0', 1: 'LABEL_1'}\n",
            "\n",
            "Model Card: https://huggingface.co/distilbert/distilroberta-base\n",
            "\n"
          ]
        },
        {
          "output_type": "display_data",
          "data": {
            "text/plain": [
              "<IPython.core.display.HTML object>"
            ],
            "text/html": [
              "<style>.renderjson a              { text-decoration: none; }\n",
              ".renderjson .disclosure    { color: grey; font-size: 125%; }\n",
              ".renderjson .syntax        { color: grey; }\n",
              ".renderjson .string        { color: #fe46a5; }\n",
              ".renderjson .number        { color: #0f9b8e; }\n",
              ".renderjson .boolean       { color: black; }\n",
              ".renderjson .key           { color: #2684ff; }\n",
              ".renderjson .keyword       { color: gray; }\n",
              ".renderjson .object.syntax { color: gray; }\n",
              ".renderjson .array.syntax  { color: gray; }</style><div id=\"e1f8f5a2-cc07-448c-b1f2-8cbedd44e84a\"></div>"
            ]
          },
          "metadata": {}
        },
        {
          "output_type": "display_data",
          "data": {
            "text/plain": [
              "<IPython.core.display.HTML object>"
            ],
            "text/html": [
              "<script>var renderjson=function(){var t=function(){for(var t=[];arguments.length;)t.push(n(s(Array.prototype.shift.call(arguments)),o(Array.prototype.shift.call(arguments))));return t},n=function(){for(var t=Array.prototype.shift.call(arguments),e=0;e<arguments.length;e++)arguments[e].constructor==Array?n.apply(this,[t].concat(arguments[e])):t.appendChild(arguments[e]);return t},e=function(t,n){return t.insertBefore(n,t.firstChild),t},r=function(t,n){var e=n||Object.keys(t);for(var r in e)if(Object.hasOwnProperty.call(t,e[r]))return!1;return!0},o=function(t){return document.createTextNode(t)},s=function(t){var n=document.createElement(\"span\");return t&&(n.className=t),n},l=function(t,n,e){var r=document.createElement(\"a\");return n&&(r.className=n),r.appendChild(o(t)),r.href=\"#\",r.onclick=function(t){return e(),t&&t.stopPropagation(),!1},r};function a(i,c,u,p,y){var _=u?\"\":c,f=function(r,a,i,c,u){var f,g=s(c),h=function(){f||n(g.parentNode,f=e(u(),l(y.hide,\"disclosure\",(function(){f.style.display=\"none\",g.style.display=\"inline\"})))),f.style.display=\"inline\",g.style.display=\"none\"};n(g,l(y.show,\"disclosure\",h),t(c+\" syntax\",r),l(a,null,h),t(c+\" syntax\",i));var d=n(s(),o(_.slice(0,-1)),g);return p>0&&\"string\"!=c&&h(),d};return null===i?t(null,_,\"keyword\",\"null\"):void 0===i?t(null,_,\"keyword\",\"undefined\"):\"string\"==typeof i&&i.length>y.max_string_length?f('\"',i.substr(0,y.max_string_length)+\" ...\",'\"',\"string\",(function(){return n(s(\"string\"),t(null,_,\"string\",JSON.stringify(i)))})):\"object\"!=typeof i||[Number,String,Boolean,Date].indexOf(i.constructor)>=0?t(null,_,typeof i,JSON.stringify(i)):i.constructor==Array?0==i.length?t(null,_,\"array syntax\",\"[]\"):f(\"[\",y.collapse_msg(i.length),\"]\",\"array\",(function(){for(var e=n(s(\"array\"),t(\"array syntax\",\"[\",null,\"\\n\")),r=0;r<i.length;r++)n(e,a(y.replacer.call(i,r,i[r]),c+\"    \",!1,p-1,y),r!=i.length-1?t(\"syntax\",\",\"):[],o(\"\\n\"));return n(e,t(null,c,\"array syntax\",\"]\")),e})):r(i,y.property_list)?t(null,_,\"object syntax\",\"{}\"):f(\"{\",y.collapse_msg(Object.keys(i).length),\"}\",\"object\",(function(){var e=n(s(\"object\"),t(\"object syntax\",\"{\",null,\"\\n\"));for(var r in i)var l=r;var u=y.property_list||Object.keys(i);for(var _ in y.sort_objects&&(u=u.sort()),u){(r=u[_])in i&&n(e,t(null,c+\"    \",\"key\",'\"'+r+'\"',\"object syntax\",\": \"),a(y.replacer.call(i,r,i[r]),c+\"    \",!0,p-1,y),r!=l?t(\"syntax\",\",\"):[],o(\"\\n\"))}return n(e,t(null,c,\"object syntax\",\"}\")),e}))}var i=function t(e){var r=new Object(t.options);r.replacer=\"function\"==typeof r.replacer?r.replacer:function(t,n){return n};var o=n(document.createElement(\"pre\"),a(e,\"\",!1,r.show_to_level,r));return o.className=\"renderjson\",o};return i.set_icons=function(t,n){return i.options.show=t,i.options.hide=n,i},i.set_show_to_level=function(t){return i.options.show_to_level=\"string\"==typeof t&&\"all\"===t.toLowerCase()?Number.MAX_VALUE:t,i},i.set_max_string_length=function(t){return i.options.max_string_length=\"string\"==typeof t&&\"none\"===t.toLowerCase()?Number.MAX_VALUE:t,i},i.set_sort_objects=function(t){return i.options.sort_objects=t,i},i.set_replacer=function(t){return i.options.replacer=t,i},i.set_collapse_msg=function(t){return i.options.collapse_msg=t,i},i.set_property_list=function(t){return i.options.property_list=t,i},i.set_show_by_default=function(t){return i.options.show_to_level=t?Number.MAX_VALUE:0,i},i.options={},i.set_icons(\"⊕\",\"⊖\"),i.set_show_by_default(!1),i.set_sort_objects(!1),i.set_max_string_length(\"none\"),i.set_replacer(void 0),i.set_property_list(void 0),i.set_collapse_msg((function(t){return t+\" item\"+(1==t?\"\":\"s\")})),i}(); renderjson.set_show_to_level(4); document.getElementById(\"e1f8f5a2-cc07-448c-b1f2-8cbedd44e84a\").appendChild(renderjson([[[{'score': 0.3331633508205414, 'token': 2280, 'token_str': ' camera', 'sequence': \"<s>I absolutely love this camera! It's fast and the camera is<mask>.</s>\"}, {'score': 0.03793039172887802, 'token': 1028, 'token_str': ' phone', 'sequence': \"<s>I absolutely love this phone! It's fast and the camera is<mask>.</s>\"}], [{'score': 0.12083110958337784, 'token': 12058, 'token_str': ' gorgeous', 'sequence': \"<s>I absolutely love this<mask>! It's fast and the camera is gorgeous.</s>\"}, {'score': 0.11521915346384048, 'token': 4406, 'token_str': ' sharp', 'sequence': \"<s>I absolutely love this<mask>! It's fast and the camera is sharp.</s>\"}]], [[{'score': 0.12758521735668182, 'token': 4206, 'token_str': ' excellent', 'sequence': '<s>The service at the restaurant was excellent, and the food was<mask> when it arrived.</s>'}, {'score': 0.04832185432314873, 'token': 9297, 'token_str': ' exceptional', 'sequence': '<s>The service at the restaurant was exceptional, and the food was<mask> when it arrived.</s>'}], [{'score': 0.09350449591875076, 'token': 9214, 'token_str': ' frozen', 'sequence': '<s>The service at the restaurant was<mask>, and the food was frozen when it arrived.</s>'}, {'score': 0.0598214752972126, 'token': 1665, 'token_str': ' served', 'sequence': '<s>The service at the restaurant was<mask>, and the food was served when it arrived.</s>'}]], [[{'score': 0.29031991958618164, 'token': 205, 'token_str': ' good', 'sequence': \"<s>I'm feeling pretty good about the movie—it had some good moments but was mostly<mask>.</s>\"}, {'score': 0.15128596127033234, 'token': 7168, 'token_str': ' optimistic', 'sequence': \"<s>I'm feeling pretty optimistic about the movie—it had some good moments but was mostly<mask>.</s>\"}], [{'score': 0.12989558279514313, 'token': 15305, 'token_str': ' boring', 'sequence': \"<s>I'm feeling pretty<mask> about the movie—it had some good moments but was mostly boring.</s>\"}, {'score': 0.10331448167562485, 'token': 6770, 'token_str': ' disappointing', 'sequence': \"<s>I'm feeling pretty<mask> about the movie—it had some good moments but was mostly disappointing.</s>\"}]], [{'score': 0.34734177589416504, 'token': 11395, 'token_str': ' lottery', 'sequence': 'Winning the lottery was the best experience of my life!'}, {'score': 0.03575924411416054, 'token': 1270, 'token_str': ' title', 'sequence': 'Winning the title was the best experience of my life!'}], [{'score': 0.146084263920784, 'token': 34569, 'token_str': ' firmware', 'sequence': \"I can't believe how frustrating this firmware update is; nothing works properly now.\"}, {'score': 0.0861474797129631, 'token': 665, 'token_str': ' latest', 'sequence': \"I can't believe how frustrating this latest update is; nothing works properly now.\"}]]))</script>"
            ]
          },
          "metadata": {}
        }
      ]
    },
    {
      "cell_type": "code",
      "source": [
        "# Example: Default Named Entity Recognition\n",
        "# Classifies tokens\n",
        "# NOTE: 'ner' is an alias for 'token-classification'\n",
        "\n",
        "# Create a Default 'ner' pipeline\n",
        "ner_pipeline = pipeline(\n",
        "    task='ner',\n",
        ")\n",
        "\n",
        "# 'sentiment-analysis' is an alias for 'text-classification'\n",
        "print('\\nMetadata:')\n",
        "display(get_task_metadata('token-classification', 'pt'))\n",
        "print()\n",
        "\n",
        "\n",
        "# Get model configuration\n",
        "model_config = ner_pipeline.model.config\n",
        "print(f'Class Labels: {model_config.id2label}')\n",
        "print()\n",
        "print(f'Model Card: https://huggingface.co/{model_config._name_or_path}')\n",
        "print()\n",
        "\n",
        "inputs = [\n",
        "    \"The Titanic sank in the Atlantic Ocean in 1912.\",\n",
        "    \"Pablo Picasso was a Spanish painter and sculptor known for co-founding Cubism.\",\n",
        "    \"J.K. Rowling wrote the Harry Potter series, starting with 'Harry Potter and the Sorcerer’s Stone'.\",\n",
        "    \"The Great Wall of China is one of the Seven Wonders of the World.\",\n",
        "    \"The Oscars, also known as the Academy Awards, recognize excellence in the film industry.\",\n",
        "\n",
        "]\n",
        "\n",
        "\n",
        "# Execute the text generation model\n",
        "results = ner_pipeline(\n",
        "    inputs=inputs,\n",
        "    grouped_entities=True # Re-assembles \"Pablo\" & \"Pacaso\" tokens\n",
        ")\n",
        "\n",
        "# Format # Print the results\n",
        "mr.JSON(convert_np_types(results), level=4)"
      ],
      "metadata": {
        "id": "VQmuIRS0F8c-",
        "colab": {
          "base_uri": "https://localhost:8080/",
          "height": 1000
        },
        "outputId": "16af55f0-c701-4abf-9e3b-ab4eecea3fec"
      },
      "execution_count": 53,
      "outputs": [
        {
          "output_type": "stream",
          "name": "stderr",
          "text": [
            "No model was supplied, defaulted to dbmdz/bert-large-cased-finetuned-conll03-english and revision 4c53496 (https://huggingface.co/dbmdz/bert-large-cased-finetuned-conll03-english).\n",
            "Using a pipeline without specifying a model name and revision in production is not recommended.\n",
            "Some weights of the model checkpoint at dbmdz/bert-large-cased-finetuned-conll03-english were not used when initializing BertForTokenClassification: ['bert.pooler.dense.bias', 'bert.pooler.dense.weight']\n",
            "- This IS expected if you are initializing BertForTokenClassification from the checkpoint of a model trained on another task or with another architecture (e.g. initializing a BertForSequenceClassification model from a BertForPreTraining model).\n",
            "- This IS NOT expected if you are initializing BertForTokenClassification from the checkpoint of a model that you expect to be exactly identical (initializing a BertForSequenceClassification model from a BertForSequenceClassification model).\n",
            "Device set to use cpu\n"
          ]
        },
        {
          "output_type": "stream",
          "name": "stdout",
          "text": [
            "\n",
            "Metadata:\n"
          ]
        },
        {
          "output_type": "display_data",
          "data": {
            "text/plain": [
              "{'task_name': 'token-classification',\n",
              " 'model_name': 'dbmdz/bert-large-cased-finetuned-conll03-english',\n",
              " 'model_revision': '4c53496',\n",
              " 'model_class': \"<class 'transformers.models.auto.modeling_auto.AutoModelForTokenClassification'>\",\n",
              " 'model_type': 'text',\n",
              " 'model_impl': transformers.pipelines.token_classification.TokenClassificationPipeline}"
            ]
          },
          "metadata": {}
        },
        {
          "output_type": "stream",
          "name": "stderr",
          "text": [
            "/usr/local/lib/python3.11/dist-packages/transformers/pipelines/token_classification.py:170: UserWarning: `grouped_entities` is deprecated and will be removed in version v5.0.0, defaulted to `aggregation_strategy=\"AggregationStrategy.SIMPLE\"` instead.\n",
            "  warnings.warn(\n"
          ]
        },
        {
          "output_type": "stream",
          "name": "stdout",
          "text": [
            "\n",
            "Class Labels: {0: 'O', 1: 'B-MISC', 2: 'I-MISC', 3: 'B-PER', 4: 'I-PER', 5: 'B-ORG', 6: 'I-ORG', 7: 'B-LOC', 8: 'I-LOC'}\n",
            "\n",
            "Model Card: https://huggingface.co/dbmdz/bert-large-cased-finetuned-conll03-english\n",
            "\n"
          ]
        },
        {
          "output_type": "display_data",
          "data": {
            "text/plain": [
              "<IPython.core.display.HTML object>"
            ],
            "text/html": [
              "<style>.renderjson a              { text-decoration: none; }\n",
              ".renderjson .disclosure    { color: grey; font-size: 125%; }\n",
              ".renderjson .syntax        { color: grey; }\n",
              ".renderjson .string        { color: #fe46a5; }\n",
              ".renderjson .number        { color: #0f9b8e; }\n",
              ".renderjson .boolean       { color: black; }\n",
              ".renderjson .key           { color: #2684ff; }\n",
              ".renderjson .keyword       { color: gray; }\n",
              ".renderjson .object.syntax { color: gray; }\n",
              ".renderjson .array.syntax  { color: gray; }</style><div id=\"d60dad17-77e6-46f0-831c-645179f516c0\"></div>"
            ]
          },
          "metadata": {}
        },
        {
          "output_type": "display_data",
          "data": {
            "text/plain": [
              "<IPython.core.display.HTML object>"
            ],
            "text/html": [
              "<script>var renderjson=function(){var t=function(){for(var t=[];arguments.length;)t.push(n(s(Array.prototype.shift.call(arguments)),o(Array.prototype.shift.call(arguments))));return t},n=function(){for(var t=Array.prototype.shift.call(arguments),e=0;e<arguments.length;e++)arguments[e].constructor==Array?n.apply(this,[t].concat(arguments[e])):t.appendChild(arguments[e]);return t},e=function(t,n){return t.insertBefore(n,t.firstChild),t},r=function(t,n){var e=n||Object.keys(t);for(var r in e)if(Object.hasOwnProperty.call(t,e[r]))return!1;return!0},o=function(t){return document.createTextNode(t)},s=function(t){var n=document.createElement(\"span\");return t&&(n.className=t),n},l=function(t,n,e){var r=document.createElement(\"a\");return n&&(r.className=n),r.appendChild(o(t)),r.href=\"#\",r.onclick=function(t){return e(),t&&t.stopPropagation(),!1},r};function a(i,c,u,p,y){var _=u?\"\":c,f=function(r,a,i,c,u){var f,g=s(c),h=function(){f||n(g.parentNode,f=e(u(),l(y.hide,\"disclosure\",(function(){f.style.display=\"none\",g.style.display=\"inline\"})))),f.style.display=\"inline\",g.style.display=\"none\"};n(g,l(y.show,\"disclosure\",h),t(c+\" syntax\",r),l(a,null,h),t(c+\" syntax\",i));var d=n(s(),o(_.slice(0,-1)),g);return p>0&&\"string\"!=c&&h(),d};return null===i?t(null,_,\"keyword\",\"null\"):void 0===i?t(null,_,\"keyword\",\"undefined\"):\"string\"==typeof i&&i.length>y.max_string_length?f('\"',i.substr(0,y.max_string_length)+\" ...\",'\"',\"string\",(function(){return n(s(\"string\"),t(null,_,\"string\",JSON.stringify(i)))})):\"object\"!=typeof i||[Number,String,Boolean,Date].indexOf(i.constructor)>=0?t(null,_,typeof i,JSON.stringify(i)):i.constructor==Array?0==i.length?t(null,_,\"array syntax\",\"[]\"):f(\"[\",y.collapse_msg(i.length),\"]\",\"array\",(function(){for(var e=n(s(\"array\"),t(\"array syntax\",\"[\",null,\"\\n\")),r=0;r<i.length;r++)n(e,a(y.replacer.call(i,r,i[r]),c+\"    \",!1,p-1,y),r!=i.length-1?t(\"syntax\",\",\"):[],o(\"\\n\"));return n(e,t(null,c,\"array syntax\",\"]\")),e})):r(i,y.property_list)?t(null,_,\"object syntax\",\"{}\"):f(\"{\",y.collapse_msg(Object.keys(i).length),\"}\",\"object\",(function(){var e=n(s(\"object\"),t(\"object syntax\",\"{\",null,\"\\n\"));for(var r in i)var l=r;var u=y.property_list||Object.keys(i);for(var _ in y.sort_objects&&(u=u.sort()),u){(r=u[_])in i&&n(e,t(null,c+\"    \",\"key\",'\"'+r+'\"',\"object syntax\",\": \"),a(y.replacer.call(i,r,i[r]),c+\"    \",!0,p-1,y),r!=l?t(\"syntax\",\",\"):[],o(\"\\n\"))}return n(e,t(null,c,\"object syntax\",\"}\")),e}))}var i=function t(e){var r=new Object(t.options);r.replacer=\"function\"==typeof r.replacer?r.replacer:function(t,n){return n};var o=n(document.createElement(\"pre\"),a(e,\"\",!1,r.show_to_level,r));return o.className=\"renderjson\",o};return i.set_icons=function(t,n){return i.options.show=t,i.options.hide=n,i},i.set_show_to_level=function(t){return i.options.show_to_level=\"string\"==typeof t&&\"all\"===t.toLowerCase()?Number.MAX_VALUE:t,i},i.set_max_string_length=function(t){return i.options.max_string_length=\"string\"==typeof t&&\"none\"===t.toLowerCase()?Number.MAX_VALUE:t,i},i.set_sort_objects=function(t){return i.options.sort_objects=t,i},i.set_replacer=function(t){return i.options.replacer=t,i},i.set_collapse_msg=function(t){return i.options.collapse_msg=t,i},i.set_property_list=function(t){return i.options.property_list=t,i},i.set_show_by_default=function(t){return i.options.show_to_level=t?Number.MAX_VALUE:0,i},i.options={},i.set_icons(\"⊕\",\"⊖\"),i.set_show_by_default(!1),i.set_sort_objects(!1),i.set_max_string_length(\"none\"),i.set_replacer(void 0),i.set_property_list(void 0),i.set_collapse_msg((function(t){return t+\" item\"+(1==t?\"\":\"s\")})),i}(); renderjson.set_show_to_level(4); document.getElementById(\"d60dad17-77e6-46f0-831c-645179f516c0\").appendChild(renderjson([[{'entity_group': 'MISC', 'score': 0.8621680736541748, 'word': 'Titanic', 'start': 4, 'end': 11}, {'entity_group': 'LOC', 'score': 0.9976879358291626, 'word': 'Atlantic Ocean', 'start': 24, 'end': 38}], [{'entity_group': 'PER', 'score': 0.9983973503112793, 'word': 'Pablo Picasso', 'start': 0, 'end': 13}, {'entity_group': 'MISC', 'score': 0.9976692795753479, 'word': 'Spanish', 'start': 20, 'end': 27}, {'entity_group': 'MISC', 'score': 0.9095709323883057, 'word': 'Cubi', 'start': 71, 'end': 75}, {'entity_group': 'ORG', 'score': 0.5459023118019104, 'word': '##sm', 'start': 75, 'end': 77}], [{'entity_group': 'PER', 'score': 0.9973369240760803, 'word': 'J', 'start': 0, 'end': 1}, {'entity_group': 'PER', 'score': 0.9897366166114807, 'word': 'K. Rowling', 'start': 2, 'end': 12}, {'entity_group': 'MISC', 'score': 0.9827728867530823, 'word': 'Harry Potter', 'start': 23, 'end': 35}, {'entity_group': 'MISC', 'score': 0.9852359294891357, 'word': 'Harry Potter and the Sorcerer ’ s Stone', 'start': 59, 'end': 96}], [{'entity_group': 'LOC', 'score': 0.889606237411499, 'word': 'Great Wall of China', 'start': 4, 'end': 23}, {'entity_group': 'MISC', 'score': 0.9909523129463196, 'word': 'Seven Wonders of the World', 'start': 38, 'end': 64}], [{'entity_group': 'MISC', 'score': 0.990799069404602, 'word': 'Oscars', 'start': 4, 'end': 10}, {'entity_group': 'MISC', 'score': 0.9948880672454834, 'word': 'Academy Awards', 'start': 30, 'end': 44}]]))</script>"
            ]
          },
          "metadata": {}
        }
      ]
    },
    {
      "cell_type": "code",
      "source": [
        "# Example: Default Summarization Pipeline\n",
        "# Classifies text\n",
        "\n",
        "# Create a Default 'summarization'\n",
        "sum_pipeline = pipeline(\n",
        "    task='summarization',\n",
        ")\n",
        "\n",
        "print('\\nMetadata:')\n",
        "display(get_task_metadata('summarization', 'pt'))\n",
        "print()\n",
        "\n",
        "\n",
        "# Get model configuration\n",
        "model_config = sum_pipeline.model.config\n",
        "print(f'Class Labels: {model_config.id2label}')\n",
        "print()\n",
        "print(f'Model Card: https://huggingface.co/{model_config._name_or_path}')\n",
        "print()\n",
        "\n",
        "inputs = '''Traditional hand tool woodworking is a craft that emphasizes\n",
        "precision, skill, and patience. Unlike modern power tools, hand tools such as\n",
        "chisels, hand planes, and saws allow artisans to shape wood with a high level\n",
        "of control. This method of woodworking has been practiced for centuries, relying\n",
        " on techniques passed down through generations to create furniture, cabinetry,\n",
        " and intricate wood carvings.\n",
        "\n",
        "One of the key benefits of working with hand tools is the ability to produce\n",
        "fine, detailed joinery without the noise and dust associated with power tools.\n",
        "Techniques like dovetail joints, mortise and tenon connections, and hand-planed\n",
        "surfaces showcase the craftsmanship involved. Woodworkers often select tools\n",
        "based on the type of wood they are working with, ensuring smooth cuts and\n",
        "precise fittings.\n",
        "\n",
        "In addition to its practical advantages, hand tool woodworking fosters a deep\n",
        "connection between the artisan and the material. The rhythmic motion of a hand\n",
        "saw or the delicate shaving of a plane allows for a meditative experience that\n",
        "many woodworkers find rewarding. As more people seek sustainable and traditional\n",
        " crafting methods, hand tool woodworking continues to thrive, preserving\n",
        " historical skills while promoting an appreciation for high-quality, handmade\n",
        " pieces.\n",
        "'''\n",
        "\n",
        "\n",
        "# Execute the text generation model\n",
        "results = sum_pipeline(inputs)\n",
        "results = results[0]['summary_text']\n",
        "\n",
        "# Format # Print the\n",
        "print('Result:')\n",
        "display(HTML(f\"<pre style='white-space: pre-wrap; word-wrap: break-word;'>{results}</pre>\"))"
      ],
      "metadata": {
        "id": "9mu8O4_Fv5iE"
      },
      "execution_count": 77,
      "outputs": []
    },
    {
      "cell_type": "code",
      "source": [
        "# Observation: The summary is ALMOST there, but only makes sense under great effort\n",
        "# but the reader."
      ],
      "metadata": {
        "id": "jVidXTgM2h-P"
      },
      "execution_count": null,
      "outputs": []
    },
    {
      "cell_type": "code",
      "source": [
        "# Example: Default Question Answering\n",
        "# Classifies tokens\n",
        "\n",
        "\n",
        "# Create a Default 'question-answering' pipeline\n",
        "qa_pipeline = pipeline(\n",
        "    task='question-answering'\n",
        ")\n",
        "\n",
        "print('\\nMetadata:')\n",
        "display(get_task_metadata('question-answering', 'pt'))\n",
        "print()\n",
        "\n",
        "\n",
        "# Get model configuration\n",
        "model_config = qa_pipeline.model.config\n",
        "print(f'Class Labels: {model_config.id2label}')\n",
        "print()\n",
        "print(f'Model Card: https://huggingface.co/{model_config._name_or_path}')\n",
        "print()\n",
        "\n",
        "# Use the three paragraphs about handtool woodworking defined above.\n",
        "context = inputs\n",
        "\n",
        "question = \"What are some tools used in hand tool woodworking?\"\n",
        "\n",
        "# Execute the text generation model\n",
        "results = qa_pipeline(\n",
        "    question=question,\n",
        "    context=context\n",
        ")\n",
        "\n",
        "# Format # Print the results\n",
        "mr.JSON(convert_np_types(results), level=4)"
      ],
      "metadata": {
        "colab": {
          "base_uri": "https://localhost:8080/",
          "height": 423
        },
        "id": "ZezsVSwT-B0u",
        "outputId": "7cf266fc-1365-4675-9b94-6fdbdd77cfd5"
      },
      "execution_count": 81,
      "outputs": [
        {
          "output_type": "stream",
          "name": "stderr",
          "text": [
            "No model was supplied, defaulted to distilbert/distilbert-base-cased-distilled-squad and revision 564e9b5 (https://huggingface.co/distilbert/distilbert-base-cased-distilled-squad).\n",
            "Using a pipeline without specifying a model name and revision in production is not recommended.\n",
            "Device set to use cpu\n"
          ]
        },
        {
          "output_type": "stream",
          "name": "stdout",
          "text": [
            "\n",
            "Metadata:\n"
          ]
        },
        {
          "output_type": "display_data",
          "data": {
            "text/plain": [
              "{'task_name': 'question-answering',\n",
              " 'model_name': 'distilbert/distilbert-base-cased-distilled-squad',\n",
              " 'model_revision': '564e9b5',\n",
              " 'model_class': \"<class 'transformers.models.auto.modeling_auto.AutoModelForQuestionAnswering'>\",\n",
              " 'model_type': 'text',\n",
              " 'model_impl': transformers.pipelines.question_answering.QuestionAnsweringPipeline}"
            ]
          },
          "metadata": {}
        },
        {
          "output_type": "stream",
          "name": "stdout",
          "text": [
            "\n",
            "Class Labels: {0: 'LABEL_0', 1: 'LABEL_1'}\n",
            "\n",
            "Model Card: https://huggingface.co/distilbert/distilbert-base-cased-distilled-squad\n",
            "\n"
          ]
        },
        {
          "output_type": "display_data",
          "data": {
            "text/plain": [
              "<IPython.core.display.HTML object>"
            ],
            "text/html": [
              "<style>.renderjson a              { text-decoration: none; }\n",
              ".renderjson .disclosure    { color: grey; font-size: 125%; }\n",
              ".renderjson .syntax        { color: grey; }\n",
              ".renderjson .string        { color: #fe46a5; }\n",
              ".renderjson .number        { color: #0f9b8e; }\n",
              ".renderjson .boolean       { color: black; }\n",
              ".renderjson .key           { color: #2684ff; }\n",
              ".renderjson .keyword       { color: gray; }\n",
              ".renderjson .object.syntax { color: gray; }\n",
              ".renderjson .array.syntax  { color: gray; }</style><div id=\"2db4db83-dcb6-465e-b1d6-527cd76151d6\"></div>"
            ]
          },
          "metadata": {}
        },
        {
          "output_type": "display_data",
          "data": {
            "text/plain": [
              "<IPython.core.display.HTML object>"
            ],
            "text/html": [
              "<script>var renderjson=function(){var t=function(){for(var t=[];arguments.length;)t.push(n(s(Array.prototype.shift.call(arguments)),o(Array.prototype.shift.call(arguments))));return t},n=function(){for(var t=Array.prototype.shift.call(arguments),e=0;e<arguments.length;e++)arguments[e].constructor==Array?n.apply(this,[t].concat(arguments[e])):t.appendChild(arguments[e]);return t},e=function(t,n){return t.insertBefore(n,t.firstChild),t},r=function(t,n){var e=n||Object.keys(t);for(var r in e)if(Object.hasOwnProperty.call(t,e[r]))return!1;return!0},o=function(t){return document.createTextNode(t)},s=function(t){var n=document.createElement(\"span\");return t&&(n.className=t),n},l=function(t,n,e){var r=document.createElement(\"a\");return n&&(r.className=n),r.appendChild(o(t)),r.href=\"#\",r.onclick=function(t){return e(),t&&t.stopPropagation(),!1},r};function a(i,c,u,p,y){var _=u?\"\":c,f=function(r,a,i,c,u){var f,g=s(c),h=function(){f||n(g.parentNode,f=e(u(),l(y.hide,\"disclosure\",(function(){f.style.display=\"none\",g.style.display=\"inline\"})))),f.style.display=\"inline\",g.style.display=\"none\"};n(g,l(y.show,\"disclosure\",h),t(c+\" syntax\",r),l(a,null,h),t(c+\" syntax\",i));var d=n(s(),o(_.slice(0,-1)),g);return p>0&&\"string\"!=c&&h(),d};return null===i?t(null,_,\"keyword\",\"null\"):void 0===i?t(null,_,\"keyword\",\"undefined\"):\"string\"==typeof i&&i.length>y.max_string_length?f('\"',i.substr(0,y.max_string_length)+\" ...\",'\"',\"string\",(function(){return n(s(\"string\"),t(null,_,\"string\",JSON.stringify(i)))})):\"object\"!=typeof i||[Number,String,Boolean,Date].indexOf(i.constructor)>=0?t(null,_,typeof i,JSON.stringify(i)):i.constructor==Array?0==i.length?t(null,_,\"array syntax\",\"[]\"):f(\"[\",y.collapse_msg(i.length),\"]\",\"array\",(function(){for(var e=n(s(\"array\"),t(\"array syntax\",\"[\",null,\"\\n\")),r=0;r<i.length;r++)n(e,a(y.replacer.call(i,r,i[r]),c+\"    \",!1,p-1,y),r!=i.length-1?t(\"syntax\",\",\"):[],o(\"\\n\"));return n(e,t(null,c,\"array syntax\",\"]\")),e})):r(i,y.property_list)?t(null,_,\"object syntax\",\"{}\"):f(\"{\",y.collapse_msg(Object.keys(i).length),\"}\",\"object\",(function(){var e=n(s(\"object\"),t(\"object syntax\",\"{\",null,\"\\n\"));for(var r in i)var l=r;var u=y.property_list||Object.keys(i);for(var _ in y.sort_objects&&(u=u.sort()),u){(r=u[_])in i&&n(e,t(null,c+\"    \",\"key\",'\"'+r+'\"',\"object syntax\",\": \"),a(y.replacer.call(i,r,i[r]),c+\"    \",!0,p-1,y),r!=l?t(\"syntax\",\",\"):[],o(\"\\n\"))}return n(e,t(null,c,\"object syntax\",\"}\")),e}))}var i=function t(e){var r=new Object(t.options);r.replacer=\"function\"==typeof r.replacer?r.replacer:function(t,n){return n};var o=n(document.createElement(\"pre\"),a(e,\"\",!1,r.show_to_level,r));return o.className=\"renderjson\",o};return i.set_icons=function(t,n){return i.options.show=t,i.options.hide=n,i},i.set_show_to_level=function(t){return i.options.show_to_level=\"string\"==typeof t&&\"all\"===t.toLowerCase()?Number.MAX_VALUE:t,i},i.set_max_string_length=function(t){return i.options.max_string_length=\"string\"==typeof t&&\"none\"===t.toLowerCase()?Number.MAX_VALUE:t,i},i.set_sort_objects=function(t){return i.options.sort_objects=t,i},i.set_replacer=function(t){return i.options.replacer=t,i},i.set_collapse_msg=function(t){return i.options.collapse_msg=t,i},i.set_property_list=function(t){return i.options.property_list=t,i},i.set_show_by_default=function(t){return i.options.show_to_level=t?Number.MAX_VALUE:0,i},i.options={},i.set_icons(\"⊕\",\"⊖\"),i.set_show_by_default(!1),i.set_sort_objects(!1),i.set_max_string_length(\"none\"),i.set_replacer(void 0),i.set_property_list(void 0),i.set_collapse_msg((function(t){return t+\" item\"+(1==t?\"\":\"s\")})),i}(); renderjson.set_show_to_level(4); document.getElementById(\"2db4db83-dcb6-465e-b1d6-527cd76151d6\").appendChild(renderjson({\"score\": 0.9732940793037415, \"start\": 141, \"end\": 171, \"answer\": \"chisels, hand planes, and saws\"}))</script>"
            ]
          },
          "metadata": {}
        }
      ]
    },
    {
      "cell_type": "code",
      "source": [
        "# Example: Default Translation, with specific model\n",
        "# Classifies tokens\n",
        "\n",
        "\n",
        "# Create a Default 'translation' pipeline\n",
        "tr_pipeline = pipeline(\n",
        "    task='translation',\n",
        "    model=\"Helsinki-NLP/opus-mt-fr-en\"\n",
        ")\n",
        "\n",
        "print('\\nMetadata:')\n",
        "display(get_task_metadata('translation', 'pt'))\n",
        "print()\n",
        "\n",
        "\n",
        "# Get model configuration\n",
        "model_config = tr_pipeline.model.config\n",
        "print(f'Class Labels: {model_config.id2label}')\n",
        "print()\n",
        "print(f'Model Card: https://huggingface.co/{model_config._name_or_path}')\n",
        "print()\n",
        "\n",
        "inputs = [\n",
        "    \"Bonjour, comment allez-vous ?\",\n",
        "    \"Il fait beau aujourd'hui.\",\n",
        "    \"Je voudrais un café, s'il vous plaît.\",\n",
        "    \"Où est la gare ?\",\n",
        "    \"Merci, au revoir.\"\n",
        "]\n",
        "\n",
        "'''English Reference\n",
        "\n",
        "    \"Hello, how are you?\",\n",
        "    \"The weather is nice today.\",\n",
        "    \"I would like a coffee, please.\",\n",
        "    \"Where is the train station?\",\n",
        "    \"Thank you, goodbye.\"\n",
        "'''\n",
        "\n",
        "\n",
        "# Execute the text generation model\n",
        "results = tr_pipeline(inputs)\n",
        "\n",
        "# Format # Print the results\n",
        "mr.JSON(convert_np_types(results), level=4)"
      ],
      "metadata": {
        "colab": {
          "base_uri": "https://localhost:8080/",
          "height": 581
        },
        "id": "SY0wp62bzMNJ",
        "outputId": "5055d725-3d90-4dc5-a0bc-10ad5cdd0c81"
      },
      "execution_count": 74,
      "outputs": [
        {
          "output_type": "stream",
          "name": "stderr",
          "text": [
            "Device set to use cpu\n"
          ]
        },
        {
          "output_type": "stream",
          "name": "stdout",
          "text": [
            "\n",
            "Metadata:\n"
          ]
        },
        {
          "output_type": "display_data",
          "data": {
            "text/plain": [
              "{'task_name': 'translation',\n",
              " 'model_name': 'google-t5/t5-base',\n",
              " 'model_revision': 'a9723ea',\n",
              " 'model_class': \"<class 'transformers.models.auto.modeling_auto.AutoModelForSeq2SeqLM'>\",\n",
              " 'model_type': 'text',\n",
              " 'model_impl': transformers.pipelines.text2text_generation.TranslationPipeline}"
            ]
          },
          "metadata": {}
        },
        {
          "output_type": "stream",
          "name": "stdout",
          "text": [
            "\n",
            "Class Labels: {0: 'LABEL_0', 1: 'LABEL_1', 2: 'LABEL_2'}\n",
            "\n",
            "Model Card: https://huggingface.co/Helsinki-NLP/opus-mt-fr-en\n",
            "\n"
          ]
        },
        {
          "output_type": "display_data",
          "data": {
            "text/plain": [
              "<IPython.core.display.HTML object>"
            ],
            "text/html": [
              "<style>.renderjson a              { text-decoration: none; }\n",
              ".renderjson .disclosure    { color: grey; font-size: 125%; }\n",
              ".renderjson .syntax        { color: grey; }\n",
              ".renderjson .string        { color: #fe46a5; }\n",
              ".renderjson .number        { color: #0f9b8e; }\n",
              ".renderjson .boolean       { color: black; }\n",
              ".renderjson .key           { color: #2684ff; }\n",
              ".renderjson .keyword       { color: gray; }\n",
              ".renderjson .object.syntax { color: gray; }\n",
              ".renderjson .array.syntax  { color: gray; }</style><div id=\"c05163e5-57bb-4266-a396-4846ca6aa43d\"></div>"
            ]
          },
          "metadata": {}
        },
        {
          "output_type": "display_data",
          "data": {
            "text/plain": [
              "<IPython.core.display.HTML object>"
            ],
            "text/html": [
              "<script>var renderjson=function(){var t=function(){for(var t=[];arguments.length;)t.push(n(s(Array.prototype.shift.call(arguments)),o(Array.prototype.shift.call(arguments))));return t},n=function(){for(var t=Array.prototype.shift.call(arguments),e=0;e<arguments.length;e++)arguments[e].constructor==Array?n.apply(this,[t].concat(arguments[e])):t.appendChild(arguments[e]);return t},e=function(t,n){return t.insertBefore(n,t.firstChild),t},r=function(t,n){var e=n||Object.keys(t);for(var r in e)if(Object.hasOwnProperty.call(t,e[r]))return!1;return!0},o=function(t){return document.createTextNode(t)},s=function(t){var n=document.createElement(\"span\");return t&&(n.className=t),n},l=function(t,n,e){var r=document.createElement(\"a\");return n&&(r.className=n),r.appendChild(o(t)),r.href=\"#\",r.onclick=function(t){return e(),t&&t.stopPropagation(),!1},r};function a(i,c,u,p,y){var _=u?\"\":c,f=function(r,a,i,c,u){var f,g=s(c),h=function(){f||n(g.parentNode,f=e(u(),l(y.hide,\"disclosure\",(function(){f.style.display=\"none\",g.style.display=\"inline\"})))),f.style.display=\"inline\",g.style.display=\"none\"};n(g,l(y.show,\"disclosure\",h),t(c+\" syntax\",r),l(a,null,h),t(c+\" syntax\",i));var d=n(s(),o(_.slice(0,-1)),g);return p>0&&\"string\"!=c&&h(),d};return null===i?t(null,_,\"keyword\",\"null\"):void 0===i?t(null,_,\"keyword\",\"undefined\"):\"string\"==typeof i&&i.length>y.max_string_length?f('\"',i.substr(0,y.max_string_length)+\" ...\",'\"',\"string\",(function(){return n(s(\"string\"),t(null,_,\"string\",JSON.stringify(i)))})):\"object\"!=typeof i||[Number,String,Boolean,Date].indexOf(i.constructor)>=0?t(null,_,typeof i,JSON.stringify(i)):i.constructor==Array?0==i.length?t(null,_,\"array syntax\",\"[]\"):f(\"[\",y.collapse_msg(i.length),\"]\",\"array\",(function(){for(var e=n(s(\"array\"),t(\"array syntax\",\"[\",null,\"\\n\")),r=0;r<i.length;r++)n(e,a(y.replacer.call(i,r,i[r]),c+\"    \",!1,p-1,y),r!=i.length-1?t(\"syntax\",\",\"):[],o(\"\\n\"));return n(e,t(null,c,\"array syntax\",\"]\")),e})):r(i,y.property_list)?t(null,_,\"object syntax\",\"{}\"):f(\"{\",y.collapse_msg(Object.keys(i).length),\"}\",\"object\",(function(){var e=n(s(\"object\"),t(\"object syntax\",\"{\",null,\"\\n\"));for(var r in i)var l=r;var u=y.property_list||Object.keys(i);for(var _ in y.sort_objects&&(u=u.sort()),u){(r=u[_])in i&&n(e,t(null,c+\"    \",\"key\",'\"'+r+'\"',\"object syntax\",\": \"),a(y.replacer.call(i,r,i[r]),c+\"    \",!0,p-1,y),r!=l?t(\"syntax\",\",\"):[],o(\"\\n\"))}return n(e,t(null,c,\"object syntax\",\"}\")),e}))}var i=function t(e){var r=new Object(t.options);r.replacer=\"function\"==typeof r.replacer?r.replacer:function(t,n){return n};var o=n(document.createElement(\"pre\"),a(e,\"\",!1,r.show_to_level,r));return o.className=\"renderjson\",o};return i.set_icons=function(t,n){return i.options.show=t,i.options.hide=n,i},i.set_show_to_level=function(t){return i.options.show_to_level=\"string\"==typeof t&&\"all\"===t.toLowerCase()?Number.MAX_VALUE:t,i},i.set_max_string_length=function(t){return i.options.max_string_length=\"string\"==typeof t&&\"none\"===t.toLowerCase()?Number.MAX_VALUE:t,i},i.set_sort_objects=function(t){return i.options.sort_objects=t,i},i.set_replacer=function(t){return i.options.replacer=t,i},i.set_collapse_msg=function(t){return i.options.collapse_msg=t,i},i.set_property_list=function(t){return i.options.property_list=t,i},i.set_show_by_default=function(t){return i.options.show_to_level=t?Number.MAX_VALUE:0,i},i.options={},i.set_icons(\"⊕\",\"⊖\"),i.set_show_by_default(!1),i.set_sort_objects(!1),i.set_max_string_length(\"none\"),i.set_replacer(void 0),i.set_property_list(void 0),i.set_collapse_msg((function(t){return t+\" item\"+(1==t?\"\":\"s\")})),i}(); renderjson.set_show_to_level(4); document.getElementById(\"c05163e5-57bb-4266-a396-4846ca6aa43d\").appendChild(renderjson([{'translation_text': 'Hello, how are you?'}, {'translation_text': \"It's beautiful today.\"}, {'translation_text': \"I'd like some coffee, please.\"}, {'translation_text': \"Where's the station?\"}, {'translation_text': 'Thank you, bye.'}]))</script>"
            ]
          },
          "metadata": {}
        }
      ]
    },
    {
      "cell_type": "code",
      "source": [],
      "metadata": {
        "id": "bRLIJ6L2845n"
      },
      "execution_count": null,
      "outputs": []
    }
  ]
}